{
  "metadata": {
    "kernelspec": {
      "language": "python",
      "display_name": "Python 3",
      "name": "python3"
    },
    "language_info": {
      "name": "python",
      "version": "3.7.12",
      "mimetype": "text/x-python",
      "codemirror_mode": {
        "name": "ipython",
        "version": 3
      },
      "pygments_lexer": "ipython3",
      "nbconvert_exporter": "python",
      "file_extension": ".py"
    },
    "colab": {
      "provenance": []
    }
  },
  "nbformat_minor": 0,
  "nbformat": 4,
  "cells": [
    {
      "cell_type": "markdown",
      "source": [
        "  ## Dataset: Cardiovascular heart disease\n",
        "  ## Dataset URL: https://www.kaggle.com/datasets/sulianova/cardiovascular-disease-dataset\n",
        "  ## Algorithms Used: Support Vector Classifier (SVC)\n"
      ],
      "metadata": {
        "id": "Xg5e6YzxveCj"
      }
    },
    {
      "cell_type": "markdown",
      "source": [
        "# Setup <a class=\"anchor\"  id=\"setup\"></a>\n"
      ],
      "metadata": {
        "id": "9SgEQqImuGPu"
      }
    },
    {
      "cell_type": "markdown",
      "source": [
        "Importing all the required libraries and functions"
      ],
      "metadata": {
        "id": "v_HuthuSZ8pi"
      }
    },
    {
      "cell_type": "code",
      "source": [
        "!pip uninstall scikit-learn\n",
        "!pip install scikit-learn\n",
        "!pip install matplotlib"
      ],
      "metadata": {
        "colab": {
          "base_uri": "https://localhost:8080/"
        },
        "id": "W5alGHS6NJee",
        "outputId": "aba0af1e-eef1-489f-a95d-f5116f91c959"
      },
      "execution_count": 1,
      "outputs": [
        {
          "output_type": "stream",
          "name": "stdout",
          "text": [
            "Found existing installation: scikit-learn 1.2.1\n",
            "Uninstalling scikit-learn-1.2.1:\n",
            "  Would remove:\n",
            "    /usr/local/lib/python3.9/dist-packages/scikit_learn-1.2.1.dist-info/*\n",
            "    /usr/local/lib/python3.9/dist-packages/scikit_learn.libs/libgomp-a34b3233.so.1.0.0\n",
            "    /usr/local/lib/python3.9/dist-packages/sklearn/*\n",
            "Proceed (Y/n)? Y\n",
            "  Successfully uninstalled scikit-learn-1.2.1\n",
            "Looking in indexes: https://pypi.org/simple, https://us-python.pkg.dev/colab-wheels/public/simple/\n",
            "Collecting scikit-learn\n",
            "  Downloading scikit_learn-1.2.2-cp39-cp39-manylinux_2_17_x86_64.manylinux2014_x86_64.whl (9.6 MB)\n",
            "\u001b[2K     \u001b[90m━━━━━━━━━━━━━━━━━━━━━━━━━━━━━━━━━━━━━━━━\u001b[0m \u001b[32m9.6/9.6 MB\u001b[0m \u001b[31m51.2 MB/s\u001b[0m eta \u001b[36m0:00:00\u001b[0m\n",
            "\u001b[?25hRequirement already satisfied: numpy>=1.17.3 in /usr/local/lib/python3.9/dist-packages (from scikit-learn) (1.22.4)\n",
            "Requirement already satisfied: joblib>=1.1.1 in /usr/local/lib/python3.9/dist-packages (from scikit-learn) (1.2.0)\n",
            "Requirement already satisfied: threadpoolctl>=2.0.0 in /usr/local/lib/python3.9/dist-packages (from scikit-learn) (3.1.0)\n",
            "Requirement already satisfied: scipy>=1.3.2 in /usr/local/lib/python3.9/dist-packages (from scikit-learn) (1.10.1)\n",
            "Installing collected packages: scikit-learn\n",
            "Successfully installed scikit-learn-1.2.2\n",
            "Looking in indexes: https://pypi.org/simple, https://us-python.pkg.dev/colab-wheels/public/simple/\n",
            "Requirement already satisfied: matplotlib in /usr/local/lib/python3.9/dist-packages (3.5.3)\n",
            "Requirement already satisfied: packaging>=20.0 in /usr/local/lib/python3.9/dist-packages (from matplotlib) (23.0)\n",
            "Requirement already satisfied: pillow>=6.2.0 in /usr/local/lib/python3.9/dist-packages (from matplotlib) (8.4.0)\n",
            "Requirement already satisfied: pyparsing>=2.2.1 in /usr/local/lib/python3.9/dist-packages (from matplotlib) (3.0.9)\n",
            "Requirement already satisfied: cycler>=0.10 in /usr/local/lib/python3.9/dist-packages (from matplotlib) (0.11.0)\n",
            "Requirement already satisfied: python-dateutil>=2.7 in /usr/local/lib/python3.9/dist-packages (from matplotlib) (2.8.2)\n",
            "Requirement already satisfied: kiwisolver>=1.0.1 in /usr/local/lib/python3.9/dist-packages (from matplotlib) (1.4.4)\n",
            "Requirement already satisfied: numpy>=1.17 in /usr/local/lib/python3.9/dist-packages (from matplotlib) (1.22.4)\n",
            "Requirement already satisfied: fonttools>=4.22.0 in /usr/local/lib/python3.9/dist-packages (from matplotlib) (4.39.0)\n",
            "Requirement already satisfied: six>=1.5 in /usr/local/lib/python3.9/dist-packages (from python-dateutil>=2.7->matplotlib) (1.15.0)\n"
          ]
        }
      ]
    },
    {
      "cell_type": "code",
      "source": [
        "### Data Handline\n",
        "import pandas as pd\n",
        "import numpy as np\n",
        "\n",
        "### Utility\n",
        "import math\n",
        "import warnings\n",
        "import string\n",
        "\n",
        "### Plotting\n",
        "# Matplotlib\n",
        "import matplotlib.pyplot as plt\n",
        "from matplotlib.legend_handler import HandlerLine2D\n",
        "\n",
        "\n",
        "# Model\n",
        "import sklearn\n",
        "from sklearn.preprocessing import StandardScaler\n",
        "from sklearn.preprocessing import MinMaxScaler\n",
        "import statsmodels.api as sm\n",
        "import statsmodels.formula.api as smf\n",
        "\n",
        "# Scikit-learn\n",
        "from sklearn.linear_model import LogisticRegression \n",
        "from sklearn.model_selection import train_test_split\n",
        "from sklearn.metrics import confusion_matrix, classification_report\n",
        "from sklearn.metrics import accuracy_score\n",
        "from sklearn.metrics import confusion_matrix, ConfusionMatrixDisplay\n",
        "from sklearn.tree import DecisionTreeClassifier\n",
        "from sklearn import metrics\n",
        "from sklearn.ensemble import GradientBoostingClassifier\n",
        "from sklearn.model_selection import GridSearchCV\n",
        "from sklearn.model_selection import cross_validate\n",
        "from sklearn.model_selection import KFold\n",
        "from sklearn.metrics import ConfusionMatrixDisplay \n",
        "\n",
        "\n",
        "#LDA\n",
        "from sklearn.model_selection import RepeatedStratifiedKFold\n",
        "from sklearn.model_selection import cross_val_score\n",
        "from sklearn.discriminant_analysis import LinearDiscriminantAnalysis\n",
        "\n",
        "#QDA\n",
        "from sklearn.discriminant_analysis import QuadraticDiscriminantAnalysis\n",
        "from sklearn.feature_selection import SequentialFeatureSelector\n",
        "\n",
        "#RND Forest\n",
        "from sklearn.ensemble import RandomForestClassifier\n",
        "\n",
        "# K Nearest Neighbors\n",
        "from sklearn.neighbors import KNeighborsClassifier\n",
        "\n",
        "#Support Vector Classifier\n",
        "from sklearn import svm\n",
        "from sklearn.svm import LinearSVC\n",
        "\n",
        "# Seaborn\n",
        "import seaborn as sns\n",
        "\n",
        "warnings.filterwarnings(\"ignore\")"
      ],
      "metadata": {
        "id": "zfnjCfA7qg1z",
        "execution": {
          "iopub.status.busy": "2022-11-03T08:32:10.214352Z",
          "iopub.execute_input": "2022-11-03T08:32:10.214806Z",
          "iopub.status.idle": "2022-11-03T08:32:10.225453Z",
          "shell.execute_reply.started": "2022-11-03T08:32:10.214773Z",
          "shell.execute_reply": "2022-11-03T08:32:10.224157Z"
        },
        "trusted": true
      },
      "execution_count": 2,
      "outputs": []
    },
    {
      "cell_type": "markdown",
      "source": [
        "**Read dataset.**"
      ],
      "metadata": {
        "id": "o-YDyJEtaTag"
      }
    },
    {
      "cell_type": "code",
      "source": [
        "cardio = pd.read_csv(\"/content/cardio_train.csv\",delimiter=\";\")\n",
        "\n",
        "cardio.head()"
      ],
      "metadata": {
        "id": "O72kFq1LuZgy",
        "outputId": "9f6681fb-b877-4394-dfab-144b9be5de73",
        "execution": {
          "iopub.status.busy": "2022-11-03T08:32:10.273442Z",
          "iopub.execute_input": "2022-11-03T08:32:10.274545Z",
          "iopub.status.idle": "2022-11-03T08:32:10.379901Z",
          "shell.execute_reply.started": "2022-11-03T08:32:10.274504Z",
          "shell.execute_reply": "2022-11-03T08:32:10.378729Z"
        },
        "trusted": true,
        "colab": {
          "base_uri": "https://localhost:8080/",
          "height": 206
        }
      },
      "execution_count": 3,
      "outputs": [
        {
          "output_type": "execute_result",
          "data": {
            "text/plain": [
              "   id    age  gender  height  weight  ap_hi  ap_lo  cholesterol  gluc  smoke  \\\n",
              "0   0  18393       2     168    62.0    110     80            1     1      0   \n",
              "1   1  20228       1     156    85.0    140     90            3     1      0   \n",
              "2   2  18857       1     165    64.0    130     70            3     1      0   \n",
              "3   3  17623       2     169    82.0    150    100            1     1      0   \n",
              "4   4  17474       1     156    56.0    100     60            1     1      0   \n",
              "\n",
              "   alco  active  cardio  \n",
              "0     0       1       0  \n",
              "1     0       1       1  \n",
              "2     0       0       1  \n",
              "3     0       1       1  \n",
              "4     0       0       0  "
            ],
            "text/html": [
              "\n",
              "  <div id=\"df-4394e18f-254e-468f-986e-577197f3c5e3\">\n",
              "    <div class=\"colab-df-container\">\n",
              "      <div>\n",
              "<style scoped>\n",
              "    .dataframe tbody tr th:only-of-type {\n",
              "        vertical-align: middle;\n",
              "    }\n",
              "\n",
              "    .dataframe tbody tr th {\n",
              "        vertical-align: top;\n",
              "    }\n",
              "\n",
              "    .dataframe thead th {\n",
              "        text-align: right;\n",
              "    }\n",
              "</style>\n",
              "<table border=\"1\" class=\"dataframe\">\n",
              "  <thead>\n",
              "    <tr style=\"text-align: right;\">\n",
              "      <th></th>\n",
              "      <th>id</th>\n",
              "      <th>age</th>\n",
              "      <th>gender</th>\n",
              "      <th>height</th>\n",
              "      <th>weight</th>\n",
              "      <th>ap_hi</th>\n",
              "      <th>ap_lo</th>\n",
              "      <th>cholesterol</th>\n",
              "      <th>gluc</th>\n",
              "      <th>smoke</th>\n",
              "      <th>alco</th>\n",
              "      <th>active</th>\n",
              "      <th>cardio</th>\n",
              "    </tr>\n",
              "  </thead>\n",
              "  <tbody>\n",
              "    <tr>\n",
              "      <th>0</th>\n",
              "      <td>0</td>\n",
              "      <td>18393</td>\n",
              "      <td>2</td>\n",
              "      <td>168</td>\n",
              "      <td>62.0</td>\n",
              "      <td>110</td>\n",
              "      <td>80</td>\n",
              "      <td>1</td>\n",
              "      <td>1</td>\n",
              "      <td>0</td>\n",
              "      <td>0</td>\n",
              "      <td>1</td>\n",
              "      <td>0</td>\n",
              "    </tr>\n",
              "    <tr>\n",
              "      <th>1</th>\n",
              "      <td>1</td>\n",
              "      <td>20228</td>\n",
              "      <td>1</td>\n",
              "      <td>156</td>\n",
              "      <td>85.0</td>\n",
              "      <td>140</td>\n",
              "      <td>90</td>\n",
              "      <td>3</td>\n",
              "      <td>1</td>\n",
              "      <td>0</td>\n",
              "      <td>0</td>\n",
              "      <td>1</td>\n",
              "      <td>1</td>\n",
              "    </tr>\n",
              "    <tr>\n",
              "      <th>2</th>\n",
              "      <td>2</td>\n",
              "      <td>18857</td>\n",
              "      <td>1</td>\n",
              "      <td>165</td>\n",
              "      <td>64.0</td>\n",
              "      <td>130</td>\n",
              "      <td>70</td>\n",
              "      <td>3</td>\n",
              "      <td>1</td>\n",
              "      <td>0</td>\n",
              "      <td>0</td>\n",
              "      <td>0</td>\n",
              "      <td>1</td>\n",
              "    </tr>\n",
              "    <tr>\n",
              "      <th>3</th>\n",
              "      <td>3</td>\n",
              "      <td>17623</td>\n",
              "      <td>2</td>\n",
              "      <td>169</td>\n",
              "      <td>82.0</td>\n",
              "      <td>150</td>\n",
              "      <td>100</td>\n",
              "      <td>1</td>\n",
              "      <td>1</td>\n",
              "      <td>0</td>\n",
              "      <td>0</td>\n",
              "      <td>1</td>\n",
              "      <td>1</td>\n",
              "    </tr>\n",
              "    <tr>\n",
              "      <th>4</th>\n",
              "      <td>4</td>\n",
              "      <td>17474</td>\n",
              "      <td>1</td>\n",
              "      <td>156</td>\n",
              "      <td>56.0</td>\n",
              "      <td>100</td>\n",
              "      <td>60</td>\n",
              "      <td>1</td>\n",
              "      <td>1</td>\n",
              "      <td>0</td>\n",
              "      <td>0</td>\n",
              "      <td>0</td>\n",
              "      <td>0</td>\n",
              "    </tr>\n",
              "  </tbody>\n",
              "</table>\n",
              "</div>\n",
              "      <button class=\"colab-df-convert\" onclick=\"convertToInteractive('df-4394e18f-254e-468f-986e-577197f3c5e3')\"\n",
              "              title=\"Convert this dataframe to an interactive table.\"\n",
              "              style=\"display:none;\">\n",
              "        \n",
              "  <svg xmlns=\"http://www.w3.org/2000/svg\" height=\"24px\"viewBox=\"0 0 24 24\"\n",
              "       width=\"24px\">\n",
              "    <path d=\"M0 0h24v24H0V0z\" fill=\"none\"/>\n",
              "    <path d=\"M18.56 5.44l.94 2.06.94-2.06 2.06-.94-2.06-.94-.94-2.06-.94 2.06-2.06.94zm-11 1L8.5 8.5l.94-2.06 2.06-.94-2.06-.94L8.5 2.5l-.94 2.06-2.06.94zm10 10l.94 2.06.94-2.06 2.06-.94-2.06-.94-.94-2.06-.94 2.06-2.06.94z\"/><path d=\"M17.41 7.96l-1.37-1.37c-.4-.4-.92-.59-1.43-.59-.52 0-1.04.2-1.43.59L10.3 9.45l-7.72 7.72c-.78.78-.78 2.05 0 2.83L4 21.41c.39.39.9.59 1.41.59.51 0 1.02-.2 1.41-.59l7.78-7.78 2.81-2.81c.8-.78.8-2.07 0-2.86zM5.41 20L4 18.59l7.72-7.72 1.47 1.35L5.41 20z\"/>\n",
              "  </svg>\n",
              "      </button>\n",
              "      \n",
              "  <style>\n",
              "    .colab-df-container {\n",
              "      display:flex;\n",
              "      flex-wrap:wrap;\n",
              "      gap: 12px;\n",
              "    }\n",
              "\n",
              "    .colab-df-convert {\n",
              "      background-color: #E8F0FE;\n",
              "      border: none;\n",
              "      border-radius: 50%;\n",
              "      cursor: pointer;\n",
              "      display: none;\n",
              "      fill: #1967D2;\n",
              "      height: 32px;\n",
              "      padding: 0 0 0 0;\n",
              "      width: 32px;\n",
              "    }\n",
              "\n",
              "    .colab-df-convert:hover {\n",
              "      background-color: #E2EBFA;\n",
              "      box-shadow: 0px 1px 2px rgba(60, 64, 67, 0.3), 0px 1px 3px 1px rgba(60, 64, 67, 0.15);\n",
              "      fill: #174EA6;\n",
              "    }\n",
              "\n",
              "    [theme=dark] .colab-df-convert {\n",
              "      background-color: #3B4455;\n",
              "      fill: #D2E3FC;\n",
              "    }\n",
              "\n",
              "    [theme=dark] .colab-df-convert:hover {\n",
              "      background-color: #434B5C;\n",
              "      box-shadow: 0px 1px 3px 1px rgba(0, 0, 0, 0.15);\n",
              "      filter: drop-shadow(0px 1px 2px rgba(0, 0, 0, 0.3));\n",
              "      fill: #FFFFFF;\n",
              "    }\n",
              "  </style>\n",
              "\n",
              "      <script>\n",
              "        const buttonEl =\n",
              "          document.querySelector('#df-4394e18f-254e-468f-986e-577197f3c5e3 button.colab-df-convert');\n",
              "        buttonEl.style.display =\n",
              "          google.colab.kernel.accessAllowed ? 'block' : 'none';\n",
              "\n",
              "        async function convertToInteractive(key) {\n",
              "          const element = document.querySelector('#df-4394e18f-254e-468f-986e-577197f3c5e3');\n",
              "          const dataTable =\n",
              "            await google.colab.kernel.invokeFunction('convertToInteractive',\n",
              "                                                     [key], {});\n",
              "          if (!dataTable) return;\n",
              "\n",
              "          const docLinkHtml = 'Like what you see? Visit the ' +\n",
              "            '<a target=\"_blank\" href=https://colab.research.google.com/notebooks/data_table.ipynb>data table notebook</a>'\n",
              "            + ' to learn more about interactive tables.';\n",
              "          element.innerHTML = '';\n",
              "          dataTable['output_type'] = 'display_data';\n",
              "          await google.colab.output.renderOutput(dataTable, element);\n",
              "          const docLink = document.createElement('div');\n",
              "          docLink.innerHTML = docLinkHtml;\n",
              "          element.appendChild(docLink);\n",
              "        }\n",
              "      </script>\n",
              "    </div>\n",
              "  </div>\n",
              "  "
            ]
          },
          "metadata": {},
          "execution_count": 3
        }
      ]
    },
    {
      "cell_type": "code",
      "source": [
        "cardio.info()"
      ],
      "metadata": {
        "id": "2U0yDBd-vKmB",
        "outputId": "06093447-381a-4a17-981f-1b1265adc9b7",
        "execution": {
          "iopub.status.busy": "2022-11-03T08:32:10.381962Z",
          "iopub.execute_input": "2022-11-03T08:32:10.382312Z",
          "iopub.status.idle": "2022-11-03T08:32:10.410797Z",
          "shell.execute_reply.started": "2022-11-03T08:32:10.382282Z",
          "shell.execute_reply": "2022-11-03T08:32:10.409399Z"
        },
        "trusted": true,
        "colab": {
          "base_uri": "https://localhost:8080/"
        }
      },
      "execution_count": 4,
      "outputs": [
        {
          "output_type": "stream",
          "name": "stdout",
          "text": [
            "<class 'pandas.core.frame.DataFrame'>\n",
            "RangeIndex: 70000 entries, 0 to 69999\n",
            "Data columns (total 13 columns):\n",
            " #   Column       Non-Null Count  Dtype  \n",
            "---  ------       --------------  -----  \n",
            " 0   id           70000 non-null  int64  \n",
            " 1   age          70000 non-null  int64  \n",
            " 2   gender       70000 non-null  int64  \n",
            " 3   height       70000 non-null  int64  \n",
            " 4   weight       70000 non-null  float64\n",
            " 5   ap_hi        70000 non-null  int64  \n",
            " 6   ap_lo        70000 non-null  int64  \n",
            " 7   cholesterol  70000 non-null  int64  \n",
            " 8   gluc         70000 non-null  int64  \n",
            " 9   smoke        70000 non-null  int64  \n",
            " 10  alco         70000 non-null  int64  \n",
            " 11  active       70000 non-null  int64  \n",
            " 12  cardio       70000 non-null  int64  \n",
            "dtypes: float64(1), int64(12)\n",
            "memory usage: 6.9 MB\n"
          ]
        }
      ]
    },
    {
      "cell_type": "markdown",
      "source": [
        "# Data Preprocessing"
      ],
      "metadata": {
        "id": "Y6ULzEsrP4xt"
      }
    },
    {
      "cell_type": "code",
      "source": [
        "num_entries = cardio.shape[0]*cardio.shape[1]\n",
        "print('Number of entries in the dataframe: ', num_entries)\n",
        "\n",
        "num_missing_values = cardio.isna().sum().sum()\n",
        "print('Missing values: ', num_missing_values, '\\n')\n",
        "\n",
        "cardio_dup = cardio.duplicated().sum()\n",
        "if cardio_dup:\n",
        "    print('Duplicates Rows in Dataset are : {}'.format(cardio_dup))\n",
        "else:\n",
        "    print('Dataset contains no Duplicate Values')"
      ],
      "metadata": {
        "id": "Q6tL48gYRZeD",
        "outputId": "68d3ef54-0b70-4a6a-cf3b-94532a8d9cd0",
        "execution": {
          "iopub.status.busy": "2022-11-03T08:32:10.411885Z",
          "iopub.execute_input": "2022-11-03T08:32:10.412227Z",
          "iopub.status.idle": "2022-11-03T08:32:10.450311Z",
          "shell.execute_reply.started": "2022-11-03T08:32:10.412197Z",
          "shell.execute_reply": "2022-11-03T08:32:10.448992Z"
        },
        "trusted": true,
        "colab": {
          "base_uri": "https://localhost:8080/"
        }
      },
      "execution_count": 5,
      "outputs": [
        {
          "output_type": "stream",
          "name": "stdout",
          "text": [
            "Number of entries in the dataframe:  910000\n",
            "Missing values:  0 \n",
            "\n",
            "Dataset contains no Duplicate Values\n"
          ]
        }
      ]
    },
    {
      "cell_type": "code",
      "source": [
        "#Dropping all duplicated rows.\n",
        "cardio.drop_duplicates(inplace=True)\n",
        "\n",
        "#dropping id column because it is clearly not correlated in any way with the target\n",
        "cardio.drop(['id'], axis=1,inplace=True)"
      ],
      "metadata": {
        "id": "NtxBcXHSRRAl",
        "execution": {
          "iopub.status.busy": "2022-11-03T08:32:10.452715Z",
          "iopub.execute_input": "2022-11-03T08:32:10.453753Z",
          "iopub.status.idle": "2022-11-03T08:32:10.491548Z",
          "shell.execute_reply.started": "2022-11-03T08:32:10.453711Z",
          "shell.execute_reply": "2022-11-03T08:32:10.490149Z"
        },
        "trusted": true
      },
      "execution_count": 6,
      "outputs": []
    },
    {
      "cell_type": "code",
      "source": [
        "cardio.describe()"
      ],
      "metadata": {
        "id": "hR3qHo75vRmI",
        "outputId": "7233598b-3201-436b-e034-ce2bd37f8091",
        "execution": {
          "iopub.status.busy": "2022-11-03T08:32:10.494519Z",
          "iopub.execute_input": "2022-11-03T08:32:10.494937Z",
          "iopub.status.idle": "2022-11-03T08:32:10.569643Z",
          "shell.execute_reply.started": "2022-11-03T08:32:10.494901Z",
          "shell.execute_reply": "2022-11-03T08:32:10.568508Z"
        },
        "trusted": true,
        "colab": {
          "base_uri": "https://localhost:8080/",
          "height": 364
        }
      },
      "execution_count": 7,
      "outputs": [
        {
          "output_type": "execute_result",
          "data": {
            "text/plain": [
              "                age        gender        height        weight         ap_hi  \\\n",
              "count  70000.000000  70000.000000  70000.000000  70000.000000  70000.000000   \n",
              "mean   19468.865814      1.349571    164.359229     74.205690    128.817286   \n",
              "std     2467.251667      0.476838      8.210126     14.395757    154.011419   \n",
              "min    10798.000000      1.000000     55.000000     10.000000   -150.000000   \n",
              "25%    17664.000000      1.000000    159.000000     65.000000    120.000000   \n",
              "50%    19703.000000      1.000000    165.000000     72.000000    120.000000   \n",
              "75%    21327.000000      2.000000    170.000000     82.000000    140.000000   \n",
              "max    23713.000000      2.000000    250.000000    200.000000  16020.000000   \n",
              "\n",
              "              ap_lo   cholesterol          gluc         smoke          alco  \\\n",
              "count  70000.000000  70000.000000  70000.000000  70000.000000  70000.000000   \n",
              "mean      96.630414      1.366871      1.226457      0.088129      0.053771   \n",
              "std      188.472530      0.680250      0.572270      0.283484      0.225568   \n",
              "min      -70.000000      1.000000      1.000000      0.000000      0.000000   \n",
              "25%       80.000000      1.000000      1.000000      0.000000      0.000000   \n",
              "50%       80.000000      1.000000      1.000000      0.000000      0.000000   \n",
              "75%       90.000000      2.000000      1.000000      0.000000      0.000000   \n",
              "max    11000.000000      3.000000      3.000000      1.000000      1.000000   \n",
              "\n",
              "             active        cardio  \n",
              "count  70000.000000  70000.000000  \n",
              "mean       0.803729      0.499700  \n",
              "std        0.397179      0.500003  \n",
              "min        0.000000      0.000000  \n",
              "25%        1.000000      0.000000  \n",
              "50%        1.000000      0.000000  \n",
              "75%        1.000000      1.000000  \n",
              "max        1.000000      1.000000  "
            ],
            "text/html": [
              "\n",
              "  <div id=\"df-f79f3aad-fc9b-4e65-a14e-2e7e434f63d3\">\n",
              "    <div class=\"colab-df-container\">\n",
              "      <div>\n",
              "<style scoped>\n",
              "    .dataframe tbody tr th:only-of-type {\n",
              "        vertical-align: middle;\n",
              "    }\n",
              "\n",
              "    .dataframe tbody tr th {\n",
              "        vertical-align: top;\n",
              "    }\n",
              "\n",
              "    .dataframe thead th {\n",
              "        text-align: right;\n",
              "    }\n",
              "</style>\n",
              "<table border=\"1\" class=\"dataframe\">\n",
              "  <thead>\n",
              "    <tr style=\"text-align: right;\">\n",
              "      <th></th>\n",
              "      <th>age</th>\n",
              "      <th>gender</th>\n",
              "      <th>height</th>\n",
              "      <th>weight</th>\n",
              "      <th>ap_hi</th>\n",
              "      <th>ap_lo</th>\n",
              "      <th>cholesterol</th>\n",
              "      <th>gluc</th>\n",
              "      <th>smoke</th>\n",
              "      <th>alco</th>\n",
              "      <th>active</th>\n",
              "      <th>cardio</th>\n",
              "    </tr>\n",
              "  </thead>\n",
              "  <tbody>\n",
              "    <tr>\n",
              "      <th>count</th>\n",
              "      <td>70000.000000</td>\n",
              "      <td>70000.000000</td>\n",
              "      <td>70000.000000</td>\n",
              "      <td>70000.000000</td>\n",
              "      <td>70000.000000</td>\n",
              "      <td>70000.000000</td>\n",
              "      <td>70000.000000</td>\n",
              "      <td>70000.000000</td>\n",
              "      <td>70000.000000</td>\n",
              "      <td>70000.000000</td>\n",
              "      <td>70000.000000</td>\n",
              "      <td>70000.000000</td>\n",
              "    </tr>\n",
              "    <tr>\n",
              "      <th>mean</th>\n",
              "      <td>19468.865814</td>\n",
              "      <td>1.349571</td>\n",
              "      <td>164.359229</td>\n",
              "      <td>74.205690</td>\n",
              "      <td>128.817286</td>\n",
              "      <td>96.630414</td>\n",
              "      <td>1.366871</td>\n",
              "      <td>1.226457</td>\n",
              "      <td>0.088129</td>\n",
              "      <td>0.053771</td>\n",
              "      <td>0.803729</td>\n",
              "      <td>0.499700</td>\n",
              "    </tr>\n",
              "    <tr>\n",
              "      <th>std</th>\n",
              "      <td>2467.251667</td>\n",
              "      <td>0.476838</td>\n",
              "      <td>8.210126</td>\n",
              "      <td>14.395757</td>\n",
              "      <td>154.011419</td>\n",
              "      <td>188.472530</td>\n",
              "      <td>0.680250</td>\n",
              "      <td>0.572270</td>\n",
              "      <td>0.283484</td>\n",
              "      <td>0.225568</td>\n",
              "      <td>0.397179</td>\n",
              "      <td>0.500003</td>\n",
              "    </tr>\n",
              "    <tr>\n",
              "      <th>min</th>\n",
              "      <td>10798.000000</td>\n",
              "      <td>1.000000</td>\n",
              "      <td>55.000000</td>\n",
              "      <td>10.000000</td>\n",
              "      <td>-150.000000</td>\n",
              "      <td>-70.000000</td>\n",
              "      <td>1.000000</td>\n",
              "      <td>1.000000</td>\n",
              "      <td>0.000000</td>\n",
              "      <td>0.000000</td>\n",
              "      <td>0.000000</td>\n",
              "      <td>0.000000</td>\n",
              "    </tr>\n",
              "    <tr>\n",
              "      <th>25%</th>\n",
              "      <td>17664.000000</td>\n",
              "      <td>1.000000</td>\n",
              "      <td>159.000000</td>\n",
              "      <td>65.000000</td>\n",
              "      <td>120.000000</td>\n",
              "      <td>80.000000</td>\n",
              "      <td>1.000000</td>\n",
              "      <td>1.000000</td>\n",
              "      <td>0.000000</td>\n",
              "      <td>0.000000</td>\n",
              "      <td>1.000000</td>\n",
              "      <td>0.000000</td>\n",
              "    </tr>\n",
              "    <tr>\n",
              "      <th>50%</th>\n",
              "      <td>19703.000000</td>\n",
              "      <td>1.000000</td>\n",
              "      <td>165.000000</td>\n",
              "      <td>72.000000</td>\n",
              "      <td>120.000000</td>\n",
              "      <td>80.000000</td>\n",
              "      <td>1.000000</td>\n",
              "      <td>1.000000</td>\n",
              "      <td>0.000000</td>\n",
              "      <td>0.000000</td>\n",
              "      <td>1.000000</td>\n",
              "      <td>0.000000</td>\n",
              "    </tr>\n",
              "    <tr>\n",
              "      <th>75%</th>\n",
              "      <td>21327.000000</td>\n",
              "      <td>2.000000</td>\n",
              "      <td>170.000000</td>\n",
              "      <td>82.000000</td>\n",
              "      <td>140.000000</td>\n",
              "      <td>90.000000</td>\n",
              "      <td>2.000000</td>\n",
              "      <td>1.000000</td>\n",
              "      <td>0.000000</td>\n",
              "      <td>0.000000</td>\n",
              "      <td>1.000000</td>\n",
              "      <td>1.000000</td>\n",
              "    </tr>\n",
              "    <tr>\n",
              "      <th>max</th>\n",
              "      <td>23713.000000</td>\n",
              "      <td>2.000000</td>\n",
              "      <td>250.000000</td>\n",
              "      <td>200.000000</td>\n",
              "      <td>16020.000000</td>\n",
              "      <td>11000.000000</td>\n",
              "      <td>3.000000</td>\n",
              "      <td>3.000000</td>\n",
              "      <td>1.000000</td>\n",
              "      <td>1.000000</td>\n",
              "      <td>1.000000</td>\n",
              "      <td>1.000000</td>\n",
              "    </tr>\n",
              "  </tbody>\n",
              "</table>\n",
              "</div>\n",
              "      <button class=\"colab-df-convert\" onclick=\"convertToInteractive('df-f79f3aad-fc9b-4e65-a14e-2e7e434f63d3')\"\n",
              "              title=\"Convert this dataframe to an interactive table.\"\n",
              "              style=\"display:none;\">\n",
              "        \n",
              "  <svg xmlns=\"http://www.w3.org/2000/svg\" height=\"24px\"viewBox=\"0 0 24 24\"\n",
              "       width=\"24px\">\n",
              "    <path d=\"M0 0h24v24H0V0z\" fill=\"none\"/>\n",
              "    <path d=\"M18.56 5.44l.94 2.06.94-2.06 2.06-.94-2.06-.94-.94-2.06-.94 2.06-2.06.94zm-11 1L8.5 8.5l.94-2.06 2.06-.94-2.06-.94L8.5 2.5l-.94 2.06-2.06.94zm10 10l.94 2.06.94-2.06 2.06-.94-2.06-.94-.94-2.06-.94 2.06-2.06.94z\"/><path d=\"M17.41 7.96l-1.37-1.37c-.4-.4-.92-.59-1.43-.59-.52 0-1.04.2-1.43.59L10.3 9.45l-7.72 7.72c-.78.78-.78 2.05 0 2.83L4 21.41c.39.39.9.59 1.41.59.51 0 1.02-.2 1.41-.59l7.78-7.78 2.81-2.81c.8-.78.8-2.07 0-2.86zM5.41 20L4 18.59l7.72-7.72 1.47 1.35L5.41 20z\"/>\n",
              "  </svg>\n",
              "      </button>\n",
              "      \n",
              "  <style>\n",
              "    .colab-df-container {\n",
              "      display:flex;\n",
              "      flex-wrap:wrap;\n",
              "      gap: 12px;\n",
              "    }\n",
              "\n",
              "    .colab-df-convert {\n",
              "      background-color: #E8F0FE;\n",
              "      border: none;\n",
              "      border-radius: 50%;\n",
              "      cursor: pointer;\n",
              "      display: none;\n",
              "      fill: #1967D2;\n",
              "      height: 32px;\n",
              "      padding: 0 0 0 0;\n",
              "      width: 32px;\n",
              "    }\n",
              "\n",
              "    .colab-df-convert:hover {\n",
              "      background-color: #E2EBFA;\n",
              "      box-shadow: 0px 1px 2px rgba(60, 64, 67, 0.3), 0px 1px 3px 1px rgba(60, 64, 67, 0.15);\n",
              "      fill: #174EA6;\n",
              "    }\n",
              "\n",
              "    [theme=dark] .colab-df-convert {\n",
              "      background-color: #3B4455;\n",
              "      fill: #D2E3FC;\n",
              "    }\n",
              "\n",
              "    [theme=dark] .colab-df-convert:hover {\n",
              "      background-color: #434B5C;\n",
              "      box-shadow: 0px 1px 3px 1px rgba(0, 0, 0, 0.15);\n",
              "      filter: drop-shadow(0px 1px 2px rgba(0, 0, 0, 0.3));\n",
              "      fill: #FFFFFF;\n",
              "    }\n",
              "  </style>\n",
              "\n",
              "      <script>\n",
              "        const buttonEl =\n",
              "          document.querySelector('#df-f79f3aad-fc9b-4e65-a14e-2e7e434f63d3 button.colab-df-convert');\n",
              "        buttonEl.style.display =\n",
              "          google.colab.kernel.accessAllowed ? 'block' : 'none';\n",
              "\n",
              "        async function convertToInteractive(key) {\n",
              "          const element = document.querySelector('#df-f79f3aad-fc9b-4e65-a14e-2e7e434f63d3');\n",
              "          const dataTable =\n",
              "            await google.colab.kernel.invokeFunction('convertToInteractive',\n",
              "                                                     [key], {});\n",
              "          if (!dataTable) return;\n",
              "\n",
              "          const docLinkHtml = 'Like what you see? Visit the ' +\n",
              "            '<a target=\"_blank\" href=https://colab.research.google.com/notebooks/data_table.ipynb>data table notebook</a>'\n",
              "            + ' to learn more about interactive tables.';\n",
              "          element.innerHTML = '';\n",
              "          dataTable['output_type'] = 'display_data';\n",
              "          await google.colab.output.renderOutput(dataTable, element);\n",
              "          const docLink = document.createElement('div');\n",
              "          docLink.innerHTML = docLinkHtml;\n",
              "          element.appendChild(docLink);\n",
              "        }\n",
              "      </script>\n",
              "    </div>\n",
              "  </div>\n",
              "  "
            ]
          },
          "metadata": {},
          "execution_count": 7
        }
      ]
    },
    {
      "cell_type": "markdown",
      "source": [
        "**Observations**\n",
        "- 'Age' column has to be recalculated it has a minimum values of 10789' which is unrealistic therefore they represents a missing/incorrect value.\n",
        "- 'Weight' column have unrealistic min/max values.\n",
        "- Systolic blood pressure \"ap_hi\" and Diastolic blood pressure \"ap_lo\" cannot be negative\n",
        "- If ap_hi and ap_lo are more than 180 and 120 mmHg respectively then it is an hypertensive crisis, which is an emergency case. Therefore max values are not realistic.\n",
        "\n"
      ],
      "metadata": {
        "id": "5hUwak6q6PRs"
      }
    },
    {
      "cell_type": "code",
      "source": [
        "#Age is written in days, so we're converting it to years \n",
        "cardio['age'] = cardio['age'].apply(lambda x: x/365)  "
      ],
      "metadata": {
        "id": "_0XFf1QcWIvd",
        "execution": {
          "iopub.status.busy": "2022-11-03T08:32:10.571370Z",
          "iopub.execute_input": "2022-11-03T08:32:10.571990Z",
          "iopub.status.idle": "2022-11-03T08:32:10.601370Z",
          "shell.execute_reply.started": "2022-11-03T08:32:10.571956Z",
          "shell.execute_reply": "2022-11-03T08:32:10.600148Z"
        },
        "trusted": true
      },
      "execution_count": 8,
      "outputs": []
    },
    {
      "cell_type": "code",
      "source": [
        "outliers = len(cardio[(cardio[\"ap_hi\"]>=280) | (cardio[\"ap_lo\"]>=220) | (cardio[\"ap_lo\"] < 0) | (cardio[\"ap_hi\"] < 0) | (cardio[\"ap_hi\"]<cardio[\"ap_lo\"])])\n",
        "\n",
        "print(f'we have total {outliers} outliers')\n",
        "print(f'percent missing: {round(outliers/len(cardio)*100,1)}%')"
      ],
      "metadata": {
        "id": "6BgZ1XphWb55",
        "outputId": "7cbe2c74-e5a2-4652-b9cd-f30026e8376d",
        "execution": {
          "iopub.status.busy": "2022-11-03T08:32:10.602772Z",
          "iopub.execute_input": "2022-11-03T08:32:10.603597Z",
          "iopub.status.idle": "2022-11-03T08:32:10.615226Z",
          "shell.execute_reply.started": "2022-11-03T08:32:10.603563Z",
          "shell.execute_reply": "2022-11-03T08:32:10.613790Z"
        },
        "trusted": true,
        "colab": {
          "base_uri": "https://localhost:8080/"
        }
      },
      "execution_count": 9,
      "outputs": [
        {
          "output_type": "stream",
          "name": "stdout",
          "text": [
            "we have total 1275 outliers\n",
            "percent missing: 1.8%\n"
          ]
        }
      ]
    },
    {
      "cell_type": "code",
      "source": [
        "#Filtering out the unrealistic data of Systolic blood pressure and Diastolic blood pressure\n",
        "cardio = cardio[ (cardio['ap_lo'] >= 0) & (cardio['ap_hi'] >= 0) ]  #remove negative values\n",
        "cardio = cardio[ (cardio['ap_lo'] <= 220) & (cardio['ap_hi'] <= 280) ]  #remove fishy data points\n",
        "cardio = cardio[ (cardio['ap_lo'] < cardio['ap_hi']) ]  #remove systolic higher than diastolic\n"
      ],
      "metadata": {
        "id": "4ESYJqaFEYgc",
        "execution": {
          "iopub.status.busy": "2022-11-03T08:32:10.616905Z",
          "iopub.execute_input": "2022-11-03T08:32:10.617253Z",
          "iopub.status.idle": "2022-11-03T08:32:10.640328Z",
          "shell.execute_reply.started": "2022-11-03T08:32:10.617222Z",
          "shell.execute_reply": "2022-11-03T08:32:10.638930Z"
        },
        "trusted": true
      },
      "execution_count": 10,
      "outputs": []
    },
    {
      "cell_type": "code",
      "source": [
        "Q1_hi = cardio['ap_hi'].quantile(0.05) # 5th percentile of the data of the given feature\n",
        "Q3_hi = cardio['ap_hi'].quantile(0.95)  # 95th percentile of the data of the given feature\n",
        "IQR_hi = Q3_hi - Q1_hi\n",
        "lower, upper = Q1_hi - 1.5 * IQR_hi, Q3_hi + 1.5 * IQR_hi\n",
        "cardio = cardio[(cardio['ap_hi'] >= lower) & (cardio['ap_hi'] <= upper)]  \n",
        "\n",
        "Q1_lo = cardio['ap_lo'].quantile(0.05) # 5th percentile of the data of the given feature\n",
        "Q3_lo = cardio['ap_lo'].quantile(0.95)  # 95th percentile of the data of the given feature\n",
        "IQR_lo = Q3_lo - Q1_lo\n",
        "lower, upper = Q1_lo - 1.5 * IQR_lo, Q3_lo + 1.5 * IQR_lo\n",
        "cardio = cardio[(cardio['ap_lo'] >= lower) & (cardio['ap_lo'] <= upper)]  "
      ],
      "metadata": {
        "id": "1xv7x-DxG3ls",
        "execution": {
          "iopub.status.busy": "2022-11-03T08:32:10.642730Z",
          "iopub.execute_input": "2022-11-03T08:32:10.643199Z",
          "iopub.status.idle": "2022-11-03T08:32:10.672302Z",
          "shell.execute_reply.started": "2022-11-03T08:32:10.643155Z",
          "shell.execute_reply": "2022-11-03T08:32:10.671140Z"
        },
        "trusted": true
      },
      "execution_count": 11,
      "outputs": []
    },
    {
      "cell_type": "code",
      "source": [
        "sns.jointplot(x='ap_hi', y='ap_lo', data=cardio);"
      ],
      "metadata": {
        "id": "t5DgZMOwG2KD",
        "outputId": "a9762443-ecf7-458b-91d8-bdc18a17058b",
        "execution": {
          "iopub.status.busy": "2022-11-03T08:32:10.674161Z",
          "iopub.execute_input": "2022-11-03T08:32:10.674567Z",
          "iopub.status.idle": "2022-11-03T08:32:12.404241Z",
          "shell.execute_reply.started": "2022-11-03T08:32:10.674535Z",
          "shell.execute_reply": "2022-11-03T08:32:12.402918Z"
        },
        "trusted": true,
        "colab": {
          "base_uri": "https://localhost:8080/",
          "height": 441
        }
      },
      "execution_count": 12,
      "outputs": [
        {
          "output_type": "display_data",
          "data": {
            "text/plain": [
              "<Figure size 432x432 with 3 Axes>"
            ],
            "image/png": "[encoded data removed]"
          },
          "metadata": {
            "needs_background": "light"
          }
        }
      ]
    },
    {
      "cell_type": "markdown",
      "source": [
        "## 1.1 - IQR based filtering - height, weight\n",
        "\n",
        "\n"
      ],
      "metadata": {
        "id": "ilJGjzRQMHts"
      }
    },
    {
      "cell_type": "code",
      "source": [
        "plt.figure(figsize=(15,5))\n",
        "cardio.boxplot(['weight','height'])"
      ],
      "metadata": {
        "id": "yBJpf9nVSS9e",
        "outputId": "7e59cb91-804d-440e-aa2a-a1c1e5c1edb5",
        "execution": {
          "iopub.status.busy": "2022-11-03T08:32:12.405841Z",
          "iopub.execute_input": "2022-11-03T08:32:12.406301Z",
          "iopub.status.idle": "2022-11-03T08:32:12.761921Z",
          "shell.execute_reply.started": "2022-11-03T08:32:12.406258Z",
          "shell.execute_reply": "2022-11-03T08:32:12.760549Z"
        },
        "trusted": true,
        "colab": {
          "base_uri": "https://localhost:8080/",
          "height": 337
        }
      },
      "execution_count": 13,
      "outputs": [
        {
          "output_type": "execute_result",
          "data": {
            "text/plain": [
              "<AxesSubplot:>"
            ]
          },
          "metadata": {},
          "execution_count": 13
        },
        {
          "output_type": "display_data",
          "data": {
            "text/plain": [
              "<Figure size 1080x360 with 1 Axes>"
            ],
            "image/png": "[encoded data removed]"
          },
          "metadata": {
            "needs_background": "light"
          }
        }
      ]
    },
    {
      "cell_type": "code",
      "source": [
        "#--------------------1.Variant-----------------------------------------------\n",
        "#Filtering out the smallest and tallest human ever known were 54 cm and 251 cm respectively so \n",
        "len(cardio[(cardio['height'] > 251) | (cardio['height'] < 54)])"
      ],
      "metadata": {
        "id": "kY2UvRZa05Ya",
        "outputId": "811338ae-7e43-4513-a62f-0c4174f9a187",
        "execution": {
          "iopub.status.busy": "2022-11-03T08:32:12.763625Z",
          "iopub.execute_input": "2022-11-03T08:32:12.763983Z",
          "iopub.status.idle": "2022-11-03T08:32:12.773831Z",
          "shell.execute_reply.started": "2022-11-03T08:32:12.763952Z",
          "shell.execute_reply": "2022-11-03T08:32:12.772753Z"
        },
        "trusted": true,
        "colab": {
          "base_uri": "https://localhost:8080/"
        }
      },
      "execution_count": 14,
      "outputs": [
        {
          "output_type": "execute_result",
          "data": {
            "text/plain": [
              "0"
            ]
          },
          "metadata": {},
          "execution_count": 14
        }
      ]
    },
    {
      "cell_type": "code",
      "source": [
        "#-------------------2.Variant------------------------------------------------\n",
        "#Function that detects the outlier given interquartile range\n",
        "def detect_outliers(df,q1,q3):\n",
        "  for col in df.columns:\n",
        "    df_feature = df[col]\n",
        "    Q1 = df_feature.quantile(q1) # 25th percentile of the data of the given feature\n",
        "    Q3 = df_feature.quantile(q3)  # 75th percentile of the data of the given feature\n",
        "    IQR = Q3 - Q1    #IQR is interquartile range. \n",
        "    print(f'Feature: {col}-------------')\n",
        "    print(f'Percentiles: {int(q1*100)}th={Q1}, {int(q3*100)}th={Q3}, IQR={IQR}')\n",
        "    # calculate the outlier lower and upper bound\n",
        "    lower, upper = Q1 - 1.5 * IQR, Q3 + 1.5 * IQR\n",
        "    # identify outliers\n",
        "    outliers = [x for x in df_feature if x < lower or x > upper]\n",
        "    print('Identified outliers: %d \\n' % len(outliers))\n",
        "    # remove outliers \n",
        "    #cardio = df[(df_feature >= lower) & (df_feature <= upper)]  \n",
        "  \n",
        "detect_outliers(cardio[['height', 'weight']],0.05,0.95)"
      ],
      "metadata": {
        "id": "QJNV04gkTb5J",
        "outputId": "ef02ea28-aadb-40f9-9c04-61b473593a60",
        "execution": {
          "iopub.status.busy": "2022-11-03T08:32:12.775451Z",
          "iopub.execute_input": "2022-11-03T08:32:12.776345Z",
          "iopub.status.idle": "2022-11-03T08:32:12.859013Z",
          "shell.execute_reply.started": "2022-11-03T08:32:12.776305Z",
          "shell.execute_reply": "2022-11-03T08:32:12.856793Z"
        },
        "trusted": true,
        "colab": {
          "base_uri": "https://localhost:8080/"
        }
      },
      "execution_count": 15,
      "outputs": [
        {
          "output_type": "stream",
          "name": "stdout",
          "text": [
            "Feature: height-------------\n",
            "Percentiles: 5th=152.0, 95th=178.0, IQR=26.0\n",
            "Identified outliers: 46 \n",
            "\n",
            "Feature: weight-------------\n",
            "Percentiles: 5th=55.0, 95th=100.0, IQR=45.0\n",
            "Identified outliers: 20 \n",
            "\n"
          ]
        }
      ]
    },
    {
      "cell_type": "code",
      "source": [
        "#After the observation we can remove the outliers weight, height\n",
        "cardio_cleaned = cardio \n",
        "for col in ['height','weight']:\n",
        "  Q1 = cardio[col].quantile(0.05) # 5th percentile of the data of the given feature\n",
        "  Q3 = cardio[col].quantile(0.95)  # 95th percentile of the data of the given feature\n",
        "  IQR = Q3 - Q1\n",
        "  lower, upper = Q1 - 1.5 * IQR, Q3 + 1.5 * IQR\n",
        "  cardio_cleaned = cardio_cleaned[(cardio_cleaned[col] >= lower) & (cardio_cleaned[col] <= upper)]  \n"
      ],
      "metadata": {
        "id": "yqMh0Wpz_cH1",
        "execution": {
          "iopub.status.busy": "2022-11-03T08:32:12.865821Z",
          "iopub.execute_input": "2022-11-03T08:32:12.866205Z",
          "iopub.status.idle": "2022-11-03T08:32:12.895820Z",
          "shell.execute_reply.started": "2022-11-03T08:32:12.866172Z",
          "shell.execute_reply": "2022-11-03T08:32:12.894524Z"
        },
        "trusted": true
      },
      "execution_count": 16,
      "outputs": []
    },
    {
      "cell_type": "markdown",
      "source": [
        "## 1.2 - BMI - filtering <a class=\"anchor\"  id=\"bmi\"></a>"
      ],
      "metadata": {
        "id": "qG6EJa0RV58j"
      }
    },
    {
      "cell_type": "markdown",
      "source": [
        "we can create new feature BMI (Body Mass Index) with height and weight. It might lead us to get better insights. The BMI says whether the person is in normal health or not . To calcualte it we have a formula\n",
        "\n",
        "\\begin{equation}\n",
        "BMI = \\tfrac{weight}{height^2}\n",
        "\\end{equation}\n",
        "\n",
        "*BMI = kg/m2 where kg is a person's weight in kilograms and m2 is their height in metres squared*"
      ],
      "metadata": {
        "id": "Kg8M75r6WvZi"
      }
    },
    {
      "cell_type": "code",
      "source": [
        "# calculating the patient BMI (Body Mass Index)  \n",
        "cardio_cleaned['BMI'] = round(cardio_cleaned['weight']/((cardio_cleaned['height']/100)**2),1)\n",
        "cardio_cleaned.head()"
      ],
      "metadata": {
        "id": "rPuZwOB3WjEd",
        "outputId": "22a24877-a80d-433f-db05-86e8997a1a7a",
        "execution": {
          "iopub.status.busy": "2022-11-03T08:32:12.897324Z",
          "iopub.execute_input": "2022-11-03T08:32:12.897747Z",
          "iopub.status.idle": "2022-11-03T08:32:12.919296Z",
          "shell.execute_reply.started": "2022-11-03T08:32:12.897683Z",
          "shell.execute_reply": "2022-11-03T08:32:12.918416Z"
        },
        "trusted": true,
        "colab": {
          "base_uri": "https://localhost:8080/",
          "height": 206
        }
      },
      "execution_count": 17,
      "outputs": [
        {
          "output_type": "execute_result",
          "data": {
            "text/plain": [
              "         age  gender  height  weight  ap_hi  ap_lo  cholesterol  gluc  smoke  \\\n",
              "0  50.391781       2     168    62.0    110     80            1     1      0   \n",
              "1  55.419178       1     156    85.0    140     90            3     1      0   \n",
              "2  51.663014       1     165    64.0    130     70            3     1      0   \n",
              "3  48.282192       2     169    82.0    150    100            1     1      0   \n",
              "4  47.873973       1     156    56.0    100     60            1     1      0   \n",
              "\n",
              "   alco  active  cardio   BMI  \n",
              "0     0       1       0  22.0  \n",
              "1     0       1       1  34.9  \n",
              "2     0       0       1  23.5  \n",
              "3     0       1       1  28.7  \n",
              "4     0       0       0  23.0  "
            ],
            "text/html": [
              "\n",
              "  <div id=\"df-6510a1e6-1246-468e-ba07-952d9b8360a9\">\n",
              "    <div class=\"colab-df-container\">\n",
              "      <div>\n",
              "<style scoped>\n",
              "    .dataframe tbody tr th:only-of-type {\n",
              "        vertical-align: middle;\n",
              "    }\n",
              "\n",
              "    .dataframe tbody tr th {\n",
              "        vertical-align: top;\n",
              "    }\n",
              "\n",
              "    .dataframe thead th {\n",
              "        text-align: right;\n",
              "    }\n",
              "</style>\n",
              "<table border=\"1\" class=\"dataframe\">\n",
              "  <thead>\n",
              "    <tr style=\"text-align: right;\">\n",
              "      <th></th>\n",
              "      <th>age</th>\n",
              "      <th>gender</th>\n",
              "      <th>height</th>\n",
              "      <th>weight</th>\n",
              "      <th>ap_hi</th>\n",
              "      <th>ap_lo</th>\n",
              "      <th>cholesterol</th>\n",
              "      <th>gluc</th>\n",
              "      <th>smoke</th>\n",
              "      <th>alco</th>\n",
              "      <th>active</th>\n",
              "      <th>cardio</th>\n",
              "      <th>BMI</th>\n",
              "    </tr>\n",
              "  </thead>\n",
              "  <tbody>\n",
              "    <tr>\n",
              "      <th>0</th>\n",
              "      <td>50.391781</td>\n",
              "      <td>2</td>\n",
              "      <td>168</td>\n",
              "      <td>62.0</td>\n",
              "      <td>110</td>\n",
              "      <td>80</td>\n",
              "      <td>1</td>\n",
              "      <td>1</td>\n",
              "      <td>0</td>\n",
              "      <td>0</td>\n",
              "      <td>1</td>\n",
              "      <td>0</td>\n",
              "      <td>22.0</td>\n",
              "    </tr>\n",
              "    <tr>\n",
              "      <th>1</th>\n",
              "      <td>55.419178</td>\n",
              "      <td>1</td>\n",
              "      <td>156</td>\n",
              "      <td>85.0</td>\n",
              "      <td>140</td>\n",
              "      <td>90</td>\n",
              "      <td>3</td>\n",
              "      <td>1</td>\n",
              "      <td>0</td>\n",
              "      <td>0</td>\n",
              "      <td>1</td>\n",
              "      <td>1</td>\n",
              "      <td>34.9</td>\n",
              "    </tr>\n",
              "    <tr>\n",
              "      <th>2</th>\n",
              "      <td>51.663014</td>\n",
              "      <td>1</td>\n",
              "      <td>165</td>\n",
              "      <td>64.0</td>\n",
              "      <td>130</td>\n",
              "      <td>70</td>\n",
              "      <td>3</td>\n",
              "      <td>1</td>\n",
              "      <td>0</td>\n",
              "      <td>0</td>\n",
              "      <td>0</td>\n",
              "      <td>1</td>\n",
              "      <td>23.5</td>\n",
              "    </tr>\n",
              "    <tr>\n",
              "      <th>3</th>\n",
              "      <td>48.282192</td>\n",
              "      <td>2</td>\n",
              "      <td>169</td>\n",
              "      <td>82.0</td>\n",
              "      <td>150</td>\n",
              "      <td>100</td>\n",
              "      <td>1</td>\n",
              "      <td>1</td>\n",
              "      <td>0</td>\n",
              "      <td>0</td>\n",
              "      <td>1</td>\n",
              "      <td>1</td>\n",
              "      <td>28.7</td>\n",
              "    </tr>\n",
              "    <tr>\n",
              "      <th>4</th>\n",
              "      <td>47.873973</td>\n",
              "      <td>1</td>\n",
              "      <td>156</td>\n",
              "      <td>56.0</td>\n",
              "      <td>100</td>\n",
              "      <td>60</td>\n",
              "      <td>1</td>\n",
              "      <td>1</td>\n",
              "      <td>0</td>\n",
              "      <td>0</td>\n",
              "      <td>0</td>\n",
              "      <td>0</td>\n",
              "      <td>23.0</td>\n",
              "    </tr>\n",
              "  </tbody>\n",
              "</table>\n",
              "</div>\n",
              "      <button class=\"colab-df-convert\" onclick=\"convertToInteractive('df-6510a1e6-1246-468e-ba07-952d9b8360a9')\"\n",
              "              title=\"Convert this dataframe to an interactive table.\"\n",
              "              style=\"display:none;\">\n",
              "        \n",
              "  <svg xmlns=\"http://www.w3.org/2000/svg\" height=\"24px\"viewBox=\"0 0 24 24\"\n",
              "       width=\"24px\">\n",
              "    <path d=\"M0 0h24v24H0V0z\" fill=\"none\"/>\n",
              "    <path d=\"M18.56 5.44l.94 2.06.94-2.06 2.06-.94-2.06-.94-.94-2.06-.94 2.06-2.06.94zm-11 1L8.5 8.5l.94-2.06 2.06-.94-2.06-.94L8.5 2.5l-.94 2.06-2.06.94zm10 10l.94 2.06.94-2.06 2.06-.94-2.06-.94-.94-2.06-.94 2.06-2.06.94z\"/><path d=\"M17.41 7.96l-1.37-1.37c-.4-.4-.92-.59-1.43-.59-.52 0-1.04.2-1.43.59L10.3 9.45l-7.72 7.72c-.78.78-.78 2.05 0 2.83L4 21.41c.39.39.9.59 1.41.59.51 0 1.02-.2 1.41-.59l7.78-7.78 2.81-2.81c.8-.78.8-2.07 0-2.86zM5.41 20L4 18.59l7.72-7.72 1.47 1.35L5.41 20z\"/>\n",
              "  </svg>\n",
              "      </button>\n",
              "      \n",
              "  <style>\n",
              "    .colab-df-container {\n",
              "      display:flex;\n",
              "      flex-wrap:wrap;\n",
              "      gap: 12px;\n",
              "    }\n",
              "\n",
              "    .colab-df-convert {\n",
              "      background-color: #E8F0FE;\n",
              "      border: none;\n",
              "      border-radius: 50%;\n",
              "      cursor: pointer;\n",
              "      display: none;\n",
              "      fill: #1967D2;\n",
              "      height: 32px;\n",
              "      padding: 0 0 0 0;\n",
              "      width: 32px;\n",
              "    }\n",
              "\n",
              "    .colab-df-convert:hover {\n",
              "      background-color: #E2EBFA;\n",
              "      box-shadow: 0px 1px 2px rgba(60, 64, 67, 0.3), 0px 1px 3px 1px rgba(60, 64, 67, 0.15);\n",
              "      fill: #174EA6;\n",
              "    }\n",
              "\n",
              "    [theme=dark] .colab-df-convert {\n",
              "      background-color: #3B4455;\n",
              "      fill: #D2E3FC;\n",
              "    }\n",
              "\n",
              "    [theme=dark] .colab-df-convert:hover {\n",
              "      background-color: #434B5C;\n",
              "      box-shadow: 0px 1px 3px 1px rgba(0, 0, 0, 0.15);\n",
              "      filter: drop-shadow(0px 1px 2px rgba(0, 0, 0, 0.3));\n",
              "      fill: #FFFFFF;\n",
              "    }\n",
              "  </style>\n",
              "\n",
              "      <script>\n",
              "        const buttonEl =\n",
              "          document.querySelector('#df-6510a1e6-1246-468e-ba07-952d9b8360a9 button.colab-df-convert');\n",
              "        buttonEl.style.display =\n",
              "          google.colab.kernel.accessAllowed ? 'block' : 'none';\n",
              "\n",
              "        async function convertToInteractive(key) {\n",
              "          const element = document.querySelector('#df-6510a1e6-1246-468e-ba07-952d9b8360a9');\n",
              "          const dataTable =\n",
              "            await google.colab.kernel.invokeFunction('convertToInteractive',\n",
              "                                                     [key], {});\n",
              "          if (!dataTable) return;\n",
              "\n",
              "          const docLinkHtml = 'Like what you see? Visit the ' +\n",
              "            '<a target=\"_blank\" href=https://colab.research.google.com/notebooks/data_table.ipynb>data table notebook</a>'\n",
              "            + ' to learn more about interactive tables.';\n",
              "          element.innerHTML = '';\n",
              "          dataTable['output_type'] = 'display_data';\n",
              "          await google.colab.output.renderOutput(dataTable, element);\n",
              "          const docLink = document.createElement('div');\n",
              "          docLink.innerHTML = docLinkHtml;\n",
              "          element.appendChild(docLink);\n",
              "        }\n",
              "      </script>\n",
              "    </div>\n",
              "  </div>\n",
              "  "
            ]
          },
          "metadata": {},
          "execution_count": 17
        }
      ]
    },
    {
      "cell_type": "code",
      "source": [
        "#Filtering out the extreme values (unhealthy health) of BMI data according to BMI chart above\n",
        "cardio_cleaned = cardio_cleaned[ (cardio_cleaned['BMI'] < 60) & (cardio_cleaned['BMI'] > 10)]"
      ],
      "metadata": {
        "id": "f5IZ5msTrBVp",
        "execution": {
          "iopub.status.busy": "2022-11-03T08:32:12.920374Z",
          "iopub.execute_input": "2022-11-03T08:32:12.920724Z",
          "iopub.status.idle": "2022-11-03T08:32:12.936514Z",
          "shell.execute_reply.started": "2022-11-03T08:32:12.920667Z",
          "shell.execute_reply": "2022-11-03T08:32:12.935413Z"
        },
        "trusted": true
      },
      "execution_count": 18,
      "outputs": []
    },
    {
      "cell_type": "code",
      "source": [
        "#Dataset after cleaning\n",
        "print(f'Number of rows of cardio dataset after data preprocessing: {len(cardio_cleaned)}')\n",
        "print(f'How much percent missing: {round((70000-len(cardio_cleaned))/70000*100,2)}%')"
      ],
      "metadata": {
        "id": "sLZvBS5hU-er",
        "outputId": "5dc3dbc1-e638-4700-b3f8-4a12353668ec",
        "execution": {
          "iopub.status.busy": "2022-11-03T08:32:12.938536Z",
          "iopub.execute_input": "2022-11-03T08:32:12.938918Z",
          "iopub.status.idle": "2022-11-03T08:32:12.945204Z",
          "shell.execute_reply.started": "2022-11-03T08:32:12.938886Z",
          "shell.execute_reply": "2022-11-03T08:32:12.943829Z"
        },
        "trusted": true,
        "colab": {
          "base_uri": "https://localhost:8080/"
        }
      },
      "execution_count": 19,
      "outputs": [
        {
          "output_type": "stream",
          "name": "stdout",
          "text": [
            "Number of rows of cardio dataset after data preprocessing: 68584\n",
            "How much percent missing: 2.02%\n"
          ]
        }
      ]
    },
    {
      "cell_type": "code",
      "source": [
        "#To study the joint distribution of two numerical features, the jointplot of the Seaborn library can be useful:\n",
        "sns.jointplot(x='height', y='weight', data=cardio_cleaned);"
      ],
      "metadata": {
        "id": "SpA7a5IFH51d",
        "outputId": "759ec653-3a55-4526-8ae8-6e4ea997a590",
        "execution": {
          "iopub.status.busy": "2022-11-03T08:32:12.946923Z",
          "iopub.execute_input": "2022-11-03T08:32:12.947407Z",
          "iopub.status.idle": "2022-11-03T08:32:14.462325Z",
          "shell.execute_reply.started": "2022-11-03T08:32:12.947366Z",
          "shell.execute_reply": "2022-11-03T08:32:14.461001Z"
        },
        "trusted": true,
        "colab": {
          "base_uri": "https://localhost:8080/",
          "height": 441
        }
      },
      "execution_count": 20,
      "outputs": [
        {
          "output_type": "display_data",
          "data": {
            "text/plain": [
              "<Figure size 432x432 with 3 Axes>"
            ],
            "image/png": "[encoded data removed]"
          },
          "metadata": {
            "needs_background": "light"
          }
        }
      ]
    },
    {
      "cell_type": "code",
      "source": [
        "#Distribution of cardiovascular heart disease by gender\n",
        "gender = cardio_cleaned['gender'].value_counts()\n",
        "plt.figure(figsize=(7, 6))\n",
        "ax = gender.plot(kind='bar', rot=0, color=\"r\")\n",
        "ax.set_title(\"Propotion of Cardiovascular heart disease by gender\", y = 1)\n",
        "ax.set_xlabel('Gender')\n",
        "ax.set_ylabel('Number of People')\n",
        "ax.set_xticklabels(('Male', 'Female'))"
      ],
      "metadata": {
        "id": "K-p2r7gFOp95",
        "outputId": "c2309b5b-26dc-46d8-b304-f59d77b64df5",
        "execution": {
          "iopub.status.busy": "2022-11-03T08:32:14.463719Z",
          "iopub.execute_input": "2022-11-03T08:32:14.464247Z",
          "iopub.status.idle": "2022-11-03T08:32:14.675423Z",
          "shell.execute_reply.started": "2022-11-03T08:32:14.464213Z",
          "shell.execute_reply": "2022-11-03T08:32:14.674405Z"
        },
        "trusted": true,
        "colab": {
          "base_uri": "https://localhost:8080/",
          "height": 421
        }
      },
      "execution_count": 21,
      "outputs": [
        {
          "output_type": "execute_result",
          "data": {
            "text/plain": [
              "[Text(0, 0, 'Male'), Text(1, 0, 'Female')]"
            ]
          },
          "metadata": {},
          "execution_count": 21
        },
        {
          "output_type": "display_data",
          "data": {
            "text/plain": [
              "<Figure size 504x432 with 1 Axes>"
            ],
            "image/png": "[encoded data removed]"
          },
          "metadata": {
            "needs_background": "light"
          }
        }
      ]
    },
    {
      "cell_type": "markdown",
      "source": [
        "- From the bar chart, it can be seen that the probability of disease is higher when the gender is male."
      ],
      "metadata": {
        "id": "E5qRORBGIpYi"
      }
    },
    {
      "cell_type": "markdown",
      "source": [
        "# 2 - Feature Engineering <a class=\"anchor\"  id=\"feature\"></a>"
      ],
      "metadata": {
        "id": "ad9c4x5FVdA3"
      }
    },
    {
      "cell_type": "code",
      "source": [
        "#plotting correlation map\n",
        "plt.rcParams.update({'font.size': 11})\n",
        "fig, ax = plt.subplots(figsize=(11, 9))\n",
        "sns.heatmap(cardio_cleaned.corr(), annot = True, vmin=-1, vmax=1, center= 0, cmap= 'coolwarm', ax=ax, fmt='.1g', linewidths=.5);\n",
        "plt.title('Corelation Between Features', fontsize = 30)\n",
        "plt.show()"
      ],
      "metadata": {
        "id": "ukCmlGzaAoVy",
        "outputId": "fb1cc4ff-5e3e-49da-9976-bad6b0104796",
        "execution": {
          "iopub.status.busy": "2022-11-03T08:32:14.676729Z",
          "iopub.execute_input": "2022-11-03T08:32:14.677221Z",
          "iopub.status.idle": "2022-11-03T08:32:15.690229Z",
          "shell.execute_reply.started": "2022-11-03T08:32:14.677191Z",
          "shell.execute_reply": "2022-11-03T08:32:15.689166Z"
        },
        "trusted": true,
        "colab": {
          "base_uri": "https://localhost:8080/",
          "height": 617
        }
      },
      "execution_count": 22,
      "outputs": [
        {
          "output_type": "display_data",
          "data": {
            "text/plain": [
              "<Figure size 792x648 with 2 Axes>"
            ],
            "image/png": "[encoded data removed]"
          },
          "metadata": {
            "needs_background": "light"
          }
        }
      ]
    },
    {
      "cell_type": "markdown",
      "source": [
        "**Observations**\n",
        "*   age and cholesterol have significant impact, but not very high correlated with target class.\n",
        "*   ap_hi has the highest correlation with the target value, so it has significant impact to our model. also same with ap_lo\n",
        "*   Newly formed feature 'BMI' doesn't have good correlation with the target and it highly correlated with \"weight\" so one could drop one of the features.\n",
        "*   'gender', 'smoke' and 'height' are the least correlated features with target\n",
        "\n",
        "\n"
      ],
      "metadata": {
        "id": "knxmMpFtAm8y"
      }
    },
    {
      "cell_type": "markdown",
      "source": [
        "# 3- ML model"
      ],
      "metadata": {
        "id": "f4tiiCu0HGQZ"
      }
    },
    {
      "cell_type": "markdown",
      "source": [
        "## 3.1 - Model preparation <a class=\"anchor\"  id=\"modelprep\"></a>\n",
        "\n",
        "\n"
      ],
      "metadata": {
        "id": "ga3Ks84_HRmz"
      }
    },
    {
      "cell_type": "code",
      "source": [
        "#we perform some Standardization\n",
        "cardio_scaled=cardio_cleaned.copy()\n",
        "\n",
        "columns_to_scale = ['age', 'weight', 'ap_hi', 'ap_lo','cholesterol','gender','BMI','height']\n",
        "\n",
        "scaler = StandardScaler()\n",
        "cardio_scaled[columns_to_scale] = scaler.fit_transform(cardio_cleaned[columns_to_scale])\n",
        "\n",
        "cardio_scaled.head()"
      ],
      "metadata": {
        "id": "grrGDGFbz2Du",
        "outputId": "f51bb0a9-d581-4302-e88c-20a8a2228ab0",
        "execution": {
          "iopub.status.busy": "2022-11-03T08:32:15.691537Z",
          "iopub.execute_input": "2022-11-03T08:32:15.692142Z",
          "iopub.status.idle": "2022-11-03T08:32:15.746475Z",
          "shell.execute_reply.started": "2022-11-03T08:32:15.692105Z",
          "shell.execute_reply": "2022-11-03T08:32:15.745322Z"
        },
        "trusted": true,
        "colab": {
          "base_uri": "https://localhost:8080/",
          "height": 250
        }
      },
      "execution_count": 23,
      "outputs": [
        {
          "output_type": "execute_result",
          "data": {
            "text/plain": [
              "        age    gender    height    weight     ap_hi     ap_lo  cholesterol  \\\n",
              "0 -0.434227  1.366947  0.453582 -0.853029 -0.999477 -0.137142    -0.537143   \n",
              "1  0.309323 -0.731557 -1.063527  0.772526  0.799796  0.923664     2.408948   \n",
              "2 -0.246212 -0.731557  0.074304 -0.711677  0.200039 -1.197948     2.408948   \n",
              "3 -0.746234  1.366947  0.580007  0.560497  1.399554  1.984469    -0.537143   \n",
              "4 -0.806609 -0.731557 -1.063527 -1.277087 -1.599234 -2.258753    -0.537143   \n",
              "\n",
              "   gluc  smoke  alco  active  cardio       BMI  \n",
              "0     1      0     0       1       0 -1.047959  \n",
              "1     1      0     0       1       1  1.437575  \n",
              "2     1      0     0       0       1 -0.758943  \n",
              "3     1      0     0       1       1  0.242977  \n",
              "4     1      0     0       0       0 -0.855282  "
            ],
            "text/html": [
              "\n",
              "  <div id=\"df-560ec40f-360d-4527-ac57-480d0b6d3a65\">\n",
              "    <div class=\"colab-df-container\">\n",
              "      <div>\n",
              "<style scoped>\n",
              "    .dataframe tbody tr th:only-of-type {\n",
              "        vertical-align: middle;\n",
              "    }\n",
              "\n",
              "    .dataframe tbody tr th {\n",
              "        vertical-align: top;\n",
              "    }\n",
              "\n",
              "    .dataframe thead th {\n",
              "        text-align: right;\n",
              "    }\n",
              "</style>\n",
              "<table border=\"1\" class=\"dataframe\">\n",
              "  <thead>\n",
              "    <tr style=\"text-align: right;\">\n",
              "      <th></th>\n",
              "      <th>age</th>\n",
              "      <th>gender</th>\n",
              "      <th>height</th>\n",
              "      <th>weight</th>\n",
              "      <th>ap_hi</th>\n",
              "      <th>ap_lo</th>\n",
              "      <th>cholesterol</th>\n",
              "      <th>gluc</th>\n",
              "      <th>smoke</th>\n",
              "      <th>alco</th>\n",
              "      <th>active</th>\n",
              "      <th>cardio</th>\n",
              "      <th>BMI</th>\n",
              "    </tr>\n",
              "  </thead>\n",
              "  <tbody>\n",
              "    <tr>\n",
              "      <th>0</th>\n",
              "      <td>-0.434227</td>\n",
              "      <td>1.366947</td>\n",
              "      <td>0.453582</td>\n",
              "      <td>-0.853029</td>\n",
              "      <td>-0.999477</td>\n",
              "      <td>-0.137142</td>\n",
              "      <td>-0.537143</td>\n",
              "      <td>1</td>\n",
              "      <td>0</td>\n",
              "      <td>0</td>\n",
              "      <td>1</td>\n",
              "      <td>0</td>\n",
              "      <td>-1.047959</td>\n",
              "    </tr>\n",
              "    <tr>\n",
              "      <th>1</th>\n",
              "      <td>0.309323</td>\n",
              "      <td>-0.731557</td>\n",
              "      <td>-1.063527</td>\n",
              "      <td>0.772526</td>\n",
              "      <td>0.799796</td>\n",
              "      <td>0.923664</td>\n",
              "      <td>2.408948</td>\n",
              "      <td>1</td>\n",
              "      <td>0</td>\n",
              "      <td>0</td>\n",
              "      <td>1</td>\n",
              "      <td>1</td>\n",
              "      <td>1.437575</td>\n",
              "    </tr>\n",
              "    <tr>\n",
              "      <th>2</th>\n",
              "      <td>-0.246212</td>\n",
              "      <td>-0.731557</td>\n",
              "      <td>0.074304</td>\n",
              "      <td>-0.711677</td>\n",
              "      <td>0.200039</td>\n",
              "      <td>-1.197948</td>\n",
              "      <td>2.408948</td>\n",
              "      <td>1</td>\n",
              "      <td>0</td>\n",
              "      <td>0</td>\n",
              "      <td>0</td>\n",
              "      <td>1</td>\n",
              "      <td>-0.758943</td>\n",
              "    </tr>\n",
              "    <tr>\n",
              "      <th>3</th>\n",
              "      <td>-0.746234</td>\n",
              "      <td>1.366947</td>\n",
              "      <td>0.580007</td>\n",
              "      <td>0.560497</td>\n",
              "      <td>1.399554</td>\n",
              "      <td>1.984469</td>\n",
              "      <td>-0.537143</td>\n",
              "      <td>1</td>\n",
              "      <td>0</td>\n",
              "      <td>0</td>\n",
              "      <td>1</td>\n",
              "      <td>1</td>\n",
              "      <td>0.242977</td>\n",
              "    </tr>\n",
              "    <tr>\n",
              "      <th>4</th>\n",
              "      <td>-0.806609</td>\n",
              "      <td>-0.731557</td>\n",
              "      <td>-1.063527</td>\n",
              "      <td>-1.277087</td>\n",
              "      <td>-1.599234</td>\n",
              "      <td>-2.258753</td>\n",
              "      <td>-0.537143</td>\n",
              "      <td>1</td>\n",
              "      <td>0</td>\n",
              "      <td>0</td>\n",
              "      <td>0</td>\n",
              "      <td>0</td>\n",
              "      <td>-0.855282</td>\n",
              "    </tr>\n",
              "  </tbody>\n",
              "</table>\n",
              "</div>\n",
              "      <button class=\"colab-df-convert\" onclick=\"convertToInteractive('df-560ec40f-360d-4527-ac57-480d0b6d3a65')\"\n",
              "              title=\"Convert this dataframe to an interactive table.\"\n",
              "              style=\"display:none;\">\n",
              "        \n",
              "  <svg xmlns=\"http://www.w3.org/2000/svg\" height=\"24px\"viewBox=\"0 0 24 24\"\n",
              "       width=\"24px\">\n",
              "    <path d=\"M0 0h24v24H0V0z\" fill=\"none\"/>\n",
              "    <path d=\"M18.56 5.44l.94 2.06.94-2.06 2.06-.94-2.06-.94-.94-2.06-.94 2.06-2.06.94zm-11 1L8.5 8.5l.94-2.06 2.06-.94-2.06-.94L8.5 2.5l-.94 2.06-2.06.94zm10 10l.94 2.06.94-2.06 2.06-.94-2.06-.94-.94-2.06-.94 2.06-2.06.94z\"/><path d=\"M17.41 7.96l-1.37-1.37c-.4-.4-.92-.59-1.43-.59-.52 0-1.04.2-1.43.59L10.3 9.45l-7.72 7.72c-.78.78-.78 2.05 0 2.83L4 21.41c.39.39.9.59 1.41.59.51 0 1.02-.2 1.41-.59l7.78-7.78 2.81-2.81c.8-.78.8-2.07 0-2.86zM5.41 20L4 18.59l7.72-7.72 1.47 1.35L5.41 20z\"/>\n",
              "  </svg>\n",
              "      </button>\n",
              "      \n",
              "  <style>\n",
              "    .colab-df-container {\n",
              "      display:flex;\n",
              "      flex-wrap:wrap;\n",
              "      gap: 12px;\n",
              "    }\n",
              "\n",
              "    .colab-df-convert {\n",
              "      background-color: #E8F0FE;\n",
              "      border: none;\n",
              "      border-radius: 50%;\n",
              "      cursor: pointer;\n",
              "      display: none;\n",
              "      fill: #1967D2;\n",
              "      height: 32px;\n",
              "      padding: 0 0 0 0;\n",
              "      width: 32px;\n",
              "    }\n",
              "\n",
              "    .colab-df-convert:hover {\n",
              "      background-color: #E2EBFA;\n",
              "      box-shadow: 0px 1px 2px rgba(60, 64, 67, 0.3), 0px 1px 3px 1px rgba(60, 64, 67, 0.15);\n",
              "      fill: #174EA6;\n",
              "    }\n",
              "\n",
              "    [theme=dark] .colab-df-convert {\n",
              "      background-color: #3B4455;\n",
              "      fill: #D2E3FC;\n",
              "    }\n",
              "\n",
              "    [theme=dark] .colab-df-convert:hover {\n",
              "      background-color: #434B5C;\n",
              "      box-shadow: 0px 1px 3px 1px rgba(0, 0, 0, 0.15);\n",
              "      filter: drop-shadow(0px 1px 2px rgba(0, 0, 0, 0.3));\n",
              "      fill: #FFFFFF;\n",
              "    }\n",
              "  </style>\n",
              "\n",
              "      <script>\n",
              "        const buttonEl =\n",
              "          document.querySelector('#df-560ec40f-360d-4527-ac57-480d0b6d3a65 button.colab-df-convert');\n",
              "        buttonEl.style.display =\n",
              "          google.colab.kernel.accessAllowed ? 'block' : 'none';\n",
              "\n",
              "        async function convertToInteractive(key) {\n",
              "          const element = document.querySelector('#df-560ec40f-360d-4527-ac57-480d0b6d3a65');\n",
              "          const dataTable =\n",
              "            await google.colab.kernel.invokeFunction('convertToInteractive',\n",
              "                                                     [key], {});\n",
              "          if (!dataTable) return;\n",
              "\n",
              "          const docLinkHtml = 'Like what you see? Visit the ' +\n",
              "            '<a target=\"_blank\" href=https://colab.research.google.com/notebooks/data_table.ipynb>data table notebook</a>'\n",
              "            + ' to learn more about interactive tables.';\n",
              "          element.innerHTML = '';\n",
              "          dataTable['output_type'] = 'display_data';\n",
              "          await google.colab.output.renderOutput(dataTable, element);\n",
              "          const docLink = document.createElement('div');\n",
              "          docLink.innerHTML = docLinkHtml;\n",
              "          element.appendChild(docLink);\n",
              "        }\n",
              "      </script>\n",
              "    </div>\n",
              "  </div>\n",
              "  "
            ]
          },
          "metadata": {},
          "execution_count": 23
        }
      ]
    },
    {
      "cell_type": "code",
      "source": [
        "#we perform some Standardization\n",
        "cardio_scaled_mm=cardio_cleaned.copy()\n",
        "\n",
        "columns_to_scale_mm = ['age', 'weight', 'ap_hi', 'ap_lo','cholesterol','gender','BMI','height']\n",
        "\n",
        "mmscaler = MinMaxScaler()\n",
        "cardio_scaled_mm[columns_to_scale_mm] = mmscaler.fit_transform(cardio_cleaned[columns_to_scale_mm])\n",
        "\n",
        "cardio_scaled_mm.head()"
      ],
      "metadata": {
        "id": "CEBqwhSOU6SB",
        "outputId": "332bfca7-c076-420e-d376-d65a83962bbc",
        "execution": {
          "iopub.status.busy": "2022-11-03T08:32:15.748072Z",
          "iopub.execute_input": "2022-11-03T08:32:15.748428Z",
          "iopub.status.idle": "2022-11-03T08:32:15.790330Z",
          "shell.execute_reply.started": "2022-11-03T08:32:15.748397Z",
          "shell.execute_reply": "2022-11-03T08:32:15.788955Z"
        },
        "trusted": true,
        "colab": {
          "base_uri": "https://localhost:8080/",
          "height": 206
        }
      },
      "execution_count": 24,
      "outputs": [
        {
          "output_type": "execute_result",
          "data": {
            "text/plain": [
              "        age  gender    height    weight     ap_hi     ap_lo  cholesterol  \\\n",
              "0  0.588076     1.0  0.585106  0.246377  0.277778  0.454545          0.0   \n",
              "1  0.730159     0.0  0.457447  0.413043  0.444444  0.545455          1.0   \n",
              "2  0.624003     0.0  0.553191  0.260870  0.388889  0.363636          1.0   \n",
              "3  0.528455     1.0  0.595745  0.391304  0.500000  0.636364          0.0   \n",
              "4  0.516918     0.0  0.457447  0.202899  0.222222  0.272727          0.0   \n",
              "\n",
              "   gluc  smoke  alco  active  cardio       BMI  \n",
              "0     1      0     0       1       0  0.231557  \n",
              "1     1      0     0       1       1  0.495902  \n",
              "2     1      0     0       0       1  0.262295  \n",
              "3     1      0     0       1       1  0.368852  \n",
              "4     1      0     0       0       0  0.252049  "
            ],
            "text/html": [
              "\n",
              "  <div id=\"df-75f4b3b9-cdee-4834-9986-429eb1cf3a96\">\n",
              "    <div class=\"colab-df-container\">\n",
              "      <div>\n",
              "<style scoped>\n",
              "    .dataframe tbody tr th:only-of-type {\n",
              "        vertical-align: middle;\n",
              "    }\n",
              "\n",
              "    .dataframe tbody tr th {\n",
              "        vertical-align: top;\n",
              "    }\n",
              "\n",
              "    .dataframe thead th {\n",
              "        text-align: right;\n",
              "    }\n",
              "</style>\n",
              "<table border=\"1\" class=\"dataframe\">\n",
              "  <thead>\n",
              "    <tr style=\"text-align: right;\">\n",
              "      <th></th>\n",
              "      <th>age</th>\n",
              "      <th>gender</th>\n",
              "      <th>height</th>\n",
              "      <th>weight</th>\n",
              "      <th>ap_hi</th>\n",
              "      <th>ap_lo</th>\n",
              "      <th>cholesterol</th>\n",
              "      <th>gluc</th>\n",
              "      <th>smoke</th>\n",
              "      <th>alco</th>\n",
              "      <th>active</th>\n",
              "      <th>cardio</th>\n",
              "      <th>BMI</th>\n",
              "    </tr>\n",
              "  </thead>\n",
              "  <tbody>\n",
              "    <tr>\n",
              "      <th>0</th>\n",
              "      <td>0.588076</td>\n",
              "      <td>1.0</td>\n",
              "      <td>0.585106</td>\n",
              "      <td>0.246377</td>\n",
              "      <td>0.277778</td>\n",
              "      <td>0.454545</td>\n",
              "      <td>0.0</td>\n",
              "      <td>1</td>\n",
              "      <td>0</td>\n",
              "      <td>0</td>\n",
              "      <td>1</td>\n",
              "      <td>0</td>\n",
              "      <td>0.231557</td>\n",
              "    </tr>\n",
              "    <tr>\n",
              "      <th>1</th>\n",
              "      <td>0.730159</td>\n",
              "      <td>0.0</td>\n",
              "      <td>0.457447</td>\n",
              "      <td>0.413043</td>\n",
              "      <td>0.444444</td>\n",
              "      <td>0.545455</td>\n",
              "      <td>1.0</td>\n",
              "      <td>1</td>\n",
              "      <td>0</td>\n",
              "      <td>0</td>\n",
              "      <td>1</td>\n",
              "      <td>1</td>\n",
              "      <td>0.495902</td>\n",
              "    </tr>\n",
              "    <tr>\n",
              "      <th>2</th>\n",
              "      <td>0.624003</td>\n",
              "      <td>0.0</td>\n",
              "      <td>0.553191</td>\n",
              "      <td>0.260870</td>\n",
              "      <td>0.388889</td>\n",
              "      <td>0.363636</td>\n",
              "      <td>1.0</td>\n",
              "      <td>1</td>\n",
              "      <td>0</td>\n",
              "      <td>0</td>\n",
              "      <td>0</td>\n",
              "      <td>1</td>\n",
              "      <td>0.262295</td>\n",
              "    </tr>\n",
              "    <tr>\n",
              "      <th>3</th>\n",
              "      <td>0.528455</td>\n",
              "      <td>1.0</td>\n",
              "      <td>0.595745</td>\n",
              "      <td>0.391304</td>\n",
              "      <td>0.500000</td>\n",
              "      <td>0.636364</td>\n",
              "      <td>0.0</td>\n",
              "      <td>1</td>\n",
              "      <td>0</td>\n",
              "      <td>0</td>\n",
              "      <td>1</td>\n",
              "      <td>1</td>\n",
              "      <td>0.368852</td>\n",
              "    </tr>\n",
              "    <tr>\n",
              "      <th>4</th>\n",
              "      <td>0.516918</td>\n",
              "      <td>0.0</td>\n",
              "      <td>0.457447</td>\n",
              "      <td>0.202899</td>\n",
              "      <td>0.222222</td>\n",
              "      <td>0.272727</td>\n",
              "      <td>0.0</td>\n",
              "      <td>1</td>\n",
              "      <td>0</td>\n",
              "      <td>0</td>\n",
              "      <td>0</td>\n",
              "      <td>0</td>\n",
              "      <td>0.252049</td>\n",
              "    </tr>\n",
              "  </tbody>\n",
              "</table>\n",
              "</div>\n",
              "      <button class=\"colab-df-convert\" onclick=\"convertToInteractive('df-75f4b3b9-cdee-4834-9986-429eb1cf3a96')\"\n",
              "              title=\"Convert this dataframe to an interactive table.\"\n",
              "              style=\"display:none;\">\n",
              "        \n",
              "  <svg xmlns=\"http://www.w3.org/2000/svg\" height=\"24px\"viewBox=\"0 0 24 24\"\n",
              "       width=\"24px\">\n",
              "    <path d=\"M0 0h24v24H0V0z\" fill=\"none\"/>\n",
              "    <path d=\"M18.56 5.44l.94 2.06.94-2.06 2.06-.94-2.06-.94-.94-2.06-.94 2.06-2.06.94zm-11 1L8.5 8.5l.94-2.06 2.06-.94-2.06-.94L8.5 2.5l-.94 2.06-2.06.94zm10 10l.94 2.06.94-2.06 2.06-.94-2.06-.94-.94-2.06-.94 2.06-2.06.94z\"/><path d=\"M17.41 7.96l-1.37-1.37c-.4-.4-.92-.59-1.43-.59-.52 0-1.04.2-1.43.59L10.3 9.45l-7.72 7.72c-.78.78-.78 2.05 0 2.83L4 21.41c.39.39.9.59 1.41.59.51 0 1.02-.2 1.41-.59l7.78-7.78 2.81-2.81c.8-.78.8-2.07 0-2.86zM5.41 20L4 18.59l7.72-7.72 1.47 1.35L5.41 20z\"/>\n",
              "  </svg>\n",
              "      </button>\n",
              "      \n",
              "  <style>\n",
              "    .colab-df-container {\n",
              "      display:flex;\n",
              "      flex-wrap:wrap;\n",
              "      gap: 12px;\n",
              "    }\n",
              "\n",
              "    .colab-df-convert {\n",
              "      background-color: #E8F0FE;\n",
              "      border: none;\n",
              "      border-radius: 50%;\n",
              "      cursor: pointer;\n",
              "      display: none;\n",
              "      fill: #1967D2;\n",
              "      height: 32px;\n",
              "      padding: 0 0 0 0;\n",
              "      width: 32px;\n",
              "    }\n",
              "\n",
              "    .colab-df-convert:hover {\n",
              "      background-color: #E2EBFA;\n",
              "      box-shadow: 0px 1px 2px rgba(60, 64, 67, 0.3), 0px 1px 3px 1px rgba(60, 64, 67, 0.15);\n",
              "      fill: #174EA6;\n",
              "    }\n",
              "\n",
              "    [theme=dark] .colab-df-convert {\n",
              "      background-color: #3B4455;\n",
              "      fill: #D2E3FC;\n",
              "    }\n",
              "\n",
              "    [theme=dark] .colab-df-convert:hover {\n",
              "      background-color: #434B5C;\n",
              "      box-shadow: 0px 1px 3px 1px rgba(0, 0, 0, 0.15);\n",
              "      filter: drop-shadow(0px 1px 2px rgba(0, 0, 0, 0.3));\n",
              "      fill: #FFFFFF;\n",
              "    }\n",
              "  </style>\n",
              "\n",
              "      <script>\n",
              "        const buttonEl =\n",
              "          document.querySelector('#df-75f4b3b9-cdee-4834-9986-429eb1cf3a96 button.colab-df-convert');\n",
              "        buttonEl.style.display =\n",
              "          google.colab.kernel.accessAllowed ? 'block' : 'none';\n",
              "\n",
              "        async function convertToInteractive(key) {\n",
              "          const element = document.querySelector('#df-75f4b3b9-cdee-4834-9986-429eb1cf3a96');\n",
              "          const dataTable =\n",
              "            await google.colab.kernel.invokeFunction('convertToInteractive',\n",
              "                                                     [key], {});\n",
              "          if (!dataTable) return;\n",
              "\n",
              "          const docLinkHtml = 'Like what you see? Visit the ' +\n",
              "            '<a target=\"_blank\" href=https://colab.research.google.com/notebooks/data_table.ipynb>data table notebook</a>'\n",
              "            + ' to learn more about interactive tables.';\n",
              "          element.innerHTML = '';\n",
              "          dataTable['output_type'] = 'display_data';\n",
              "          await google.colab.output.renderOutput(dataTable, element);\n",
              "          const docLink = document.createElement('div');\n",
              "          docLink.innerHTML = docLinkHtml;\n",
              "          element.appendChild(docLink);\n",
              "        }\n",
              "      </script>\n",
              "    </div>\n",
              "  </div>\n",
              "  "
            ]
          },
          "metadata": {},
          "execution_count": 24
        }
      ]
    },
    {
      "cell_type": "markdown",
      "source": [
        "\n",
        "\n",
        "---\n",
        "\n",
        "\n",
        "**Train test split**\n",
        "\n",
        "split ratio 80:20."
      ],
      "metadata": {
        "id": "xgNldrX67t7S"
      }
    },
    {
      "cell_type": "code",
      "source": [
        "#Train-test-split for non-scaled data\n",
        "X = cardio_cleaned.drop(['cardio'], axis=1) #features \n",
        "y = cardio_cleaned['cardio']  #target feature\n",
        "\n",
        "X_train, X_test, y_train, y_test = train_test_split(X, y, test_size=0.2, random_state=42, shuffle = True)\n",
        "\n",
        "\n",
        "#Train-test-split for scaled data\n",
        "X_scaled = cardio_scaled.drop(['cardio'], axis=1) #features \n",
        "y_scaled = cardio_scaled['cardio']  #target feature\n",
        "\n",
        "X_scaled_mm = cardio_scaled_mm.drop(['cardio'], axis=1) #features \n",
        "y_scaled_mm = cardio_scaled_mm['cardio']  #target feature\n",
        "\n",
        "X_train_scaled, X_test_scaled, y_train_scaled, y_test_scaled = train_test_split(X_scaled, y_scaled, test_size=0.2, random_state=42, shuffle = True)\n",
        "X_train_scaled_mm, X_test_scaled_mm, y_train_scaled_mm, y_test_scaled_mm = train_test_split(X_scaled_mm, y_scaled_mm, test_size=0.2, random_state=42, shuffle = True)\n",
        "\n",
        "\n",
        "#Splitted Data\n",
        "print('X_train shape is ' , X_train.shape)\n",
        "print('X_test shape is ' , X_test.shape)\n",
        "print('y_train shape is ' , y_train.shape)\n",
        "print('y_test shape is ' , y_test.shape)"
      ],
      "metadata": {
        "id": "WCPmYz5Jfkzg",
        "outputId": "30ec5992-a00e-4920-edca-5c2f986d7a1c",
        "execution": {
          "iopub.status.busy": "2022-11-03T08:32:15.791949Z",
          "iopub.execute_input": "2022-11-03T08:32:15.792289Z",
          "iopub.status.idle": "2022-11-03T08:32:15.879329Z",
          "shell.execute_reply.started": "2022-11-03T08:32:15.792259Z",
          "shell.execute_reply": "2022-11-03T08:32:15.878415Z"
        },
        "trusted": true,
        "colab": {
          "base_uri": "https://localhost:8080/"
        }
      },
      "execution_count": 25,
      "outputs": [
        {
          "output_type": "stream",
          "name": "stdout",
          "text": [
            "X_train shape is  (54867, 12)\n",
            "X_test shape is  (13717, 12)\n",
            "y_train shape is  (54867,)\n",
            "y_test shape is  (13717,)\n"
          ]
        }
      ]
    },
    {
      "cell_type": "markdown",
      "source": [
        "## 3.2 - Support Vector Classifier <a class=\"anchor\"  id=\"svc\"></a>"
      ],
      "metadata": {
        "id": "_M4fPhoVnaX_"
      }
    },
    {
      "cell_type": "markdown",
      "source": [
        "- Comparison of differet kernels (Linear, Radial Basis Function and Polynomial with a degree of 3)\n",
        "- Feature Subset Selection and Hyperparameter Tuning does not improve the accuracy (tested beforehand and left out due to time constraint)\n"
      ],
      "metadata": {
        "id": "8z6ZnmOw1k9G"
      }
    },
    {
      "cell_type": "code",
      "source": [
        "viewer_mode = True\n",
        "if viewer_mode:\n",
        "  print(\"Support Vector Classifier takes very long.\")\n",
        "else:\n",
        "  C = 1.0  # SVM regularization parameter\n",
        "  models = (svm.SVC(kernel='linear', C=C),\n",
        "            svm.SVC(kernel='rbf', gamma=0.7, C=C),\n",
        "            svm.SVC(kernel='poly', degree=3, gamma='auto', C=C))\n",
        "\n",
        "\n",
        "  accuracy_svc = []\n",
        "  for clf in models: \n",
        "      clf.fit(X_train_scaled, y_train_scaled)\n",
        "      y_pred = clf.predict(X_test_scaled)\n",
        "      accuracy_svc.append(accuracy_score(y_test_scaled, y_pred))\n",
        "      print(f\"Accuracy: \",  accuracy_score(y_test_scaled, y_pred))\n"
      ],
      "metadata": {
        "id": "vq9dRZ7_niy3",
        "outputId": "cc036770-7fcf-4499-cb66-12f34e0c648d",
        "execution": {
          "iopub.status.busy": "2022-11-03T08:47:44.302532Z",
          "iopub.execute_input": "2022-11-03T08:47:44.302918Z",
          "iopub.status.idle": "2022-11-03T08:47:44.311879Z",
          "shell.execute_reply.started": "2022-11-03T08:47:44.302883Z",
          "shell.execute_reply": "2022-11-03T08:47:44.310357Z"
        },
        "trusted": true,
        "colab": {
          "base_uri": "https://localhost:8080/"
        }
      },
      "execution_count": 26,
      "outputs": [
        {
          "output_type": "stream",
          "name": "stdout",
          "text": [
            "Support Vector Classifier takes very long.\n"
          ]
        }
      ]
    },
    {
      "cell_type": "code",
      "source": [
        "if viewer_mode:\n",
        "  max_accuracy_svc=0.734126\n",
        "  true_positive_svc=0.660243 \t\n",
        "  print('Support Vector Classifier with highest accuracy: Polynomial')\n",
        "  print('Accuracy =', max_accuracy_svc) \n",
        "  print('Sensitivity (TPR) =', true_positive_svc)\n",
        "else:\n",
        "  svc_clf_list = ['Linear', 'Radial Basis Function', 'Polynomial']\n",
        "\n",
        "  max_accuracy_svc = max(accuracy_svc)\n",
        "  max_svc_index = np.argmax(accuracy_svc)\n",
        "\n",
        "  svc_clf = models[max_svc_index]\n",
        "  svc_clf.fit(X_train_scaled, y_train_scaled)\n",
        "  y_predict = svc_clf.predict(X_test_scaled)\n",
        "  svc_report = classification_report(y_test, y_predict)\n",
        "\n",
        "  cm_svc = confusion_matrix(y_test, y_predict)\n",
        "\n",
        "  true_positive_svc = cm_svc[1][1]/sum(y_test)\n",
        "\n",
        "  print('Accuracy =', max_accuracy_svc) \n",
        "  print('Sensitivity (TPR) =', true_positive_svc)\n",
        "  print('Support Vector Classifier with highest accuracy:', svc_clf_list[max_svc_index]) \n",
        "\n",
        "  print('\\n Confusion matrix \\n \\n')\n",
        "  plot_confusion_matrix(svc_clf, X_test_scaled, y_test_scaled)\n",
        "  plt.show()"
      ],
      "metadata": {
        "id": "m9VUFDnjnsEw",
        "outputId": "1df951e5-d589-4865-948b-001667309dd1",
        "execution": {
          "iopub.status.busy": "2022-11-03T08:47:44.313517Z",
          "iopub.execute_input": "2022-11-03T08:47:44.314070Z",
          "iopub.status.idle": "2022-11-03T08:47:44.332550Z",
          "shell.execute_reply.started": "2022-11-03T08:47:44.314032Z",
          "shell.execute_reply": "2022-11-03T08:47:44.331309Z"
        },
        "trusted": true,
        "colab": {
          "base_uri": "https://localhost:8080/"
        }
      },
      "execution_count": 27,
      "outputs": [
        {
          "output_type": "stream",
          "name": "stdout",
          "text": [
            "Support Vector Classifier with highest accuracy: Polynomial\n",
            "Accuracy = 0.734126\n",
            "Sensitivity (TPR) = 0.660243\n"
          ]
        }
      ]
    },
    {
      "cell_type": "code",
      "execution_count": 28,
      "metadata": {
        "colab": {
          "base_uri": "https://localhost:8080/",
          "height": 81
        },
        "id": "1K0dD8pViHOr",
        "outputId": "15444ccd-34d4-4b57-8644-b82933335c4d"
      },
      "outputs": [
        {
          "output_type": "execute_result",
          "data": {
            "text/plain": [
              "                       Model  Accuracy  Sensitivity  Objective Value\n",
              "0  Support Vector Classifier  0.734126     0.660243         0.899187"
            ],
            "text/html": [
              "\n",
              "  <div id=\"df-257afb76-cacc-4d0a-b9b3-c73de054ebfc\">\n",
              "    <div class=\"colab-df-container\">\n",
              "      <div>\n",
              "<style scoped>\n",
              "    .dataframe tbody tr th:only-of-type {\n",
              "        vertical-align: middle;\n",
              "    }\n",
              "\n",
              "    .dataframe tbody tr th {\n",
              "        vertical-align: top;\n",
              "    }\n",
              "\n",
              "    .dataframe thead th {\n",
              "        text-align: right;\n",
              "    }\n",
              "</style>\n",
              "<table border=\"1\" class=\"dataframe\">\n",
              "  <thead>\n",
              "    <tr style=\"text-align: right;\">\n",
              "      <th></th>\n",
              "      <th>Model</th>\n",
              "      <th>Accuracy</th>\n",
              "      <th>Sensitivity</th>\n",
              "      <th>Objective Value</th>\n",
              "    </tr>\n",
              "  </thead>\n",
              "  <tbody>\n",
              "    <tr>\n",
              "      <th>0</th>\n",
              "      <td>Support Vector Classifier</td>\n",
              "      <td>0.734126</td>\n",
              "      <td>0.660243</td>\n",
              "      <td>0.899187</td>\n",
              "    </tr>\n",
              "  </tbody>\n",
              "</table>\n",
              "</div>\n",
              "      <button class=\"colab-df-convert\" onclick=\"convertToInteractive('df-257afb76-cacc-4d0a-b9b3-c73de054ebfc')\"\n",
              "              title=\"Convert this dataframe to an interactive table.\"\n",
              "              style=\"display:none;\">\n",
              "        \n",
              "  <svg xmlns=\"http://www.w3.org/2000/svg\" height=\"24px\"viewBox=\"0 0 24 24\"\n",
              "       width=\"24px\">\n",
              "    <path d=\"M0 0h24v24H0V0z\" fill=\"none\"/>\n",
              "    <path d=\"M18.56 5.44l.94 2.06.94-2.06 2.06-.94-2.06-.94-.94-2.06-.94 2.06-2.06.94zm-11 1L8.5 8.5l.94-2.06 2.06-.94-2.06-.94L8.5 2.5l-.94 2.06-2.06.94zm10 10l.94 2.06.94-2.06 2.06-.94-2.06-.94-.94-2.06-.94 2.06-2.06.94z\"/><path d=\"M17.41 7.96l-1.37-1.37c-.4-.4-.92-.59-1.43-.59-.52 0-1.04.2-1.43.59L10.3 9.45l-7.72 7.72c-.78.78-.78 2.05 0 2.83L4 21.41c.39.39.9.59 1.41.59.51 0 1.02-.2 1.41-.59l7.78-7.78 2.81-2.81c.8-.78.8-2.07 0-2.86zM5.41 20L4 18.59l7.72-7.72 1.47 1.35L5.41 20z\"/>\n",
              "  </svg>\n",
              "      </button>\n",
              "      \n",
              "  <style>\n",
              "    .colab-df-container {\n",
              "      display:flex;\n",
              "      flex-wrap:wrap;\n",
              "      gap: 12px;\n",
              "    }\n",
              "\n",
              "    .colab-df-convert {\n",
              "      background-color: #E8F0FE;\n",
              "      border: none;\n",
              "      border-radius: 50%;\n",
              "      cursor: pointer;\n",
              "      display: none;\n",
              "      fill: #1967D2;\n",
              "      height: 32px;\n",
              "      padding: 0 0 0 0;\n",
              "      width: 32px;\n",
              "    }\n",
              "\n",
              "    .colab-df-convert:hover {\n",
              "      background-color: #E2EBFA;\n",
              "      box-shadow: 0px 1px 2px rgba(60, 64, 67, 0.3), 0px 1px 3px 1px rgba(60, 64, 67, 0.15);\n",
              "      fill: #174EA6;\n",
              "    }\n",
              "\n",
              "    [theme=dark] .colab-df-convert {\n",
              "      background-color: #3B4455;\n",
              "      fill: #D2E3FC;\n",
              "    }\n",
              "\n",
              "    [theme=dark] .colab-df-convert:hover {\n",
              "      background-color: #434B5C;\n",
              "      box-shadow: 0px 1px 3px 1px rgba(0, 0, 0, 0.15);\n",
              "      filter: drop-shadow(0px 1px 2px rgba(0, 0, 0, 0.3));\n",
              "      fill: #FFFFFF;\n",
              "    }\n",
              "  </style>\n",
              "\n",
              "      <script>\n",
              "        const buttonEl =\n",
              "          document.querySelector('#df-257afb76-cacc-4d0a-b9b3-c73de054ebfc button.colab-df-convert');\n",
              "        buttonEl.style.display =\n",
              "          google.colab.kernel.accessAllowed ? 'block' : 'none';\n",
              "\n",
              "        async function convertToInteractive(key) {\n",
              "          const element = document.querySelector('#df-257afb76-cacc-4d0a-b9b3-c73de054ebfc');\n",
              "          const dataTable =\n",
              "            await google.colab.kernel.invokeFunction('convertToInteractive',\n",
              "                                                     [key], {});\n",
              "          if (!dataTable) return;\n",
              "\n",
              "          const docLinkHtml = 'Like what you see? Visit the ' +\n",
              "            '<a target=\"_blank\" href=https://colab.research.google.com/notebooks/data_table.ipynb>data table notebook</a>'\n",
              "            + ' to learn more about interactive tables.';\n",
              "          element.innerHTML = '';\n",
              "          dataTable['output_type'] = 'display_data';\n",
              "          await google.colab.output.renderOutput(dataTable, element);\n",
              "          const docLink = document.createElement('div');\n",
              "          docLink.innerHTML = docLinkHtml;\n",
              "          element.appendChild(docLink);\n",
              "        }\n",
              "      </script>\n",
              "    </div>\n",
              "  </div>\n",
              "  "
            ]
          },
          "metadata": {},
          "execution_count": 28
        }
      ],
      "source": [
        "#collect results\n",
        "tpr_weight = 0.25\n",
        "models = pd.DataFrame({\n",
        "    'Model': ['Support Vector Classifier'],\n",
        "    'Accuracy': [max_accuracy_svc],\n",
        "                    \n",
        "    'Sensitivity' : [true_positive_svc],\n",
        "    'Objective Value' : [max_accuracy_svc+true_positive_svc*tpr_weight] })\n",
        "\n",
        "models"
      ]
    },
    {
      "cell_type": "code",
      "execution_count": 29,
      "metadata": {
        "id": "_mjJ9kr97w8F"
      },
      "outputs": [],
      "source": [
        "#collect results for plotting\n",
        "df_plotting = pd.DataFrame({\n",
        "    'Model': ['Support Vector Classifier', \n",
        "              'Support Vector Classifier'],\n",
        "    'Values': [max_accuracy_svc,\n",
        "             true_positive_svc],\n",
        "    'Type': ['Accuracy','Sensitivity'],\n",
        "    'Color': ['gray','gray']})"
      ]
    },
    {
      "cell_type": "code",
      "execution_count": 32,
      "metadata": {
        "colab": {
          "base_uri": "https://localhost:8080/",
          "height": 606
        },
        "id": "ZHI88LOKxJv6",
        "outputId": "0bbf2cc9-1706-43e7-dcd4-9d0fbcf67984"
      },
      "outputs": [
        {
          "output_type": "display_data",
          "data": {
            "text/plain": [
              "<Figure size 720x720 with 1 Axes>"
            ],
            "image/png": "[encoded data removed]"
          },
          "metadata": {
            "needs_background": "light"
          }
        }
      ],
      "source": [
        "#plot result comparison\n",
        "plt.figure(figsize=(10,10))\n",
        "sns.barplot(y=df_plotting['Values'],x=df_plotting['Type'], hue=df_plotting['Model'], orient =\"v\", palette=df_plotting['Color'])\n",
        "plt.ylim(min(df_plotting['Values'])* 0.99, max(df_plotting['Values'])*1.01)\n",
        "#plt.gcf().set_size_inches(50,10)\n",
        "plt.show()"
      ]
    },
    {
      "cell_type": "code",
      "execution_count": 33,
      "metadata": {
        "colab": {
          "base_uri": "https://localhost:8080/",
          "height": 334
        },
        "id": "EKuiSdkygg0z",
        "outputId": "3dd3e9f0-609e-40af-e3c2-cdb162c27d85"
      },
      "outputs": [
        {
          "output_type": "display_data",
          "data": {
            "text/plain": [
              "<Figure size 360x360 with 1 Axes>"
            ],
            "image/png": "[encoded data removed]"
          },
          "metadata": {
            "needs_background": "light"
          }
        }
      ],
      "source": [
        "#plot result comparison\n",
        "plt.figure(figsize=(5,5))\n",
        "sns.barplot(y=models['Objective Value'],x=models['Model'], orient =\"v\", palette=df_plotting['Color'])\n",
        "#sns.barplot(y=models['Sensitivity'],x=models['Model'], orient =\"v\")\n",
        "plt.ylim(min(models['Objective Value'])* 0.9, max(models['Objective Value'])*1.01)\n",
        "#sns.despine()\n",
        "plt.show()"
      ]
    }
  ]
}