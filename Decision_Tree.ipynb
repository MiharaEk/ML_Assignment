{
  "cells": [
    {
      "cell_type": "markdown",
      "metadata": {
        "id": "view-in-github",
        "colab_type": "text"
      },
      "source": [
        "<a href=\"https://colab.research.google.com/github/MiharaEk/ML_Assignment/blob/master/Decision_Tree.ipynb\" target=\"_parent\"><img src=\"https://colab.research.google.com/assets/colab-badge.svg\" alt=\"Open In Colab\"/></a>"
      ]
    },
    {
      "cell_type": "markdown",
      "metadata": {
        "id": "Xg5e6YzxveCj"
      },
      "source": [
        "  ## Dataset: Cardiovascular heart disease\n",
        "  ## Dataset URL: https://www.kaggle.com/datasets/sulianova/cardiovascular-disease-dataset\n",
        "  ## Algorithms Used: Decision Tree\n"
      ]
    },
    {
      "cell_type": "markdown",
      "metadata": {
        "id": "9SgEQqImuGPu"
      },
      "source": [
        "# Setup <a class=\"anchor\"  id=\"setup\"></a>\n"
      ]
    },
    {
      "cell_type": "markdown",
      "metadata": {
        "id": "v_HuthuSZ8pi"
      },
      "source": [
        "Importing all the required libraries and functions"
      ]
    },
    {
      "cell_type": "code",
      "execution_count": null,
      "metadata": {
        "colab": {
          "base_uri": "https://localhost:8080/"
        },
        "id": "W5alGHS6NJee",
        "outputId": "77d04b8d-ffde-4003-c9eb-d199ff182103"
      },
      "outputs": [
        {
          "output_type": "stream",
          "name": "stdout",
          "text": [
            "Found existing installation: scikit-learn 1.2.2\n",
            "Uninstalling scikit-learn-1.2.2:\n",
            "  Would remove:\n",
            "    /usr/local/lib/python3.9/dist-packages/scikit_learn-1.2.2.dist-info/*\n",
            "    /usr/local/lib/python3.9/dist-packages/scikit_learn.libs/libgomp-a34b3233.so.1.0.0\n",
            "    /usr/local/lib/python3.9/dist-packages/sklearn/*\n",
            "Proceed (Y/n)? y\n",
            "  Successfully uninstalled scikit-learn-1.2.2\n",
            "Looking in indexes: https://pypi.org/simple, https://us-python.pkg.dev/colab-wheels/public/simple/\n",
            "Collecting scikit-learn\n",
            "  Downloading scikit_learn-1.2.2-cp39-cp39-manylinux_2_17_x86_64.manylinux2014_x86_64.whl (9.6 MB)\n",
            "\u001b[2K     \u001b[90m━━━━━━━━━━━━━━━━━━━━━━━━━━━━━━━━━━━━━━━━\u001b[0m \u001b[32m9.6/9.6 MB\u001b[0m \u001b[31m73.6 MB/s\u001b[0m eta \u001b[36m0:00:00\u001b[0m\n",
            "\u001b[?25hRequirement already satisfied: numpy>=1.17.3 in /usr/local/lib/python3.9/dist-packages (from scikit-learn) (1.22.4)\n",
            "Requirement already satisfied: threadpoolctl>=2.0.0 in /usr/local/lib/python3.9/dist-packages (from scikit-learn) (3.1.0)\n",
            "Requirement already satisfied: joblib>=1.1.1 in /usr/local/lib/python3.9/dist-packages (from scikit-learn) (1.1.1)\n",
            "Requirement already satisfied: scipy>=1.3.2 in /usr/local/lib/python3.9/dist-packages (from scikit-learn) (1.10.1)\n",
            "Installing collected packages: scikit-learn\n",
            "Successfully installed scikit-learn-1.2.2\n",
            "Looking in indexes: https://pypi.org/simple, https://us-python.pkg.dev/colab-wheels/public/simple/\n",
            "Requirement already satisfied: matplotlib in /usr/local/lib/python3.9/dist-packages (3.7.1)\n",
            "Requirement already satisfied: python-dateutil>=2.7 in /usr/local/lib/python3.9/dist-packages (from matplotlib) (2.8.2)\n",
            "Requirement already satisfied: pillow>=6.2.0 in /usr/local/lib/python3.9/dist-packages (from matplotlib) (8.4.0)\n",
            "Requirement already satisfied: kiwisolver>=1.0.1 in /usr/local/lib/python3.9/dist-packages (from matplotlib) (1.4.4)\n",
            "Requirement already satisfied: numpy>=1.20 in /usr/local/lib/python3.9/dist-packages (from matplotlib) (1.22.4)\n",
            "Requirement already satisfied: packaging>=20.0 in /usr/local/lib/python3.9/dist-packages (from matplotlib) (23.0)\n",
            "Requirement already satisfied: pyparsing>=2.3.1 in /usr/local/lib/python3.9/dist-packages (from matplotlib) (3.0.9)\n",
            "Requirement already satisfied: contourpy>=1.0.1 in /usr/local/lib/python3.9/dist-packages (from matplotlib) (1.0.7)\n",
            "Requirement already satisfied: cycler>=0.10 in /usr/local/lib/python3.9/dist-packages (from matplotlib) (0.11.0)\n",
            "Requirement already satisfied: fonttools>=4.22.0 in /usr/local/lib/python3.9/dist-packages (from matplotlib) (4.39.0)\n",
            "Requirement already satisfied: importlib-resources>=3.2.0 in /usr/local/lib/python3.9/dist-packages (from matplotlib) (5.12.0)\n",
            "Requirement already satisfied: zipp>=3.1.0 in /usr/local/lib/python3.9/dist-packages (from importlib-resources>=3.2.0->matplotlib) (3.15.0)\n",
            "Requirement already satisfied: six>=1.5 in /usr/local/lib/python3.9/dist-packages (from python-dateutil>=2.7->matplotlib) (1.15.0)\n"
          ]
        }
      ],
      "source": [
        "!pip uninstall scikit-learn\n",
        "!pip install scikit-learn\n",
        "!pip install matplotlib"
      ]
    },
    {
      "cell_type": "code",
      "execution_count": null,
      "metadata": {
        "id": "zfnjCfA7qg1z"
      },
      "outputs": [],
      "source": [
        "### Data Handline\n",
        "import pandas as pd\n",
        "import numpy as np\n",
        "\n",
        "### Utility\n",
        "import math\n",
        "import warnings\n",
        "import string\n",
        "\n",
        "### Plotting\n",
        "# Matplotlib\n",
        "import matplotlib.pyplot as plt\n",
        "from matplotlib.legend_handler import HandlerLine2D\n",
        "\n",
        "\n",
        "# Model\n",
        "import sklearn\n",
        "from sklearn.preprocessing import StandardScaler\n",
        "from sklearn.preprocessing import MinMaxScaler\n",
        "import statsmodels.api as sm\n",
        "import statsmodels.formula.api as smf\n",
        "\n",
        "# Scikit-learn\n",
        "from sklearn.linear_model import LogisticRegression \n",
        "from sklearn.model_selection import train_test_split\n",
        "from sklearn.metrics import confusion_matrix, classification_report\n",
        "from sklearn.metrics import accuracy_score\n",
        "from sklearn.metrics import confusion_matrix, ConfusionMatrixDisplay\n",
        "from sklearn.tree import DecisionTreeClassifier\n",
        "from sklearn import metrics\n",
        "from sklearn.ensemble import GradientBoostingClassifier\n",
        "from sklearn.model_selection import GridSearchCV\n",
        "from sklearn.model_selection import cross_validate\n",
        "from sklearn.model_selection import KFold\n",
        "from sklearn.metrics import ConfusionMatrixDisplay \n",
        "\n",
        "\n",
        "#LDA\n",
        "from sklearn.model_selection import RepeatedStratifiedKFold\n",
        "from sklearn.model_selection import cross_val_score\n",
        "from sklearn.discriminant_analysis import LinearDiscriminantAnalysis\n",
        "\n",
        "#QDA\n",
        "from sklearn.discriminant_analysis import QuadraticDiscriminantAnalysis\n",
        "from sklearn.feature_selection import SequentialFeatureSelector\n",
        "\n",
        "#RND Forest\n",
        "from sklearn.ensemble import RandomForestClassifier\n",
        "\n",
        "# K Nearest Neighbors\n",
        "from sklearn.neighbors import KNeighborsClassifier\n",
        "\n",
        "#Support Vector Classifier\n",
        "from sklearn import svm\n",
        "from sklearn.svm import LinearSVC\n",
        "\n",
        "# Seaborn\n",
        "import seaborn as sns\n",
        "\n",
        "warnings.filterwarnings(\"ignore\")"
      ]
    },
    {
      "cell_type": "markdown",
      "metadata": {
        "id": "o-YDyJEtaTag"
      },
      "source": [
        "**Load dataset.**"
      ]
    },
    {
      "cell_type": "code",
      "execution_count": null,
      "metadata": {
        "colab": {
          "base_uri": "https://localhost:8080/",
          "height": 206
        },
        "id": "O72kFq1LuZgy",
        "outputId": "5f5ef0c2-d3aa-43b3-b19d-7b183cee8eb5"
      },
      "outputs": [
        {
          "output_type": "execute_result",
          "data": {
            "text/plain": [
              "   id    age  gender  height  weight  ap_hi  ap_lo  cholesterol  gluc  smoke  \\\n",
              "0   0  18393       2     168    62.0    110     80            1     1      0   \n",
              "1   1  20228       1     156    85.0    140     90            3     1      0   \n",
              "2   2  18857       1     165    64.0    130     70            3     1      0   \n",
              "3   3  17623       2     169    82.0    150    100            1     1      0   \n",
              "4   4  17474       1     156    56.0    100     60            1     1      0   \n",
              "\n",
              "   alco  active  cardio  \n",
              "0     0       1       0  \n",
              "1     0       1       1  \n",
              "2     0       0       1  \n",
              "3     0       1       1  \n",
              "4     0       0       0  "
            ],
            "text/html": [
              "\n",
              "  <div id=\"df-144d54c8-ff53-4011-8946-4e88390be213\">\n",
              "    <div class=\"colab-df-container\">\n",
              "      <div>\n",
              "<style scoped>\n",
              "    .dataframe tbody tr th:only-of-type {\n",
              "        vertical-align: middle;\n",
              "    }\n",
              "\n",
              "    .dataframe tbody tr th {\n",
              "        vertical-align: top;\n",
              "    }\n",
              "\n",
              "    .dataframe thead th {\n",
              "        text-align: right;\n",
              "    }\n",
              "</style>\n",
              "<table border=\"1\" class=\"dataframe\">\n",
              "  <thead>\n",
              "    <tr style=\"text-align: right;\">\n",
              "      <th></th>\n",
              "      <th>id</th>\n",
              "      <th>age</th>\n",
              "      <th>gender</th>\n",
              "      <th>height</th>\n",
              "      <th>weight</th>\n",
              "      <th>ap_hi</th>\n",
              "      <th>ap_lo</th>\n",
              "      <th>cholesterol</th>\n",
              "      <th>gluc</th>\n",
              "      <th>smoke</th>\n",
              "      <th>alco</th>\n",
              "      <th>active</th>\n",
              "      <th>cardio</th>\n",
              "    </tr>\n",
              "  </thead>\n",
              "  <tbody>\n",
              "    <tr>\n",
              "      <th>0</th>\n",
              "      <td>0</td>\n",
              "      <td>18393</td>\n",
              "      <td>2</td>\n",
              "      <td>168</td>\n",
              "      <td>62.0</td>\n",
              "      <td>110</td>\n",
              "      <td>80</td>\n",
              "      <td>1</td>\n",
              "      <td>1</td>\n",
              "      <td>0</td>\n",
              "      <td>0</td>\n",
              "      <td>1</td>\n",
              "      <td>0</td>\n",
              "    </tr>\n",
              "    <tr>\n",
              "      <th>1</th>\n",
              "      <td>1</td>\n",
              "      <td>20228</td>\n",
              "      <td>1</td>\n",
              "      <td>156</td>\n",
              "      <td>85.0</td>\n",
              "      <td>140</td>\n",
              "      <td>90</td>\n",
              "      <td>3</td>\n",
              "      <td>1</td>\n",
              "      <td>0</td>\n",
              "      <td>0</td>\n",
              "      <td>1</td>\n",
              "      <td>1</td>\n",
              "    </tr>\n",
              "    <tr>\n",
              "      <th>2</th>\n",
              "      <td>2</td>\n",
              "      <td>18857</td>\n",
              "      <td>1</td>\n",
              "      <td>165</td>\n",
              "      <td>64.0</td>\n",
              "      <td>130</td>\n",
              "      <td>70</td>\n",
              "      <td>3</td>\n",
              "      <td>1</td>\n",
              "      <td>0</td>\n",
              "      <td>0</td>\n",
              "      <td>0</td>\n",
              "      <td>1</td>\n",
              "    </tr>\n",
              "    <tr>\n",
              "      <th>3</th>\n",
              "      <td>3</td>\n",
              "      <td>17623</td>\n",
              "      <td>2</td>\n",
              "      <td>169</td>\n",
              "      <td>82.0</td>\n",
              "      <td>150</td>\n",
              "      <td>100</td>\n",
              "      <td>1</td>\n",
              "      <td>1</td>\n",
              "      <td>0</td>\n",
              "      <td>0</td>\n",
              "      <td>1</td>\n",
              "      <td>1</td>\n",
              "    </tr>\n",
              "    <tr>\n",
              "      <th>4</th>\n",
              "      <td>4</td>\n",
              "      <td>17474</td>\n",
              "      <td>1</td>\n",
              "      <td>156</td>\n",
              "      <td>56.0</td>\n",
              "      <td>100</td>\n",
              "      <td>60</td>\n",
              "      <td>1</td>\n",
              "      <td>1</td>\n",
              "      <td>0</td>\n",
              "      <td>0</td>\n",
              "      <td>0</td>\n",
              "      <td>0</td>\n",
              "    </tr>\n",
              "  </tbody>\n",
              "</table>\n",
              "</div>\n",
              "      <button class=\"colab-df-convert\" onclick=\"convertToInteractive('df-144d54c8-ff53-4011-8946-4e88390be213')\"\n",
              "              title=\"Convert this dataframe to an interactive table.\"\n",
              "              style=\"display:none;\">\n",
              "        \n",
              "  <svg xmlns=\"http://www.w3.org/2000/svg\" height=\"24px\"viewBox=\"0 0 24 24\"\n",
              "       width=\"24px\">\n",
              "    <path d=\"M0 0h24v24H0V0z\" fill=\"none\"/>\n",
              "    <path d=\"M18.56 5.44l.94 2.06.94-2.06 2.06-.94-2.06-.94-.94-2.06-.94 2.06-2.06.94zm-11 1L8.5 8.5l.94-2.06 2.06-.94-2.06-.94L8.5 2.5l-.94 2.06-2.06.94zm10 10l.94 2.06.94-2.06 2.06-.94-2.06-.94-.94-2.06-.94 2.06-2.06.94z\"/><path d=\"M17.41 7.96l-1.37-1.37c-.4-.4-.92-.59-1.43-.59-.52 0-1.04.2-1.43.59L10.3 9.45l-7.72 7.72c-.78.78-.78 2.05 0 2.83L4 21.41c.39.39.9.59 1.41.59.51 0 1.02-.2 1.41-.59l7.78-7.78 2.81-2.81c.8-.78.8-2.07 0-2.86zM5.41 20L4 18.59l7.72-7.72 1.47 1.35L5.41 20z\"/>\n",
              "  </svg>\n",
              "      </button>\n",
              "      \n",
              "  <style>\n",
              "    .colab-df-container {\n",
              "      display:flex;\n",
              "      flex-wrap:wrap;\n",
              "      gap: 12px;\n",
              "    }\n",
              "\n",
              "    .colab-df-convert {\n",
              "      background-color: #E8F0FE;\n",
              "      border: none;\n",
              "      border-radius: 50%;\n",
              "      cursor: pointer;\n",
              "      display: none;\n",
              "      fill: #1967D2;\n",
              "      height: 32px;\n",
              "      padding: 0 0 0 0;\n",
              "      width: 32px;\n",
              "    }\n",
              "\n",
              "    .colab-df-convert:hover {\n",
              "      background-color: #E2EBFA;\n",
              "      box-shadow: 0px 1px 2px rgba(60, 64, 67, 0.3), 0px 1px 3px 1px rgba(60, 64, 67, 0.15);\n",
              "      fill: #174EA6;\n",
              "    }\n",
              "\n",
              "    [theme=dark] .colab-df-convert {\n",
              "      background-color: #3B4455;\n",
              "      fill: #D2E3FC;\n",
              "    }\n",
              "\n",
              "    [theme=dark] .colab-df-convert:hover {\n",
              "      background-color: #434B5C;\n",
              "      box-shadow: 0px 1px 3px 1px rgba(0, 0, 0, 0.15);\n",
              "      filter: drop-shadow(0px 1px 2px rgba(0, 0, 0, 0.3));\n",
              "      fill: #FFFFFF;\n",
              "    }\n",
              "  </style>\n",
              "\n",
              "      <script>\n",
              "        const buttonEl =\n",
              "          document.querySelector('#df-144d54c8-ff53-4011-8946-4e88390be213 button.colab-df-convert');\n",
              "        buttonEl.style.display =\n",
              "          google.colab.kernel.accessAllowed ? 'block' : 'none';\n",
              "\n",
              "        async function convertToInteractive(key) {\n",
              "          const element = document.querySelector('#df-144d54c8-ff53-4011-8946-4e88390be213');\n",
              "          const dataTable =\n",
              "            await google.colab.kernel.invokeFunction('convertToInteractive',\n",
              "                                                     [key], {});\n",
              "          if (!dataTable) return;\n",
              "\n",
              "          const docLinkHtml = 'Like what you see? Visit the ' +\n",
              "            '<a target=\"_blank\" href=https://colab.research.google.com/notebooks/data_table.ipynb>data table notebook</a>'\n",
              "            + ' to learn more about interactive tables.';\n",
              "          element.innerHTML = '';\n",
              "          dataTable['output_type'] = 'display_data';\n",
              "          await google.colab.output.renderOutput(dataTable, element);\n",
              "          const docLink = document.createElement('div');\n",
              "          docLink.innerHTML = docLinkHtml;\n",
              "          element.appendChild(docLink);\n",
              "        }\n",
              "      </script>\n",
              "    </div>\n",
              "  </div>\n",
              "  "
            ]
          },
          "metadata": {},
          "execution_count": 3
        }
      ],
      "source": [
        "dataset = pd.read_csv(\"/content/cardio_train.csv\",delimiter=\";\")\n",
        "\n",
        "dataset.head()"
      ]
    },
    {
      "cell_type": "code",
      "execution_count": null,
      "metadata": {
        "colab": {
          "base_uri": "https://localhost:8080/"
        },
        "id": "2U0yDBd-vKmB",
        "outputId": "f5276c48-0b9d-498f-fb02-dca79cfd8b6c"
      },
      "outputs": [
        {
          "output_type": "stream",
          "name": "stdout",
          "text": [
            "<class 'pandas.core.frame.DataFrame'>\n",
            "RangeIndex: 70000 entries, 0 to 69999\n",
            "Data columns (total 13 columns):\n",
            " #   Column       Non-Null Count  Dtype  \n",
            "---  ------       --------------  -----  \n",
            " 0   id           70000 non-null  int64  \n",
            " 1   age          70000 non-null  int64  \n",
            " 2   gender       70000 non-null  int64  \n",
            " 3   height       70000 non-null  int64  \n",
            " 4   weight       70000 non-null  float64\n",
            " 5   ap_hi        70000 non-null  int64  \n",
            " 6   ap_lo        70000 non-null  int64  \n",
            " 7   cholesterol  70000 non-null  int64  \n",
            " 8   gluc         70000 non-null  int64  \n",
            " 9   smoke        70000 non-null  int64  \n",
            " 10  alco         70000 non-null  int64  \n",
            " 11  active       70000 non-null  int64  \n",
            " 12  cardio       70000 non-null  int64  \n",
            "dtypes: float64(1), int64(12)\n",
            "memory usage: 6.9 MB\n"
          ]
        }
      ],
      "source": [
        "dataset.info()"
      ]
    },
    {
      "cell_type": "markdown",
      "metadata": {
        "id": "Y6ULzEsrP4xt"
      },
      "source": [
        "# Data Preprocessing"
      ]
    },
    {
      "cell_type": "code",
      "execution_count": null,
      "metadata": {
        "colab": {
          "base_uri": "https://localhost:8080/"
        },
        "id": "Q6tL48gYRZeD",
        "outputId": "b3592edc-6dac-4a89-e938-928063d6011f"
      },
      "outputs": [
        {
          "output_type": "stream",
          "name": "stdout",
          "text": [
            "Number of entries in the dataframe:  910000\n",
            "Missing values:  0 \n",
            "\n",
            "Dataset contains no Duplicate Values\n"
          ]
        }
      ],
      "source": [
        "number_of_entity = dataset.shape[0]*dataset.shape[1]\n",
        "print('Number of entries in the dataframe: ', number_of_entity)\n",
        "\n",
        "missing_value_count = dataset.isna().sum().sum()\n",
        "print('Missing values: ', missing_value_count, '\\n')\n",
        "\n",
        "df_duplicate = dataset.duplicated().sum()\n",
        "if df_duplicate:\n",
        "    print('Duplicates Rows in Dataset are : {}'.format(df_duplicate))\n",
        "else:\n",
        "    print('Dataset contains no Duplicate Values')"
      ]
    },
    {
      "cell_type": "code",
      "execution_count": null,
      "metadata": {
        "id": "NtxBcXHSRRAl"
      },
      "outputs": [],
      "source": [
        "#Remove all duplicated rows.\n",
        "dataset.drop_duplicates(inplace=True)\n",
        "\n",
        "#Remove id column because it is clearly not correlated in any way with the target\n",
        "dataset.drop(['id'], axis=1,inplace=True)"
      ]
    },
    {
      "cell_type": "code",
      "execution_count": null,
      "metadata": {
        "colab": {
          "base_uri": "https://localhost:8080/",
          "height": 364
        },
        "id": "hR3qHo75vRmI",
        "outputId": "a9af0517-f60e-453f-cb3b-2751a2420b86"
      },
      "outputs": [
        {
          "output_type": "execute_result",
          "data": {
            "text/plain": [
              "                age        gender        height        weight         ap_hi  \\\n",
              "count  70000.000000  70000.000000  70000.000000  70000.000000  70000.000000   \n",
              "mean   19468.865814      1.349571    164.359229     74.205690    128.817286   \n",
              "std     2467.251667      0.476838      8.210126     14.395757    154.011419   \n",
              "min    10798.000000      1.000000     55.000000     10.000000   -150.000000   \n",
              "25%    17664.000000      1.000000    159.000000     65.000000    120.000000   \n",
              "50%    19703.000000      1.000000    165.000000     72.000000    120.000000   \n",
              "75%    21327.000000      2.000000    170.000000     82.000000    140.000000   \n",
              "max    23713.000000      2.000000    250.000000    200.000000  16020.000000   \n",
              "\n",
              "              ap_lo   cholesterol          gluc         smoke          alco  \\\n",
              "count  70000.000000  70000.000000  70000.000000  70000.000000  70000.000000   \n",
              "mean      96.630414      1.366871      1.226457      0.088129      0.053771   \n",
              "std      188.472530      0.680250      0.572270      0.283484      0.225568   \n",
              "min      -70.000000      1.000000      1.000000      0.000000      0.000000   \n",
              "25%       80.000000      1.000000      1.000000      0.000000      0.000000   \n",
              "50%       80.000000      1.000000      1.000000      0.000000      0.000000   \n",
              "75%       90.000000      2.000000      1.000000      0.000000      0.000000   \n",
              "max    11000.000000      3.000000      3.000000      1.000000      1.000000   \n",
              "\n",
              "             active        cardio  \n",
              "count  70000.000000  70000.000000  \n",
              "mean       0.803729      0.499700  \n",
              "std        0.397179      0.500003  \n",
              "min        0.000000      0.000000  \n",
              "25%        1.000000      0.000000  \n",
              "50%        1.000000      0.000000  \n",
              "75%        1.000000      1.000000  \n",
              "max        1.000000      1.000000  "
            ],
            "text/html": [
              "\n",
              "  <div id=\"df-6d8f855c-f888-4802-920e-86ae69da8606\">\n",
              "    <div class=\"colab-df-container\">\n",
              "      <div>\n",
              "<style scoped>\n",
              "    .dataframe tbody tr th:only-of-type {\n",
              "        vertical-align: middle;\n",
              "    }\n",
              "\n",
              "    .dataframe tbody tr th {\n",
              "        vertical-align: top;\n",
              "    }\n",
              "\n",
              "    .dataframe thead th {\n",
              "        text-align: right;\n",
              "    }\n",
              "</style>\n",
              "<table border=\"1\" class=\"dataframe\">\n",
              "  <thead>\n",
              "    <tr style=\"text-align: right;\">\n",
              "      <th></th>\n",
              "      <th>age</th>\n",
              "      <th>gender</th>\n",
              "      <th>height</th>\n",
              "      <th>weight</th>\n",
              "      <th>ap_hi</th>\n",
              "      <th>ap_lo</th>\n",
              "      <th>cholesterol</th>\n",
              "      <th>gluc</th>\n",
              "      <th>smoke</th>\n",
              "      <th>alco</th>\n",
              "      <th>active</th>\n",
              "      <th>cardio</th>\n",
              "    </tr>\n",
              "  </thead>\n",
              "  <tbody>\n",
              "    <tr>\n",
              "      <th>count</th>\n",
              "      <td>70000.000000</td>\n",
              "      <td>70000.000000</td>\n",
              "      <td>70000.000000</td>\n",
              "      <td>70000.000000</td>\n",
              "      <td>70000.000000</td>\n",
              "      <td>70000.000000</td>\n",
              "      <td>70000.000000</td>\n",
              "      <td>70000.000000</td>\n",
              "      <td>70000.000000</td>\n",
              "      <td>70000.000000</td>\n",
              "      <td>70000.000000</td>\n",
              "      <td>70000.000000</td>\n",
              "    </tr>\n",
              "    <tr>\n",
              "      <th>mean</th>\n",
              "      <td>19468.865814</td>\n",
              "      <td>1.349571</td>\n",
              "      <td>164.359229</td>\n",
              "      <td>74.205690</td>\n",
              "      <td>128.817286</td>\n",
              "      <td>96.630414</td>\n",
              "      <td>1.366871</td>\n",
              "      <td>1.226457</td>\n",
              "      <td>0.088129</td>\n",
              "      <td>0.053771</td>\n",
              "      <td>0.803729</td>\n",
              "      <td>0.499700</td>\n",
              "    </tr>\n",
              "    <tr>\n",
              "      <th>std</th>\n",
              "      <td>2467.251667</td>\n",
              "      <td>0.476838</td>\n",
              "      <td>8.210126</td>\n",
              "      <td>14.395757</td>\n",
              "      <td>154.011419</td>\n",
              "      <td>188.472530</td>\n",
              "      <td>0.680250</td>\n",
              "      <td>0.572270</td>\n",
              "      <td>0.283484</td>\n",
              "      <td>0.225568</td>\n",
              "      <td>0.397179</td>\n",
              "      <td>0.500003</td>\n",
              "    </tr>\n",
              "    <tr>\n",
              "      <th>min</th>\n",
              "      <td>10798.000000</td>\n",
              "      <td>1.000000</td>\n",
              "      <td>55.000000</td>\n",
              "      <td>10.000000</td>\n",
              "      <td>-150.000000</td>\n",
              "      <td>-70.000000</td>\n",
              "      <td>1.000000</td>\n",
              "      <td>1.000000</td>\n",
              "      <td>0.000000</td>\n",
              "      <td>0.000000</td>\n",
              "      <td>0.000000</td>\n",
              "      <td>0.000000</td>\n",
              "    </tr>\n",
              "    <tr>\n",
              "      <th>25%</th>\n",
              "      <td>17664.000000</td>\n",
              "      <td>1.000000</td>\n",
              "      <td>159.000000</td>\n",
              "      <td>65.000000</td>\n",
              "      <td>120.000000</td>\n",
              "      <td>80.000000</td>\n",
              "      <td>1.000000</td>\n",
              "      <td>1.000000</td>\n",
              "      <td>0.000000</td>\n",
              "      <td>0.000000</td>\n",
              "      <td>1.000000</td>\n",
              "      <td>0.000000</td>\n",
              "    </tr>\n",
              "    <tr>\n",
              "      <th>50%</th>\n",
              "      <td>19703.000000</td>\n",
              "      <td>1.000000</td>\n",
              "      <td>165.000000</td>\n",
              "      <td>72.000000</td>\n",
              "      <td>120.000000</td>\n",
              "      <td>80.000000</td>\n",
              "      <td>1.000000</td>\n",
              "      <td>1.000000</td>\n",
              "      <td>0.000000</td>\n",
              "      <td>0.000000</td>\n",
              "      <td>1.000000</td>\n",
              "      <td>0.000000</td>\n",
              "    </tr>\n",
              "    <tr>\n",
              "      <th>75%</th>\n",
              "      <td>21327.000000</td>\n",
              "      <td>2.000000</td>\n",
              "      <td>170.000000</td>\n",
              "      <td>82.000000</td>\n",
              "      <td>140.000000</td>\n",
              "      <td>90.000000</td>\n",
              "      <td>2.000000</td>\n",
              "      <td>1.000000</td>\n",
              "      <td>0.000000</td>\n",
              "      <td>0.000000</td>\n",
              "      <td>1.000000</td>\n",
              "      <td>1.000000</td>\n",
              "    </tr>\n",
              "    <tr>\n",
              "      <th>max</th>\n",
              "      <td>23713.000000</td>\n",
              "      <td>2.000000</td>\n",
              "      <td>250.000000</td>\n",
              "      <td>200.000000</td>\n",
              "      <td>16020.000000</td>\n",
              "      <td>11000.000000</td>\n",
              "      <td>3.000000</td>\n",
              "      <td>3.000000</td>\n",
              "      <td>1.000000</td>\n",
              "      <td>1.000000</td>\n",
              "      <td>1.000000</td>\n",
              "      <td>1.000000</td>\n",
              "    </tr>\n",
              "  </tbody>\n",
              "</table>\n",
              "</div>\n",
              "      <button class=\"colab-df-convert\" onclick=\"convertToInteractive('df-6d8f855c-f888-4802-920e-86ae69da8606')\"\n",
              "              title=\"Convert this dataframe to an interactive table.\"\n",
              "              style=\"display:none;\">\n",
              "        \n",
              "  <svg xmlns=\"http://www.w3.org/2000/svg\" height=\"24px\"viewBox=\"0 0 24 24\"\n",
              "       width=\"24px\">\n",
              "    <path d=\"M0 0h24v24H0V0z\" fill=\"none\"/>\n",
              "    <path d=\"M18.56 5.44l.94 2.06.94-2.06 2.06-.94-2.06-.94-.94-2.06-.94 2.06-2.06.94zm-11 1L8.5 8.5l.94-2.06 2.06-.94-2.06-.94L8.5 2.5l-.94 2.06-2.06.94zm10 10l.94 2.06.94-2.06 2.06-.94-2.06-.94-.94-2.06-.94 2.06-2.06.94z\"/><path d=\"M17.41 7.96l-1.37-1.37c-.4-.4-.92-.59-1.43-.59-.52 0-1.04.2-1.43.59L10.3 9.45l-7.72 7.72c-.78.78-.78 2.05 0 2.83L4 21.41c.39.39.9.59 1.41.59.51 0 1.02-.2 1.41-.59l7.78-7.78 2.81-2.81c.8-.78.8-2.07 0-2.86zM5.41 20L4 18.59l7.72-7.72 1.47 1.35L5.41 20z\"/>\n",
              "  </svg>\n",
              "      </button>\n",
              "      \n",
              "  <style>\n",
              "    .colab-df-container {\n",
              "      display:flex;\n",
              "      flex-wrap:wrap;\n",
              "      gap: 12px;\n",
              "    }\n",
              "\n",
              "    .colab-df-convert {\n",
              "      background-color: #E8F0FE;\n",
              "      border: none;\n",
              "      border-radius: 50%;\n",
              "      cursor: pointer;\n",
              "      display: none;\n",
              "      fill: #1967D2;\n",
              "      height: 32px;\n",
              "      padding: 0 0 0 0;\n",
              "      width: 32px;\n",
              "    }\n",
              "\n",
              "    .colab-df-convert:hover {\n",
              "      background-color: #E2EBFA;\n",
              "      box-shadow: 0px 1px 2px rgba(60, 64, 67, 0.3), 0px 1px 3px 1px rgba(60, 64, 67, 0.15);\n",
              "      fill: #174EA6;\n",
              "    }\n",
              "\n",
              "    [theme=dark] .colab-df-convert {\n",
              "      background-color: #3B4455;\n",
              "      fill: #D2E3FC;\n",
              "    }\n",
              "\n",
              "    [theme=dark] .colab-df-convert:hover {\n",
              "      background-color: #434B5C;\n",
              "      box-shadow: 0px 1px 3px 1px rgba(0, 0, 0, 0.15);\n",
              "      filter: drop-shadow(0px 1px 2px rgba(0, 0, 0, 0.3));\n",
              "      fill: #FFFFFF;\n",
              "    }\n",
              "  </style>\n",
              "\n",
              "      <script>\n",
              "        const buttonEl =\n",
              "          document.querySelector('#df-6d8f855c-f888-4802-920e-86ae69da8606 button.colab-df-convert');\n",
              "        buttonEl.style.display =\n",
              "          google.colab.kernel.accessAllowed ? 'block' : 'none';\n",
              "\n",
              "        async function convertToInteractive(key) {\n",
              "          const element = document.querySelector('#df-6d8f855c-f888-4802-920e-86ae69da8606');\n",
              "          const dataTable =\n",
              "            await google.colab.kernel.invokeFunction('convertToInteractive',\n",
              "                                                     [key], {});\n",
              "          if (!dataTable) return;\n",
              "\n",
              "          const docLinkHtml = 'Like what you see? Visit the ' +\n",
              "            '<a target=\"_blank\" href=https://colab.research.google.com/notebooks/data_table.ipynb>data table notebook</a>'\n",
              "            + ' to learn more about interactive tables.';\n",
              "          element.innerHTML = '';\n",
              "          dataTable['output_type'] = 'display_data';\n",
              "          await google.colab.output.renderOutput(dataTable, element);\n",
              "          const docLink = document.createElement('div');\n",
              "          docLink.innerHTML = docLinkHtml;\n",
              "          element.appendChild(docLink);\n",
              "        }\n",
              "      </script>\n",
              "    </div>\n",
              "  </div>\n",
              "  "
            ]
          },
          "metadata": {},
          "execution_count": 7
        }
      ],
      "source": [
        "dataset.describe()"
      ]
    },
    {
      "cell_type": "markdown",
      "metadata": {
        "id": "5hUwak6q6PRs"
      },
      "source": [
        "**Observations**\n",
        "- The 'Age' column needs to be recalculated because it contains minimum values that are unrealistic and suggest missing or incorrect data.\n",
        "- The 'Weight' column contains minimum and maximum values that are unrealistic and need to be adjusted.\n",
        "- The Systolic blood pressure \"ap_hi\" and Diastolic blood pressure \"ap_lo\" columns cannot have negative values.\n",
        "- If the values in the ap_hi and ap_lo columns exceed 180 mmHg and 120 mmHg respectively, this indicates a hypertensive crisis, which is a medical emergency, so the maximum values in these columns should be adjusted accordingly.\n",
        "\n",
        "\n",
        "\n"
      ]
    },
    {
      "cell_type": "code",
      "execution_count": null,
      "metadata": {
        "id": "_0XFf1QcWIvd"
      },
      "outputs": [],
      "source": [
        "#The 'Age' column in the dataset is expressed in days, so we need to convert it to years.\n",
        "dataset['age'] = dataset['age'].apply(lambda x: x/365)  "
      ]
    },
    {
      "cell_type": "code",
      "execution_count": null,
      "metadata": {
        "colab": {
          "base_uri": "https://localhost:8080/"
        },
        "id": "6BgZ1XphWb55",
        "outputId": "d5dc2bb4-97b3-4c93-dabb-316f6059c12a"
      },
      "outputs": [
        {
          "output_type": "stream",
          "name": "stdout",
          "text": [
            "Have total 1275 outliers\n",
            "percent missing: 1.8%\n"
          ]
        }
      ],
      "source": [
        "outliers = len(dataset[(dataset[\"ap_hi\"]>=280) | (dataset[\"ap_lo\"]>=220) | (dataset[\"ap_lo\"] < 0) | (dataset[\"ap_hi\"] < 0) | (dataset[\"ap_hi\"]<dataset[\"ap_lo\"])])\n",
        "\n",
        "print(f'Have total {outliers} outliers')\n",
        "print(f'percent missing: {round(outliers/len(dataset)*100,1)}%')"
      ]
    },
    {
      "cell_type": "code",
      "execution_count": null,
      "metadata": {
        "id": "4ESYJqaFEYgc"
      },
      "outputs": [],
      "source": [
        "#Filtering oSystolic blood pressure and Diastolic blood pressure\n",
        "dataset = dataset[ (dataset['ap_lo'] >= 0) & (dataset['ap_hi'] >= 0) ]  #remove negative values\n",
        "dataset = dataset[ (dataset['ap_lo'] <= 220) & (dataset['ap_hi'] <= 280) ]  #remove fishy data points\n",
        "dataset = dataset[ (dataset['ap_lo'] < dataset['ap_hi']) ]  #remove systolic higher than diastolic\n"
      ]
    },
    {
      "cell_type": "code",
      "execution_count": null,
      "metadata": {
        "id": "1xv7x-DxG3ls"
      },
      "outputs": [],
      "source": [
        "Q1_hi = dataset['ap_hi'].quantile(0.05) # 5th percentile of the data of the given feature\n",
        "Q3_hi = dataset['ap_hi'].quantile(0.95)  # 95th percentile of the data of the given feature\n",
        "IQR_hi = Q3_hi - Q1_hi\n",
        "lower, upper = Q1_hi - 1.5 * IQR_hi, Q3_hi + 1.5 * IQR_hi\n",
        "dataset = dataset[(dataset['ap_hi'] >= lower) & (dataset['ap_hi'] <= upper)]  \n",
        "\n",
        "Q1_lo = dataset['ap_lo'].quantile(0.05) # 5th percentile of the data of the given feature\n",
        "Q3_lo = dataset['ap_lo'].quantile(0.95)  # 95th percentile of the data of the given feature\n",
        "IQR_lo = Q3_lo - Q1_lo\n",
        "lower, upper = Q1_lo - 1.5 * IQR_lo, Q3_lo + 1.5 * IQR_lo\n",
        "dataset = dataset[(dataset['ap_lo'] >= lower) & (dataset['ap_lo'] <= upper)]  "
      ]
    },
    {
      "cell_type": "code",
      "execution_count": null,
      "metadata": {
        "colab": {
          "base_uri": "https://localhost:8080/",
          "height": 441
        },
        "id": "t5DgZMOwG2KD",
        "outputId": "db6122c3-19f0-45b1-afd3-ebbfb823826a"
      },
      "outputs": [
        {
          "output_type": "display_data",
          "data": {
            "text/plain": [
              "<Figure size 432x432 with 3 Axes>"
            ],
            "image/png": "[encoded data removed]"
          },
          "metadata": {
            "needs_background": "light"
          }
        }
      ],
      "source": [
        "sns.jointplot(x='ap_hi', y='ap_lo', data=dataset);"
      ]
    },
    {
      "cell_type": "markdown",
      "metadata": {
        "id": "ilJGjzRQMHts"
      },
      "source": [
        "## 1.1 - IQR based filtering - height, weight <a class=\"anchor\"  id=\"iqr\"></a>\n",
        "\n",
        "\n",
        "\n"
      ]
    },
    {
      "cell_type": "code",
      "execution_count": null,
      "metadata": {
        "colab": {
          "base_uri": "https://localhost:8080/",
          "height": 338
        },
        "id": "yBJpf9nVSS9e",
        "outputId": "900e0138-7079-4594-e883-505c9f2deda5"
      },
      "outputs": [
        {
          "output_type": "execute_result",
          "data": {
            "text/plain": [
              "<Axes: >"
            ]
          },
          "metadata": {},
          "execution_count": 13
        },
        {
          "output_type": "display_data",
          "data": {
            "text/plain": [
              "<Figure size 1080x360 with 1 Axes>"
            ],
            "image/png": "[encoded data removed]"
          },
          "metadata": {
            "needs_background": "light"
          }
        }
      ],
      "source": [
        "plt.figure(figsize=(15,5))\n",
        "dataset.boxplot(['weight','height'])"
      ]
    },
    {
      "cell_type": "code",
      "execution_count": null,
      "metadata": {
        "colab": {
          "base_uri": "https://localhost:8080/"
        },
        "id": "kY2UvRZa05Ya",
        "outputId": "78c9848b-db50-4b67-b4d4-a0842ab5bb60"
      },
      "outputs": [
        {
          "output_type": "execute_result",
          "data": {
            "text/plain": [
              "0"
            ]
          },
          "metadata": {},
          "execution_count": 14
        }
      ],
      "source": [
        "#Filtering out the smallest and tallest human ever known were 54 cm and 251 cm respectively\n",
        "len(dataset[(dataset['height'] > 251) | (dataset['height'] < 54)])"
      ]
    },
    {
      "cell_type": "code",
      "execution_count": null,
      "metadata": {
        "colab": {
          "base_uri": "https://localhost:8080/"
        },
        "id": "QJNV04gkTb5J",
        "outputId": "494ba7fc-8a43-4bcb-bb87-3613a5eb75de"
      },
      "outputs": [
        {
          "output_type": "stream",
          "name": "stdout",
          "text": [
            "Feature: height-------------\n",
            "Percentiles: 5th=152.0, 95th=178.0, IQR=26.0\n",
            "Identified outliers: 46 \n",
            "\n",
            "Feature: weight-------------\n",
            "Percentiles: 5th=55.0, 95th=100.0, IQR=45.0\n",
            "Identified outliers: 20 \n",
            "\n"
          ]
        }
      ],
      "source": [
        "#Function that detects the outlier given interquartile range\n",
        "def detect_outliers(df,q1,q3):\n",
        "  for col in df.columns:\n",
        "    df_feature = df[col]\n",
        "    Q1 = df_feature.quantile(q1) # 25th percentile of the data of the given feature\n",
        "    Q3 = df_feature.quantile(q3)  # 75th percentile of the data of the given feature\n",
        "    IQR = Q3 - Q1    #IQR is interquartile range. \n",
        "    print(f'Feature: {col}-------------')\n",
        "    print(f'Percentiles: {int(q1*100)}th={Q1}, {int(q3*100)}th={Q3}, IQR={IQR}')\n",
        "    # calculate the outlier lower and upper bound\n",
        "    lower, upper = Q1 - 1.5 * IQR, Q3 + 1.5 * IQR\n",
        "    # identify outliers\n",
        "    outliers = [x for x in df_feature if x < lower or x > upper]\n",
        "    print('Identified outliers: %d \\n' % len(outliers))\n",
        "    # remove outliers \n",
        "    #dataset = df[(df_feature >= lower) & (df_feature <= upper)]  \n",
        "  \n",
        "detect_outliers(dataset[['height', 'weight']],0.05,0.95)"
      ]
    },
    {
      "cell_type": "code",
      "execution_count": null,
      "metadata": {
        "id": "yqMh0Wpz_cH1"
      },
      "outputs": [],
      "source": [
        "#After the observation we can remove the outliers weight, height\n",
        "dataset_cleaned = dataset \n",
        "for col in ['height','weight']:\n",
        "  Q1 = dataset[col].quantile(0.05) # 5th percentile of the data of the given feature\n",
        "  Q3 = dataset[col].quantile(0.95)  # 95th percentile of the data of the given feature\n",
        "  IQR = Q3 - Q1\n",
        "  lower, upper = Q1 - 1.5 * IQR, Q3 + 1.5 * IQR\n",
        "  dataset_cleaned = dataset_cleaned[(dataset_cleaned[col] >= lower) & (dataset_cleaned[col] <= upper)]  \n"
      ]
    },
    {
      "cell_type": "markdown",
      "metadata": {
        "id": "qG6EJa0RV58j"
      },
      "source": [
        "## 1.2 - BMI - filtering <a class=\"anchor\"  id=\"bmi\"></a>"
      ]
    },
    {
      "cell_type": "markdown",
      "metadata": {
        "id": "Kg8M75r6WvZi"
      },
      "source": [
        "One way to potentially gain better insights from the data is to create a new feature called the Body Mass Index (BMI), which takes into account both height and weight. The BMI provides information about a person's general health status, indicating whether they fall within a normal weight range or not. The formula used to calculate BMI can be applied to the data.\n",
        "\n",
        "\\begin{equation}\n",
        "BMI = \\tfrac{weight}{height^2}\n",
        "\\end{equation}\n",
        "\n",
        "*BMI = kg/m2 where kg is a person's weight in kilograms and m2 is their height in metres squared*"
      ]
    },
    {
      "cell_type": "code",
      "execution_count": null,
      "metadata": {
        "colab": {
          "base_uri": "https://localhost:8080/",
          "height": 206
        },
        "id": "rPuZwOB3WjEd",
        "outputId": "1b0f7fdf-5114-4701-f893-8141502642bb"
      },
      "outputs": [
        {
          "output_type": "execute_result",
          "data": {
            "text/plain": [
              "         age  gender  height  weight  ap_hi  ap_lo  cholesterol  gluc  smoke  \\\n",
              "0  50.391781       2     168    62.0    110     80            1     1      0   \n",
              "1  55.419178       1     156    85.0    140     90            3     1      0   \n",
              "2  51.663014       1     165    64.0    130     70            3     1      0   \n",
              "3  48.282192       2     169    82.0    150    100            1     1      0   \n",
              "4  47.873973       1     156    56.0    100     60            1     1      0   \n",
              "\n",
              "   alco  active  cardio   BMI  \n",
              "0     0       1       0  22.0  \n",
              "1     0       1       1  34.9  \n",
              "2     0       0       1  23.5  \n",
              "3     0       1       1  28.7  \n",
              "4     0       0       0  23.0  "
            ],
            "text/html": [
              "\n",
              "  <div id=\"df-7c875e6f-2e2a-4679-a64d-303715b29ee5\">\n",
              "    <div class=\"colab-df-container\">\n",
              "      <div>\n",
              "<style scoped>\n",
              "    .dataframe tbody tr th:only-of-type {\n",
              "        vertical-align: middle;\n",
              "    }\n",
              "\n",
              "    .dataframe tbody tr th {\n",
              "        vertical-align: top;\n",
              "    }\n",
              "\n",
              "    .dataframe thead th {\n",
              "        text-align: right;\n",
              "    }\n",
              "</style>\n",
              "<table border=\"1\" class=\"dataframe\">\n",
              "  <thead>\n",
              "    <tr style=\"text-align: right;\">\n",
              "      <th></th>\n",
              "      <th>age</th>\n",
              "      <th>gender</th>\n",
              "      <th>height</th>\n",
              "      <th>weight</th>\n",
              "      <th>ap_hi</th>\n",
              "      <th>ap_lo</th>\n",
              "      <th>cholesterol</th>\n",
              "      <th>gluc</th>\n",
              "      <th>smoke</th>\n",
              "      <th>alco</th>\n",
              "      <th>active</th>\n",
              "      <th>cardio</th>\n",
              "      <th>BMI</th>\n",
              "    </tr>\n",
              "  </thead>\n",
              "  <tbody>\n",
              "    <tr>\n",
              "      <th>0</th>\n",
              "      <td>50.391781</td>\n",
              "      <td>2</td>\n",
              "      <td>168</td>\n",
              "      <td>62.0</td>\n",
              "      <td>110</td>\n",
              "      <td>80</td>\n",
              "      <td>1</td>\n",
              "      <td>1</td>\n",
              "      <td>0</td>\n",
              "      <td>0</td>\n",
              "      <td>1</td>\n",
              "      <td>0</td>\n",
              "      <td>22.0</td>\n",
              "    </tr>\n",
              "    <tr>\n",
              "      <th>1</th>\n",
              "      <td>55.419178</td>\n",
              "      <td>1</td>\n",
              "      <td>156</td>\n",
              "      <td>85.0</td>\n",
              "      <td>140</td>\n",
              "      <td>90</td>\n",
              "      <td>3</td>\n",
              "      <td>1</td>\n",
              "      <td>0</td>\n",
              "      <td>0</td>\n",
              "      <td>1</td>\n",
              "      <td>1</td>\n",
              "      <td>34.9</td>\n",
              "    </tr>\n",
              "    <tr>\n",
              "      <th>2</th>\n",
              "      <td>51.663014</td>\n",
              "      <td>1</td>\n",
              "      <td>165</td>\n",
              "      <td>64.0</td>\n",
              "      <td>130</td>\n",
              "      <td>70</td>\n",
              "      <td>3</td>\n",
              "      <td>1</td>\n",
              "      <td>0</td>\n",
              "      <td>0</td>\n",
              "      <td>0</td>\n",
              "      <td>1</td>\n",
              "      <td>23.5</td>\n",
              "    </tr>\n",
              "    <tr>\n",
              "      <th>3</th>\n",
              "      <td>48.282192</td>\n",
              "      <td>2</td>\n",
              "      <td>169</td>\n",
              "      <td>82.0</td>\n",
              "      <td>150</td>\n",
              "      <td>100</td>\n",
              "      <td>1</td>\n",
              "      <td>1</td>\n",
              "      <td>0</td>\n",
              "      <td>0</td>\n",
              "      <td>1</td>\n",
              "      <td>1</td>\n",
              "      <td>28.7</td>\n",
              "    </tr>\n",
              "    <tr>\n",
              "      <th>4</th>\n",
              "      <td>47.873973</td>\n",
              "      <td>1</td>\n",
              "      <td>156</td>\n",
              "      <td>56.0</td>\n",
              "      <td>100</td>\n",
              "      <td>60</td>\n",
              "      <td>1</td>\n",
              "      <td>1</td>\n",
              "      <td>0</td>\n",
              "      <td>0</td>\n",
              "      <td>0</td>\n",
              "      <td>0</td>\n",
              "      <td>23.0</td>\n",
              "    </tr>\n",
              "  </tbody>\n",
              "</table>\n",
              "</div>\n",
              "      <button class=\"colab-df-convert\" onclick=\"convertToInteractive('df-7c875e6f-2e2a-4679-a64d-303715b29ee5')\"\n",
              "              title=\"Convert this dataframe to an interactive table.\"\n",
              "              style=\"display:none;\">\n",
              "        \n",
              "  <svg xmlns=\"http://www.w3.org/2000/svg\" height=\"24px\"viewBox=\"0 0 24 24\"\n",
              "       width=\"24px\">\n",
              "    <path d=\"M0 0h24v24H0V0z\" fill=\"none\"/>\n",
              "    <path d=\"M18.56 5.44l.94 2.06.94-2.06 2.06-.94-2.06-.94-.94-2.06-.94 2.06-2.06.94zm-11 1L8.5 8.5l.94-2.06 2.06-.94-2.06-.94L8.5 2.5l-.94 2.06-2.06.94zm10 10l.94 2.06.94-2.06 2.06-.94-2.06-.94-.94-2.06-.94 2.06-2.06.94z\"/><path d=\"M17.41 7.96l-1.37-1.37c-.4-.4-.92-.59-1.43-.59-.52 0-1.04.2-1.43.59L10.3 9.45l-7.72 7.72c-.78.78-.78 2.05 0 2.83L4 21.41c.39.39.9.59 1.41.59.51 0 1.02-.2 1.41-.59l7.78-7.78 2.81-2.81c.8-.78.8-2.07 0-2.86zM5.41 20L4 18.59l7.72-7.72 1.47 1.35L5.41 20z\"/>\n",
              "  </svg>\n",
              "      </button>\n",
              "      \n",
              "  <style>\n",
              "    .colab-df-container {\n",
              "      display:flex;\n",
              "      flex-wrap:wrap;\n",
              "      gap: 12px;\n",
              "    }\n",
              "\n",
              "    .colab-df-convert {\n",
              "      background-color: #E8F0FE;\n",
              "      border: none;\n",
              "      border-radius: 50%;\n",
              "      cursor: pointer;\n",
              "      display: none;\n",
              "      fill: #1967D2;\n",
              "      height: 32px;\n",
              "      padding: 0 0 0 0;\n",
              "      width: 32px;\n",
              "    }\n",
              "\n",
              "    .colab-df-convert:hover {\n",
              "      background-color: #E2EBFA;\n",
              "      box-shadow: 0px 1px 2px rgba(60, 64, 67, 0.3), 0px 1px 3px 1px rgba(60, 64, 67, 0.15);\n",
              "      fill: #174EA6;\n",
              "    }\n",
              "\n",
              "    [theme=dark] .colab-df-convert {\n",
              "      background-color: #3B4455;\n",
              "      fill: #D2E3FC;\n",
              "    }\n",
              "\n",
              "    [theme=dark] .colab-df-convert:hover {\n",
              "      background-color: #434B5C;\n",
              "      box-shadow: 0px 1px 3px 1px rgba(0, 0, 0, 0.15);\n",
              "      filter: drop-shadow(0px 1px 2px rgba(0, 0, 0, 0.3));\n",
              "      fill: #FFFFFF;\n",
              "    }\n",
              "  </style>\n",
              "\n",
              "      <script>\n",
              "        const buttonEl =\n",
              "          document.querySelector('#df-7c875e6f-2e2a-4679-a64d-303715b29ee5 button.colab-df-convert');\n",
              "        buttonEl.style.display =\n",
              "          google.colab.kernel.accessAllowed ? 'block' : 'none';\n",
              "\n",
              "        async function convertToInteractive(key) {\n",
              "          const element = document.querySelector('#df-7c875e6f-2e2a-4679-a64d-303715b29ee5');\n",
              "          const dataTable =\n",
              "            await google.colab.kernel.invokeFunction('convertToInteractive',\n",
              "                                                     [key], {});\n",
              "          if (!dataTable) return;\n",
              "\n",
              "          const docLinkHtml = 'Like what you see? Visit the ' +\n",
              "            '<a target=\"_blank\" href=https://colab.research.google.com/notebooks/data_table.ipynb>data table notebook</a>'\n",
              "            + ' to learn more about interactive tables.';\n",
              "          element.innerHTML = '';\n",
              "          dataTable['output_type'] = 'display_data';\n",
              "          await google.colab.output.renderOutput(dataTable, element);\n",
              "          const docLink = document.createElement('div');\n",
              "          docLink.innerHTML = docLinkHtml;\n",
              "          element.appendChild(docLink);\n",
              "        }\n",
              "      </script>\n",
              "    </div>\n",
              "  </div>\n",
              "  "
            ]
          },
          "metadata": {},
          "execution_count": 17
        }
      ],
      "source": [
        "# calculating the patient BMI (Body Mass Index)  \n",
        "dataset_cleaned['BMI'] = round(dataset_cleaned['weight']/((dataset_cleaned['height']/100)**2),1)\n",
        "dataset_cleaned.head()"
      ]
    },
    {
      "cell_type": "code",
      "execution_count": null,
      "metadata": {
        "id": "f5IZ5msTrBVp"
      },
      "outputs": [],
      "source": [
        "#The BMI data can be filtered to exclude extreme values that fall outside the healthy range according to the BMI chart.\n",
        "dataset_cleaned = dataset_cleaned[ (dataset_cleaned['BMI'] < 60) & (dataset_cleaned['BMI'] > 10)]"
      ]
    },
    {
      "cell_type": "code",
      "execution_count": null,
      "metadata": {
        "colab": {
          "base_uri": "https://localhost:8080/"
        },
        "id": "sLZvBS5hU-er",
        "outputId": "ff6d2cd9-aeda-40fd-f3bc-301752de579c"
      },
      "outputs": [
        {
          "output_type": "stream",
          "name": "stdout",
          "text": [
            "Number of rows of dataset dataset after data preprocessing: 68584\n",
            "How much percent missing: 2.02%\n"
          ]
        }
      ],
      "source": [
        "#Dataset after cleaning\n",
        "print(f'Number of rows of dataset dataset after data preprocessing: {len(dataset_cleaned)}')\n",
        "print(f'How much percent missing: {round((70000-len(dataset_cleaned))/70000*100,2)}%')"
      ]
    },
    {
      "cell_type": "code",
      "execution_count": null,
      "metadata": {
        "colab": {
          "base_uri": "https://localhost:8080/",
          "height": 441
        },
        "id": "SpA7a5IFH51d",
        "outputId": "5ae12d27-9cd2-4eb6-d590-168c79271bb7"
      },
      "outputs": [
        {
          "output_type": "display_data",
          "data": {
            "text/plain": [
              "<Figure size 432x432 with 3 Axes>"
            ],
            "image/png": "[encoded data removed]"
          },
          "metadata": {
            "needs_background": "light"
          }
        }
      ],
      "source": [
        "#For exploring the joint distribution of two numerical features, the Seaborn library's jointplot function can be an effective tool to use.\n",
        "sns.jointplot(x='height', y='weight', data=dataset_cleaned);"
      ]
    },
    {
      "cell_type": "code",
      "execution_count": null,
      "metadata": {
        "colab": {
          "base_uri": "https://localhost:8080/",
          "height": 422
        },
        "id": "K-p2r7gFOp95",
        "outputId": "01604fdd-ae05-44fb-d5d0-443f54c78159"
      },
      "outputs": [
        {
          "output_type": "execute_result",
          "data": {
            "text/plain": [
              "[Text(0, 0, 'Male'), Text(1, 0, 'Female')]"
            ]
          },
          "metadata": {},
          "execution_count": 21
        },
        {
          "output_type": "display_data",
          "data": {
            "text/plain": [
              "<Figure size 504x432 with 1 Axes>"
            ],
            "image/png": "[encoded data removed]"
          },
          "metadata": {
            "needs_background": "light"
          }
        }
      ],
      "source": [
        "#Distribution of datasetvascular heart disease by gender\n",
        "gender = dataset_cleaned['gender'].value_counts()\n",
        "plt.figure(figsize=(7, 6))\n",
        "ax = gender.plot(kind='bar', rot=0, color=\"r\")\n",
        "ax.set_title(\"Propotion of datasetvascular heart disease by gender\", y = 1)\n",
        "ax.set_xlabel('Gender')\n",
        "ax.set_ylabel('Number of People')\n",
        "ax.set_xticklabels(('Male', 'Female'))"
      ]
    },
    {
      "cell_type": "markdown",
      "metadata": {
        "id": "E5qRORBGIpYi"
      },
      "source": [
        "- Based on the bar chart, it is evident that the likelihood of contracting the disease is greater among males compared to females."
      ]
    },
    {
      "cell_type": "markdown",
      "metadata": {
        "id": "ad9c4x5FVdA3"
      },
      "source": [
        "# 2 - Feature Engineering <a class=\"anchor\"  id=\"feature\"></a>"
      ]
    },
    {
      "cell_type": "code",
      "execution_count": null,
      "metadata": {
        "colab": {
          "base_uri": "https://localhost:8080/",
          "height": 617
        },
        "id": "ukCmlGzaAoVy",
        "outputId": "89a63cfd-a285-44cb-ecf0-9387bcb1c3aa"
      },
      "outputs": [
        {
          "output_type": "display_data",
          "data": {
            "text/plain": [
              "<Figure size 792x648 with 2 Axes>"
            ],
            "image/png": "[encoded data removed]"
          },
          "metadata": {
            "needs_background": "light"
          }
        }
      ],
      "source": [
        "#plotting correlation map\n",
        "plt.rcParams.update({'font.size': 11})\n",
        "fig, ax = plt.subplots(figsize=(11, 9))\n",
        "sns.heatmap(dataset_cleaned.corr(), annot = True, vmin=-1, vmax=1, center= 0, cmap= 'coolwarm', ax=ax, fmt='.1g', linewidths=.5);\n",
        "plt.title('Corelation Between Features', fontsize = 30)\n",
        "plt.show()"
      ]
    },
    {
      "cell_type": "markdown",
      "metadata": {
        "id": "knxmMpFtAm8y"
      },
      "source": [
        "**Observations**\n",
        "*   Age and cholesterol exhibit a noteworthy influence on the target variable, but their correlation is not particularly strong\n",
        "*   Ap_hi displays the strongest correlation with the target variable, making it a crucial feature for our model. Ap_lo exhibits a similar pattern.\n",
        "*   Although the newly created feature \"BMI\" is not highly correlated with the target variable, it does exhibit a high correlation with \"weight\". As such, it may be beneficial to drop one of these features to avoid potential multicollinearity issues.\n",
        "*   Among the features, \"gender\", \"smoking\", and \"height\" display the weakest correlation with the target variable.\n",
        "\n",
        "\n"
      ]
    },
    {
      "cell_type": "markdown",
      "metadata": {
        "id": "f4tiiCu0HGQZ"
      },
      "source": [
        "# 3- ML models <a class=\"anchor\"  id=\"mlmodels\"></a>"
      ]
    },
    {
      "cell_type": "markdown",
      "metadata": {
        "id": "ga3Ks84_HRmz"
      },
      "source": [
        "## 3.1 - Model preparation <a class=\"anchor\"  id=\"modelprep\"></a>\n",
        "\n",
        "\n"
      ]
    },
    {
      "cell_type": "code",
      "execution_count": null,
      "metadata": {
        "colab": {
          "base_uri": "https://localhost:8080/",
          "height": 206
        },
        "id": "grrGDGFbz2Du",
        "outputId": "09e9d5f1-7443-40cc-f130-ad90afc3db1b"
      },
      "outputs": [
        {
          "output_type": "execute_result",
          "data": {
            "text/plain": [
              "        age    gender    height    weight     ap_hi     ap_lo  cholesterol  \\\n",
              "0 -0.434227  1.366947  0.453582 -0.853029 -0.999477 -0.137142    -0.537143   \n",
              "1  0.309323 -0.731557 -1.063527  0.772526  0.799796  0.923664     2.408948   \n",
              "2 -0.246212 -0.731557  0.074304 -0.711677  0.200039 -1.197948     2.408948   \n",
              "3 -0.746234  1.366947  0.580007  0.560497  1.399554  1.984469    -0.537143   \n",
              "4 -0.806609 -0.731557 -1.063527 -1.277087 -1.599234 -2.258753    -0.537143   \n",
              "\n",
              "   gluc  smoke  alco  active  cardio       BMI  \n",
              "0     1      0     0       1       0 -1.047959  \n",
              "1     1      0     0       1       1  1.437575  \n",
              "2     1      0     0       0       1 -0.758943  \n",
              "3     1      0     0       1       1  0.242977  \n",
              "4     1      0     0       0       0 -0.855282  "
            ],
            "text/html": [
              "\n",
              "  <div id=\"df-71b9b221-e49e-4874-9ae6-de83e0901814\">\n",
              "    <div class=\"colab-df-container\">\n",
              "      <div>\n",
              "<style scoped>\n",
              "    .dataframe tbody tr th:only-of-type {\n",
              "        vertical-align: middle;\n",
              "    }\n",
              "\n",
              "    .dataframe tbody tr th {\n",
              "        vertical-align: top;\n",
              "    }\n",
              "\n",
              "    .dataframe thead th {\n",
              "        text-align: right;\n",
              "    }\n",
              "</style>\n",
              "<table border=\"1\" class=\"dataframe\">\n",
              "  <thead>\n",
              "    <tr style=\"text-align: right;\">\n",
              "      <th></th>\n",
              "      <th>age</th>\n",
              "      <th>gender</th>\n",
              "      <th>height</th>\n",
              "      <th>weight</th>\n",
              "      <th>ap_hi</th>\n",
              "      <th>ap_lo</th>\n",
              "      <th>cholesterol</th>\n",
              "      <th>gluc</th>\n",
              "      <th>smoke</th>\n",
              "      <th>alco</th>\n",
              "      <th>active</th>\n",
              "      <th>cardio</th>\n",
              "      <th>BMI</th>\n",
              "    </tr>\n",
              "  </thead>\n",
              "  <tbody>\n",
              "    <tr>\n",
              "      <th>0</th>\n",
              "      <td>-0.434227</td>\n",
              "      <td>1.366947</td>\n",
              "      <td>0.453582</td>\n",
              "      <td>-0.853029</td>\n",
              "      <td>-0.999477</td>\n",
              "      <td>-0.137142</td>\n",
              "      <td>-0.537143</td>\n",
              "      <td>1</td>\n",
              "      <td>0</td>\n",
              "      <td>0</td>\n",
              "      <td>1</td>\n",
              "      <td>0</td>\n",
              "      <td>-1.047959</td>\n",
              "    </tr>\n",
              "    <tr>\n",
              "      <th>1</th>\n",
              "      <td>0.309323</td>\n",
              "      <td>-0.731557</td>\n",
              "      <td>-1.063527</td>\n",
              "      <td>0.772526</td>\n",
              "      <td>0.799796</td>\n",
              "      <td>0.923664</td>\n",
              "      <td>2.408948</td>\n",
              "      <td>1</td>\n",
              "      <td>0</td>\n",
              "      <td>0</td>\n",
              "      <td>1</td>\n",
              "      <td>1</td>\n",
              "      <td>1.437575</td>\n",
              "    </tr>\n",
              "    <tr>\n",
              "      <th>2</th>\n",
              "      <td>-0.246212</td>\n",
              "      <td>-0.731557</td>\n",
              "      <td>0.074304</td>\n",
              "      <td>-0.711677</td>\n",
              "      <td>0.200039</td>\n",
              "      <td>-1.197948</td>\n",
              "      <td>2.408948</td>\n",
              "      <td>1</td>\n",
              "      <td>0</td>\n",
              "      <td>0</td>\n",
              "      <td>0</td>\n",
              "      <td>1</td>\n",
              "      <td>-0.758943</td>\n",
              "    </tr>\n",
              "    <tr>\n",
              "      <th>3</th>\n",
              "      <td>-0.746234</td>\n",
              "      <td>1.366947</td>\n",
              "      <td>0.580007</td>\n",
              "      <td>0.560497</td>\n",
              "      <td>1.399554</td>\n",
              "      <td>1.984469</td>\n",
              "      <td>-0.537143</td>\n",
              "      <td>1</td>\n",
              "      <td>0</td>\n",
              "      <td>0</td>\n",
              "      <td>1</td>\n",
              "      <td>1</td>\n",
              "      <td>0.242977</td>\n",
              "    </tr>\n",
              "    <tr>\n",
              "      <th>4</th>\n",
              "      <td>-0.806609</td>\n",
              "      <td>-0.731557</td>\n",
              "      <td>-1.063527</td>\n",
              "      <td>-1.277087</td>\n",
              "      <td>-1.599234</td>\n",
              "      <td>-2.258753</td>\n",
              "      <td>-0.537143</td>\n",
              "      <td>1</td>\n",
              "      <td>0</td>\n",
              "      <td>0</td>\n",
              "      <td>0</td>\n",
              "      <td>0</td>\n",
              "      <td>-0.855282</td>\n",
              "    </tr>\n",
              "  </tbody>\n",
              "</table>\n",
              "</div>\n",
              "      <button class=\"colab-df-convert\" onclick=\"convertToInteractive('df-71b9b221-e49e-4874-9ae6-de83e0901814')\"\n",
              "              title=\"Convert this dataframe to an interactive table.\"\n",
              "              style=\"display:none;\">\n",
              "        \n",
              "  <svg xmlns=\"http://www.w3.org/2000/svg\" height=\"24px\"viewBox=\"0 0 24 24\"\n",
              "       width=\"24px\">\n",
              "    <path d=\"M0 0h24v24H0V0z\" fill=\"none\"/>\n",
              "    <path d=\"M18.56 5.44l.94 2.06.94-2.06 2.06-.94-2.06-.94-.94-2.06-.94 2.06-2.06.94zm-11 1L8.5 8.5l.94-2.06 2.06-.94-2.06-.94L8.5 2.5l-.94 2.06-2.06.94zm10 10l.94 2.06.94-2.06 2.06-.94-2.06-.94-.94-2.06-.94 2.06-2.06.94z\"/><path d=\"M17.41 7.96l-1.37-1.37c-.4-.4-.92-.59-1.43-.59-.52 0-1.04.2-1.43.59L10.3 9.45l-7.72 7.72c-.78.78-.78 2.05 0 2.83L4 21.41c.39.39.9.59 1.41.59.51 0 1.02-.2 1.41-.59l7.78-7.78 2.81-2.81c.8-.78.8-2.07 0-2.86zM5.41 20L4 18.59l7.72-7.72 1.47 1.35L5.41 20z\"/>\n",
              "  </svg>\n",
              "      </button>\n",
              "      \n",
              "  <style>\n",
              "    .colab-df-container {\n",
              "      display:flex;\n",
              "      flex-wrap:wrap;\n",
              "      gap: 12px;\n",
              "    }\n",
              "\n",
              "    .colab-df-convert {\n",
              "      background-color: #E8F0FE;\n",
              "      border: none;\n",
              "      border-radius: 50%;\n",
              "      cursor: pointer;\n",
              "      display: none;\n",
              "      fill: #1967D2;\n",
              "      height: 32px;\n",
              "      padding: 0 0 0 0;\n",
              "      width: 32px;\n",
              "    }\n",
              "\n",
              "    .colab-df-convert:hover {\n",
              "      background-color: #E2EBFA;\n",
              "      box-shadow: 0px 1px 2px rgba(60, 64, 67, 0.3), 0px 1px 3px 1px rgba(60, 64, 67, 0.15);\n",
              "      fill: #174EA6;\n",
              "    }\n",
              "\n",
              "    [theme=dark] .colab-df-convert {\n",
              "      background-color: #3B4455;\n",
              "      fill: #D2E3FC;\n",
              "    }\n",
              "\n",
              "    [theme=dark] .colab-df-convert:hover {\n",
              "      background-color: #434B5C;\n",
              "      box-shadow: 0px 1px 3px 1px rgba(0, 0, 0, 0.15);\n",
              "      filter: drop-shadow(0px 1px 2px rgba(0, 0, 0, 0.3));\n",
              "      fill: #FFFFFF;\n",
              "    }\n",
              "  </style>\n",
              "\n",
              "      <script>\n",
              "        const buttonEl =\n",
              "          document.querySelector('#df-71b9b221-e49e-4874-9ae6-de83e0901814 button.colab-df-convert');\n",
              "        buttonEl.style.display =\n",
              "          google.colab.kernel.accessAllowed ? 'block' : 'none';\n",
              "\n",
              "        async function convertToInteractive(key) {\n",
              "          const element = document.querySelector('#df-71b9b221-e49e-4874-9ae6-de83e0901814');\n",
              "          const dataTable =\n",
              "            await google.colab.kernel.invokeFunction('convertToInteractive',\n",
              "                                                     [key], {});\n",
              "          if (!dataTable) return;\n",
              "\n",
              "          const docLinkHtml = 'Like what you see? Visit the ' +\n",
              "            '<a target=\"_blank\" href=https://colab.research.google.com/notebooks/data_table.ipynb>data table notebook</a>'\n",
              "            + ' to learn more about interactive tables.';\n",
              "          element.innerHTML = '';\n",
              "          dataTable['output_type'] = 'display_data';\n",
              "          await google.colab.output.renderOutput(dataTable, element);\n",
              "          const docLink = document.createElement('div');\n",
              "          docLink.innerHTML = docLinkHtml;\n",
              "          element.appendChild(docLink);\n",
              "        }\n",
              "      </script>\n",
              "    </div>\n",
              "  </div>\n",
              "  "
            ]
          },
          "metadata": {},
          "execution_count": 23
        }
      ],
      "source": [
        "#Standardization\n",
        "dataset_scaled=dataset_cleaned.copy()\n",
        "\n",
        "columns_to_scale = ['age', 'weight', 'ap_hi', 'ap_lo','cholesterol','gender','BMI','height']\n",
        "\n",
        "scaler = StandardScaler()\n",
        "dataset_scaled[columns_to_scale] = scaler.fit_transform(dataset_cleaned[columns_to_scale])\n",
        "\n",
        "dataset_scaled.head()"
      ]
    },
    {
      "cell_type": "markdown",
      "metadata": {
        "id": "xvKNTkk4U7iB"
      },
      "source": [
        "The Minmax Scaler offers a different way of normalizing the features. "
      ]
    },
    {
      "cell_type": "code",
      "execution_count": null,
      "metadata": {
        "colab": {
          "base_uri": "https://localhost:8080/",
          "height": 206
        },
        "id": "CEBqwhSOU6SB",
        "outputId": "790b0d87-5939-4e6b-dab4-468b0d023fd7"
      },
      "outputs": [
        {
          "output_type": "execute_result",
          "data": {
            "text/plain": [
              "        age  gender    height    weight     ap_hi     ap_lo  cholesterol  \\\n",
              "0  0.588076     1.0  0.585106  0.246377  0.277778  0.454545          0.0   \n",
              "1  0.730159     0.0  0.457447  0.413043  0.444444  0.545455          1.0   \n",
              "2  0.624003     0.0  0.553191  0.260870  0.388889  0.363636          1.0   \n",
              "3  0.528455     1.0  0.595745  0.391304  0.500000  0.636364          0.0   \n",
              "4  0.516918     0.0  0.457447  0.202899  0.222222  0.272727          0.0   \n",
              "\n",
              "   gluc  smoke  alco  active  cardio       BMI  \n",
              "0     1      0     0       1       0  0.231557  \n",
              "1     1      0     0       1       1  0.495902  \n",
              "2     1      0     0       0       1  0.262295  \n",
              "3     1      0     0       1       1  0.368852  \n",
              "4     1      0     0       0       0  0.252049  "
            ],
            "text/html": [
              "\n",
              "  <div id=\"df-5f73f354-9cf5-4f7f-8fc9-95d13cd5029d\">\n",
              "    <div class=\"colab-df-container\">\n",
              "      <div>\n",
              "<style scoped>\n",
              "    .dataframe tbody tr th:only-of-type {\n",
              "        vertical-align: middle;\n",
              "    }\n",
              "\n",
              "    .dataframe tbody tr th {\n",
              "        vertical-align: top;\n",
              "    }\n",
              "\n",
              "    .dataframe thead th {\n",
              "        text-align: right;\n",
              "    }\n",
              "</style>\n",
              "<table border=\"1\" class=\"dataframe\">\n",
              "  <thead>\n",
              "    <tr style=\"text-align: right;\">\n",
              "      <th></th>\n",
              "      <th>age</th>\n",
              "      <th>gender</th>\n",
              "      <th>height</th>\n",
              "      <th>weight</th>\n",
              "      <th>ap_hi</th>\n",
              "      <th>ap_lo</th>\n",
              "      <th>cholesterol</th>\n",
              "      <th>gluc</th>\n",
              "      <th>smoke</th>\n",
              "      <th>alco</th>\n",
              "      <th>active</th>\n",
              "      <th>cardio</th>\n",
              "      <th>BMI</th>\n",
              "    </tr>\n",
              "  </thead>\n",
              "  <tbody>\n",
              "    <tr>\n",
              "      <th>0</th>\n",
              "      <td>0.588076</td>\n",
              "      <td>1.0</td>\n",
              "      <td>0.585106</td>\n",
              "      <td>0.246377</td>\n",
              "      <td>0.277778</td>\n",
              "      <td>0.454545</td>\n",
              "      <td>0.0</td>\n",
              "      <td>1</td>\n",
              "      <td>0</td>\n",
              "      <td>0</td>\n",
              "      <td>1</td>\n",
              "      <td>0</td>\n",
              "      <td>0.231557</td>\n",
              "    </tr>\n",
              "    <tr>\n",
              "      <th>1</th>\n",
              "      <td>0.730159</td>\n",
              "      <td>0.0</td>\n",
              "      <td>0.457447</td>\n",
              "      <td>0.413043</td>\n",
              "      <td>0.444444</td>\n",
              "      <td>0.545455</td>\n",
              "      <td>1.0</td>\n",
              "      <td>1</td>\n",
              "      <td>0</td>\n",
              "      <td>0</td>\n",
              "      <td>1</td>\n",
              "      <td>1</td>\n",
              "      <td>0.495902</td>\n",
              "    </tr>\n",
              "    <tr>\n",
              "      <th>2</th>\n",
              "      <td>0.624003</td>\n",
              "      <td>0.0</td>\n",
              "      <td>0.553191</td>\n",
              "      <td>0.260870</td>\n",
              "      <td>0.388889</td>\n",
              "      <td>0.363636</td>\n",
              "      <td>1.0</td>\n",
              "      <td>1</td>\n",
              "      <td>0</td>\n",
              "      <td>0</td>\n",
              "      <td>0</td>\n",
              "      <td>1</td>\n",
              "      <td>0.262295</td>\n",
              "    </tr>\n",
              "    <tr>\n",
              "      <th>3</th>\n",
              "      <td>0.528455</td>\n",
              "      <td>1.0</td>\n",
              "      <td>0.595745</td>\n",
              "      <td>0.391304</td>\n",
              "      <td>0.500000</td>\n",
              "      <td>0.636364</td>\n",
              "      <td>0.0</td>\n",
              "      <td>1</td>\n",
              "      <td>0</td>\n",
              "      <td>0</td>\n",
              "      <td>1</td>\n",
              "      <td>1</td>\n",
              "      <td>0.368852</td>\n",
              "    </tr>\n",
              "    <tr>\n",
              "      <th>4</th>\n",
              "      <td>0.516918</td>\n",
              "      <td>0.0</td>\n",
              "      <td>0.457447</td>\n",
              "      <td>0.202899</td>\n",
              "      <td>0.222222</td>\n",
              "      <td>0.272727</td>\n",
              "      <td>0.0</td>\n",
              "      <td>1</td>\n",
              "      <td>0</td>\n",
              "      <td>0</td>\n",
              "      <td>0</td>\n",
              "      <td>0</td>\n",
              "      <td>0.252049</td>\n",
              "    </tr>\n",
              "  </tbody>\n",
              "</table>\n",
              "</div>\n",
              "      <button class=\"colab-df-convert\" onclick=\"convertToInteractive('df-5f73f354-9cf5-4f7f-8fc9-95d13cd5029d')\"\n",
              "              title=\"Convert this dataframe to an interactive table.\"\n",
              "              style=\"display:none;\">\n",
              "        \n",
              "  <svg xmlns=\"http://www.w3.org/2000/svg\" height=\"24px\"viewBox=\"0 0 24 24\"\n",
              "       width=\"24px\">\n",
              "    <path d=\"M0 0h24v24H0V0z\" fill=\"none\"/>\n",
              "    <path d=\"M18.56 5.44l.94 2.06.94-2.06 2.06-.94-2.06-.94-.94-2.06-.94 2.06-2.06.94zm-11 1L8.5 8.5l.94-2.06 2.06-.94-2.06-.94L8.5 2.5l-.94 2.06-2.06.94zm10 10l.94 2.06.94-2.06 2.06-.94-2.06-.94-.94-2.06-.94 2.06-2.06.94z\"/><path d=\"M17.41 7.96l-1.37-1.37c-.4-.4-.92-.59-1.43-.59-.52 0-1.04.2-1.43.59L10.3 9.45l-7.72 7.72c-.78.78-.78 2.05 0 2.83L4 21.41c.39.39.9.59 1.41.59.51 0 1.02-.2 1.41-.59l7.78-7.78 2.81-2.81c.8-.78.8-2.07 0-2.86zM5.41 20L4 18.59l7.72-7.72 1.47 1.35L5.41 20z\"/>\n",
              "  </svg>\n",
              "      </button>\n",
              "      \n",
              "  <style>\n",
              "    .colab-df-container {\n",
              "      display:flex;\n",
              "      flex-wrap:wrap;\n",
              "      gap: 12px;\n",
              "    }\n",
              "\n",
              "    .colab-df-convert {\n",
              "      background-color: #E8F0FE;\n",
              "      border: none;\n",
              "      border-radius: 50%;\n",
              "      cursor: pointer;\n",
              "      display: none;\n",
              "      fill: #1967D2;\n",
              "      height: 32px;\n",
              "      padding: 0 0 0 0;\n",
              "      width: 32px;\n",
              "    }\n",
              "\n",
              "    .colab-df-convert:hover {\n",
              "      background-color: #E2EBFA;\n",
              "      box-shadow: 0px 1px 2px rgba(60, 64, 67, 0.3), 0px 1px 3px 1px rgba(60, 64, 67, 0.15);\n",
              "      fill: #174EA6;\n",
              "    }\n",
              "\n",
              "    [theme=dark] .colab-df-convert {\n",
              "      background-color: #3B4455;\n",
              "      fill: #D2E3FC;\n",
              "    }\n",
              "\n",
              "    [theme=dark] .colab-df-convert:hover {\n",
              "      background-color: #434B5C;\n",
              "      box-shadow: 0px 1px 3px 1px rgba(0, 0, 0, 0.15);\n",
              "      filter: drop-shadow(0px 1px 2px rgba(0, 0, 0, 0.3));\n",
              "      fill: #FFFFFF;\n",
              "    }\n",
              "  </style>\n",
              "\n",
              "      <script>\n",
              "        const buttonEl =\n",
              "          document.querySelector('#df-5f73f354-9cf5-4f7f-8fc9-95d13cd5029d button.colab-df-convert');\n",
              "        buttonEl.style.display =\n",
              "          google.colab.kernel.accessAllowed ? 'block' : 'none';\n",
              "\n",
              "        async function convertToInteractive(key) {\n",
              "          const element = document.querySelector('#df-5f73f354-9cf5-4f7f-8fc9-95d13cd5029d');\n",
              "          const dataTable =\n",
              "            await google.colab.kernel.invokeFunction('convertToInteractive',\n",
              "                                                     [key], {});\n",
              "          if (!dataTable) return;\n",
              "\n",
              "          const docLinkHtml = 'Like what you see? Visit the ' +\n",
              "            '<a target=\"_blank\" href=https://colab.research.google.com/notebooks/data_table.ipynb>data table notebook</a>'\n",
              "            + ' to learn more about interactive tables.';\n",
              "          element.innerHTML = '';\n",
              "          dataTable['output_type'] = 'display_data';\n",
              "          await google.colab.output.renderOutput(dataTable, element);\n",
              "          const docLink = document.createElement('div');\n",
              "          docLink.innerHTML = docLinkHtml;\n",
              "          element.appendChild(docLink);\n",
              "        }\n",
              "      </script>\n",
              "    </div>\n",
              "  </div>\n",
              "  "
            ]
          },
          "metadata": {},
          "execution_count": 24
        }
      ],
      "source": [
        "#Standardization\n",
        "dataset_scaled_mm=dataset_cleaned.copy()\n",
        "\n",
        "columns_to_scale_mm = ['age', 'weight', 'ap_hi', 'ap_lo','cholesterol','gender','BMI','height']\n",
        "\n",
        "mmscaler = MinMaxScaler()\n",
        "dataset_scaled_mm[columns_to_scale_mm] = mmscaler.fit_transform(dataset_cleaned[columns_to_scale_mm])\n",
        "\n",
        "dataset_scaled_mm.head()"
      ]
    },
    {
      "cell_type": "markdown",
      "metadata": {
        "id": "xgNldrX67t7S"
      },
      "source": [
        "\n",
        "\n",
        "---\n",
        "\n",
        "\n",
        "**Train test split**\n",
        "\n",
        "split ratio 80:20"
      ]
    },
    {
      "cell_type": "code",
      "execution_count": null,
      "metadata": {
        "colab": {
          "base_uri": "https://localhost:8080/"
        },
        "id": "WCPmYz5Jfkzg",
        "outputId": "7cb1cd69-b3f1-4a5a-fd75-2583cd6012e1"
      },
      "outputs": [
        {
          "output_type": "stream",
          "name": "stdout",
          "text": [
            "X_train shape is  (54867, 12)\n",
            "X_test shape is  (13717, 12)\n",
            "y_train shape is  (54867,)\n",
            "y_test shape is  (13717,)\n"
          ]
        }
      ],
      "source": [
        "#Train-test-split for non-scaled data\n",
        "X = dataset_cleaned.drop(['cardio'], axis=1) #features \n",
        "y = dataset_cleaned['cardio']  #target feature\n",
        "\n",
        "X_train, X_test, y_train, y_test = train_test_split(X, y, test_size=0.2, random_state=42, shuffle = True)\n",
        "\n",
        "\n",
        "#Train-test-split for scaled data\n",
        "X_scaled = dataset_scaled.drop(['cardio'], axis=1) #features \n",
        "y_scaled = dataset_scaled['cardio']  #target feature\n",
        "\n",
        "X_scaled_mm = dataset_scaled_mm.drop(['cardio'], axis=1) #features \n",
        "y_scaled_mm = dataset_scaled_mm['cardio']  #target feature\n",
        "\n",
        "X_train_scaled, X_test_scaled, y_train_scaled, y_test_scaled = train_test_split(X_scaled, y_scaled, test_size=0.2, random_state=42, shuffle = True)\n",
        "X_train_scaled_mm, X_test_scaled_mm, y_train_scaled_mm, y_test_scaled_mm = train_test_split(X_scaled_mm, y_scaled_mm, test_size=0.2, random_state=42, shuffle = True)\n",
        "\n",
        "\n",
        "#Splitted Data\n",
        "print('X_train shape is ' , X_train.shape)\n",
        "print('X_test shape is ' , X_test.shape)\n",
        "print('y_train shape is ' , y_train.shape)\n",
        "print('y_test shape is ' , y_test.shape)"
      ]
    },
    {
      "cell_type": "markdown",
      "metadata": {
        "id": "57epnxqz86ir"
      },
      "source": [
        "## 3.2 - Decision Tree <a class=\"anchor\"  id=\"dt\"></a>\n",
        "\n",
        "- Default values of Decision Tree\n",
        "- Tuned Decision Tree"
      ]
    },
    {
      "cell_type": "markdown",
      "metadata": {
        "id": "h22yqmTgL2Ca"
      },
      "source": [
        "### 3.1.1 - Basic Model"
      ]
    },
    {
      "cell_type": "code",
      "execution_count": null,
      "metadata": {
        "colab": {
          "base_uri": "https://localhost:8080/"
        },
        "execution": {
          "iopub.execute_input": "2022-11-03T08:32:55.296387Z",
          "iopub.status.busy": "2022-11-03T08:32:55.296044Z",
          "iopub.status.idle": "2022-11-03T08:32:56.061570Z",
          "shell.execute_reply": "2022-11-03T08:32:56.060431Z",
          "shell.execute_reply.started": "2022-11-03T08:32:55.296357Z"
        },
        "id": "bon4U_XD9ABr",
        "outputId": "7bbe4e9a-94c4-462c-bc0e-f5e6c5d3b73d",
        "trusted": true
      },
      "outputs": [
        {
          "output_type": "stream",
          "name": "stdout",
          "text": [
            "Accuracy: 0.631187577458628\n",
            "Sensitivity (TPR) = 0.625852356952268\n",
            "\n",
            " Confusion matrix \n",
            " \n",
            "\n",
            "              precision    recall  f1-score   support\n",
            "\n",
            "           0       0.64      0.64      0.64      6971\n",
            "           1       0.62      0.63      0.63      6746\n",
            "\n",
            "    accuracy                           0.63     13717\n",
            "   macro avg       0.63      0.63      0.63     13717\n",
            "weighted avg       0.63      0.63      0.63     13717\n",
            "\n"
          ]
        }
      ],
      "source": [
        "# min_samples_split: The minimum number of samples required to split an internal node\n",
        "dtree = DecisionTreeClassifier()\n",
        "\n",
        "# Build classification tree\n",
        "dtree.fit(X_train, y_train)\n",
        "\n",
        "y_pred = dtree.predict(X_test)\n",
        "\n",
        "# Evaluation: Confusion matrix #\n",
        "################################\n",
        "dtree_acc = accuracy_score(y_test, y_pred)   # accuracy score\n",
        "cm_dtree = confusion_matrix(y_test, y_pred) # Confusion matrix \n",
        "tpr_dtree = cm_dtree[1][1] /(cm_dtree[1][0] + cm_dtree[1][1])\n",
        "\n",
        "print(\"Accuracy:\",dtree_acc)\n",
        "print('Sensitivity (TPR) =', tpr_dtree)\n",
        "\n",
        "\n",
        "print('\\n Confusion matrix \\n \\n')\n",
        "print(classification_report(y_test, y_pred ))\n",
        "\n",
        "# plot_confusion_matrix(dtree, X_test, y_test)\n",
        "plt.show()"
      ]
    },
    {
      "cell_type": "markdown",
      "metadata": {
        "id": "HXHFE5E7LxFb"
      },
      "source": [
        "### 3.1.2 - Tuned Decision Tree <a class=\"anchor\"  id=\"dt1\"></a>"
      ]
    },
    {
      "cell_type": "code",
      "execution_count": null,
      "metadata": {
        "colab": {
          "base_uri": "https://localhost:8080/",
          "height": 296
        },
        "execution": {
          "iopub.execute_input": "2022-11-03T08:32:56.063597Z",
          "iopub.status.busy": "2022-11-03T08:32:56.063261Z",
          "iopub.status.idle": "2022-11-03T08:33:02.028929Z",
          "shell.execute_reply": "2022-11-03T08:33:02.027715Z",
          "shell.execute_reply.started": "2022-11-03T08:32:56.063566Z"
        },
        "id": "dmuZsZ3LEjQD",
        "outputId": "0b53ef95-af93-468d-d9cc-7611740cc6df",
        "trusted": true
      },
      "outputs": [
        {
          "output_type": "display_data",
          "data": {
            "text/plain": [
              "<Figure size 432x288 with 1 Axes>"
            ],
            "image/png": "[encoded data removed]"
          },
          "metadata": {
            "needs_background": "light"
          }
        }
      ],
      "source": [
        "#Hyperparameter tuning for max_depth\n",
        "train_acc1 = []\n",
        "val_acc1 = []\n",
        "\n",
        "for max_d in range(1,21):\n",
        "  model = DecisionTreeClassifier(max_depth=max_d, random_state=42)\n",
        "  model.fit(X_train, y_train)\n",
        "  train_acc1.append(model.score(X_train, y_train))\n",
        "  val_acc1.append(model.score(X_test,y_test))\n",
        "\n",
        "line1, = plt.plot([*range(1,21)], train_acc1, 'b', label='Train accuracy')\n",
        "line2, = plt.plot([*range(1,21)], val_acc1, 'r', label='Validation accuracy')\n",
        "\n",
        "plt.legend(handler_map={line1: HandlerLine2D(numpoints=2)})\n",
        "plt.title('Train vs Validation Accuracy : Max_depth')\n",
        "plt.ylabel('Accuracy')\n",
        "plt.xlabel('Max_depth')\n",
        "plt.show()\n",
        "\n",
        "train_acc1.clear()\n",
        "val_acc1.clear()"
      ]
    },
    {
      "cell_type": "code",
      "execution_count": null,
      "metadata": {
        "colab": {
          "base_uri": "https://localhost:8080/",
          "height": 296
        },
        "execution": {
          "iopub.execute_input": "2022-11-03T08:33:02.030596Z",
          "iopub.status.busy": "2022-11-03T08:33:02.030234Z",
          "iopub.status.idle": "2022-11-03T08:33:06.282141Z",
          "shell.execute_reply": "2022-11-03T08:33:06.280990Z",
          "shell.execute_reply.started": "2022-11-03T08:33:02.030556Z"
        },
        "id": "KkKBV4BxTH4w",
        "outputId": "8435e7c9-7489-41ab-ba17-525ee9944f22",
        "trusted": true
      },
      "outputs": [
        {
          "output_type": "display_data",
          "data": {
            "text/plain": [
              "<Figure size 432x288 with 1 Axes>"
            ],
            "image/png": "[encoded data removed]"
          },
          "metadata": {
            "needs_background": "light"
          }
        }
      ],
      "source": [
        "#Hyperparameter tuning for max_leaf_nodes\n",
        "train_acc2 = []\n",
        "val_acc2 = []\n",
        "\n",
        "for max_ln in range(10,200,10):\n",
        "  model2 = DecisionTreeClassifier(max_leaf_nodes=max_ln, random_state=42)\n",
        "  model2.fit(X_train, y_train)\n",
        "  train_acc2.append(model2.score(X_train, y_train))\n",
        "  val_acc2.append(model2.score(X_test,y_test))\n",
        "\n",
        "\n",
        "line3, = plt.plot([*range(10,200,10)], train_acc2, 'b', label='Train accuracy')\n",
        "line4, = plt.plot([*range(10,200,10)], val_acc2, 'r', label='Validation accuracy')\n",
        "\n",
        "plt.legend(handler_map={line2: HandlerLine2D(numpoints=2)})\n",
        "plt.title('Train vs Validation Accuracy : Max_leaf_nodes')\n",
        "plt.ylabel('Accuracy')\n",
        "plt.xlabel('Max_leaf_nodes')\n",
        "plt.show()\n",
        "\n",
        "train_acc2.clear()\n",
        "val_acc2.clear()"
      ]
    },
    {
      "cell_type": "markdown",
      "metadata": {
        "id": "KX0GnrjwLTvd"
      },
      "source": [
        "re-train the model with above parameters."
      ]
    },
    {
      "cell_type": "code",
      "execution_count": null,
      "metadata": {
        "colab": {
          "base_uri": "https://localhost:8080/"
        },
        "execution": {
          "iopub.execute_input": "2022-11-03T08:33:06.284020Z",
          "iopub.status.busy": "2022-11-03T08:33:06.283604Z",
          "iopub.status.idle": "2022-11-03T08:33:06.699464Z",
          "shell.execute_reply": "2022-11-03T08:33:06.698055Z",
          "shell.execute_reply.started": "2022-11-03T08:33:06.283986Z"
        },
        "id": "RDdOLFMtTZq4",
        "outputId": "ad5b1376-b4e5-4a3c-ffa9-abc538239e05",
        "trusted": true
      },
      "outputs": [
        {
          "output_type": "stream",
          "name": "stdout",
          "text": [
            "Accuracy: 0.7374061383684479\n",
            "Sensitivity (TPR) = 0.681589089831011\n",
            "\n",
            " Confusion matrix \n",
            " \n",
            "\n",
            "              precision    recall  f1-score   support\n",
            "\n",
            "           0       0.72      0.79      0.75      6971\n",
            "           1       0.76      0.68      0.72      6746\n",
            "\n",
            "    accuracy                           0.74     13717\n",
            "   macro avg       0.74      0.74      0.74     13717\n",
            "weighted avg       0.74      0.74      0.74     13717\n",
            "\n"
          ]
        }
      ],
      "source": [
        "# min_samples_split: The minimum number of samples required to split an internal node\n",
        "dtree_tuned = DecisionTreeClassifier(max_leaf_nodes=25,max_depth=5)\n",
        "\n",
        "# Build classification tree\n",
        "dtree_tuned.fit(X_train, y_train)\n",
        "\n",
        "y_pred = dtree_tuned.predict(X_test)\n",
        "\n",
        "# Evaluation: Confusion matrix #\n",
        "################################\n",
        "dtree_tuned_acc = accuracy_score(y_test, y_pred)   # accuracy score\n",
        "cm_dtree_tuned = confusion_matrix(y_test, y_pred) # Confusion matrix \n",
        "tpr_dree_tuned = cm_dtree_tuned[1][1] /(cm_dtree_tuned[1][0] + cm_dtree_tuned[1][1])\n",
        "\n",
        "print(\"Accuracy:\",dtree_tuned_acc)  \n",
        "print('Sensitivity (TPR) =', tpr_dree_tuned)\n",
        "\n",
        "print('\\n Confusion matrix \\n \\n')\n",
        "print(classification_report(y_test, y_pred ))\n",
        "\n",
        "# plot_confusion_matrix(dtree_tuned, X_test, y_test)\n",
        "plt.show()"
      ]
    },
    {
      "cell_type": "code",
      "execution_count": null,
      "metadata": {
        "colab": {
          "base_uri": "https://localhost:8080/",
          "height": 81
        },
        "execution": {
          "iopub.execute_input": "2022-11-03T08:47:44.334890Z",
          "iopub.status.busy": "2022-11-03T08:47:44.333908Z",
          "iopub.status.idle": "2022-11-03T08:47:44.357064Z",
          "shell.execute_reply": "2022-11-03T08:47:44.355788Z",
          "shell.execute_reply.started": "2022-11-03T08:47:44.334850Z"
        },
        "id": "1K0dD8pViHOr",
        "outputId": "1559eb08-09d1-461f-81c6-4fc8caf268d5",
        "trusted": true
      },
      "outputs": [
        {
          "output_type": "execute_result",
          "data": {
            "text/plain": [
              "           Model  Accuracy  Sensitivity  Objective Value\n",
              "0  Decision Tree  0.737406     0.681589         0.907803"
            ],
            "text/html": [
              "\n",
              "  <div id=\"df-c4c6bcfb-999e-4c7e-a143-94cc40641e36\">\n",
              "    <div class=\"colab-df-container\">\n",
              "      <div>\n",
              "<style scoped>\n",
              "    .dataframe tbody tr th:only-of-type {\n",
              "        vertical-align: middle;\n",
              "    }\n",
              "\n",
              "    .dataframe tbody tr th {\n",
              "        vertical-align: top;\n",
              "    }\n",
              "\n",
              "    .dataframe thead th {\n",
              "        text-align: right;\n",
              "    }\n",
              "</style>\n",
              "<table border=\"1\" class=\"dataframe\">\n",
              "  <thead>\n",
              "    <tr style=\"text-align: right;\">\n",
              "      <th></th>\n",
              "      <th>Model</th>\n",
              "      <th>Accuracy</th>\n",
              "      <th>Sensitivity</th>\n",
              "      <th>Objective Value</th>\n",
              "    </tr>\n",
              "  </thead>\n",
              "  <tbody>\n",
              "    <tr>\n",
              "      <th>0</th>\n",
              "      <td>Decision Tree</td>\n",
              "      <td>0.737406</td>\n",
              "      <td>0.681589</td>\n",
              "      <td>0.907803</td>\n",
              "    </tr>\n",
              "  </tbody>\n",
              "</table>\n",
              "</div>\n",
              "      <button class=\"colab-df-convert\" onclick=\"convertToInteractive('df-c4c6bcfb-999e-4c7e-a143-94cc40641e36')\"\n",
              "              title=\"Convert this dataframe to an interactive table.\"\n",
              "              style=\"display:none;\">\n",
              "        \n",
              "  <svg xmlns=\"http://www.w3.org/2000/svg\" height=\"24px\"viewBox=\"0 0 24 24\"\n",
              "       width=\"24px\">\n",
              "    <path d=\"M0 0h24v24H0V0z\" fill=\"none\"/>\n",
              "    <path d=\"M18.56 5.44l.94 2.06.94-2.06 2.06-.94-2.06-.94-.94-2.06-.94 2.06-2.06.94zm-11 1L8.5 8.5l.94-2.06 2.06-.94-2.06-.94L8.5 2.5l-.94 2.06-2.06.94zm10 10l.94 2.06.94-2.06 2.06-.94-2.06-.94-.94-2.06-.94 2.06-2.06.94z\"/><path d=\"M17.41 7.96l-1.37-1.37c-.4-.4-.92-.59-1.43-.59-.52 0-1.04.2-1.43.59L10.3 9.45l-7.72 7.72c-.78.78-.78 2.05 0 2.83L4 21.41c.39.39.9.59 1.41.59.51 0 1.02-.2 1.41-.59l7.78-7.78 2.81-2.81c.8-.78.8-2.07 0-2.86zM5.41 20L4 18.59l7.72-7.72 1.47 1.35L5.41 20z\"/>\n",
              "  </svg>\n",
              "      </button>\n",
              "      \n",
              "  <style>\n",
              "    .colab-df-container {\n",
              "      display:flex;\n",
              "      flex-wrap:wrap;\n",
              "      gap: 12px;\n",
              "    }\n",
              "\n",
              "    .colab-df-convert {\n",
              "      background-color: #E8F0FE;\n",
              "      border: none;\n",
              "      border-radius: 50%;\n",
              "      cursor: pointer;\n",
              "      display: none;\n",
              "      fill: #1967D2;\n",
              "      height: 32px;\n",
              "      padding: 0 0 0 0;\n",
              "      width: 32px;\n",
              "    }\n",
              "\n",
              "    .colab-df-convert:hover {\n",
              "      background-color: #E2EBFA;\n",
              "      box-shadow: 0px 1px 2px rgba(60, 64, 67, 0.3), 0px 1px 3px 1px rgba(60, 64, 67, 0.15);\n",
              "      fill: #174EA6;\n",
              "    }\n",
              "\n",
              "    [theme=dark] .colab-df-convert {\n",
              "      background-color: #3B4455;\n",
              "      fill: #D2E3FC;\n",
              "    }\n",
              "\n",
              "    [theme=dark] .colab-df-convert:hover {\n",
              "      background-color: #434B5C;\n",
              "      box-shadow: 0px 1px 3px 1px rgba(0, 0, 0, 0.15);\n",
              "      filter: drop-shadow(0px 1px 2px rgba(0, 0, 0, 0.3));\n",
              "      fill: #FFFFFF;\n",
              "    }\n",
              "  </style>\n",
              "\n",
              "      <script>\n",
              "        const buttonEl =\n",
              "          document.querySelector('#df-c4c6bcfb-999e-4c7e-a143-94cc40641e36 button.colab-df-convert');\n",
              "        buttonEl.style.display =\n",
              "          google.colab.kernel.accessAllowed ? 'block' : 'none';\n",
              "\n",
              "        async function convertToInteractive(key) {\n",
              "          const element = document.querySelector('#df-c4c6bcfb-999e-4c7e-a143-94cc40641e36');\n",
              "          const dataTable =\n",
              "            await google.colab.kernel.invokeFunction('convertToInteractive',\n",
              "                                                     [key], {});\n",
              "          if (!dataTable) return;\n",
              "\n",
              "          const docLinkHtml = 'Like what you see? Visit the ' +\n",
              "            '<a target=\"_blank\" href=https://colab.research.google.com/notebooks/data_table.ipynb>data table notebook</a>'\n",
              "            + ' to learn more about interactive tables.';\n",
              "          element.innerHTML = '';\n",
              "          dataTable['output_type'] = 'display_data';\n",
              "          await google.colab.output.renderOutput(dataTable, element);\n",
              "          const docLink = document.createElement('div');\n",
              "          docLink.innerHTML = docLinkHtml;\n",
              "          element.appendChild(docLink);\n",
              "        }\n",
              "      </script>\n",
              "    </div>\n",
              "  </div>\n",
              "  "
            ]
          },
          "metadata": {},
          "execution_count": 30
        }
      ],
      "source": [
        "#collect results\n",
        "tpr_weight = 0.25\n",
        "models = pd.DataFrame({\n",
        "    'Model': ['Decision Tree'],\n",
        "    'Accuracy': [dtree_tuned_acc],\n",
        "                    \n",
        "    'Sensitivity' : [tpr_dree_tuned,],\n",
        "    'Objective Value' : [dtree_tuned_acc+tpr_dree_tuned*tpr_weight]\n",
        "})\n",
        "\n",
        "models"
      ]
    },
    {
      "cell_type": "code",
      "execution_count": null,
      "metadata": {
        "execution": {
          "iopub.execute_input": "2022-11-03T08:47:44.359492Z",
          "iopub.status.busy": "2022-11-03T08:47:44.359153Z",
          "iopub.status.idle": "2022-11-03T08:47:44.375963Z",
          "shell.execute_reply": "2022-11-03T08:47:44.374879Z",
          "shell.execute_reply.started": "2022-11-03T08:47:44.359463Z"
        },
        "id": "tLVqmAbtmglz",
        "trusted": true
      },
      "outputs": [],
      "source": [
        "#collect results for plotting\n",
        "df_plotting = pd.DataFrame({\n",
        "    'Model': ['Decision Tree', \n",
        "              'Decision Tree'],\n",
        "    'Values': [dtree_tuned_acc, \n",
        "             tpr_dree_tuned],\n",
        "    'Type': ['Accuracy', \n",
        "             'Sensitivity'],\n",
        "    'Color': ['green' , 'green']})"
      ]
    },
    {
      "cell_type": "code",
      "execution_count": null,
      "metadata": {
        "colab": {
          "base_uri": "https://localhost:8080/",
          "height": 606
        },
        "execution": {
          "iopub.execute_input": "2022-11-03T08:47:44.378448Z",
          "iopub.status.busy": "2022-11-03T08:47:44.377754Z",
          "iopub.status.idle": "2022-11-03T08:47:44.729651Z",
          "shell.execute_reply": "2022-11-03T08:47:44.728439Z",
          "shell.execute_reply.started": "2022-11-03T08:47:44.378401Z"
        },
        "id": "ZHI88LOKxJv6",
        "outputId": "895fdff7-08c5-4841-dace-ae0545ab8503",
        "trusted": true
      },
      "outputs": [
        {
          "output_type": "display_data",
          "data": {
            "text/plain": [
              "<Figure size 720x720 with 1 Axes>"
            ],
            "image/png": "[encoded data removed]"
          },
          "metadata": {
            "needs_background": "light"
          }
        }
      ],
      "source": [
        "#plot result comparison\n",
        "plt.figure(figsize=(10,10))\n",
        "sns.barplot(y=df_plotting['Values'], x=df_plotting['Type'], hue=df_plotting['Model'], orient=\"v\", palette=df_plotting['Color'])\n",
        "plt.ylim(min(df_plotting['Values']) * 0.99, max(df_plotting['Values']) * 1.01)\n",
        "#plt.gcf().set_size_inches(50,10)\n",
        "plt.show()"
      ]
    },
    {
      "cell_type": "code",
      "execution_count": null,
      "metadata": {
        "colab": {
          "base_uri": "https://localhost:8080/",
          "height": 334
        },
        "execution": {
          "iopub.execute_input": "2022-11-03T08:47:44.732157Z",
          "iopub.status.busy": "2022-11-03T08:47:44.731412Z",
          "iopub.status.idle": "2022-11-03T08:47:44.994367Z",
          "shell.execute_reply": "2022-11-03T08:47:44.992912Z",
          "shell.execute_reply.started": "2022-11-03T08:47:44.732111Z"
        },
        "id": "EKuiSdkygg0z",
        "outputId": "16dab67e-bd1b-4dfb-91d9-662472be37ed",
        "trusted": true
      },
      "outputs": [
        {
          "output_type": "display_data",
          "data": {
            "text/plain": [
              "<Figure size 360x360 with 1 Axes>"
            ],
            "image/png": "[encoded data removed]"
          },
          "metadata": {
            "needs_background": "light"
          }
        }
      ],
      "source": [
        "#plot result comparison\n",
        "plt.figure(figsize=(5,5))\n",
        "sns.barplot(y=models['Objective Value'],x=models['Model'], orient =\"v\", palette=df_plotting['Color'])\n",
        "#sns.barplot(y=models['Sensitivity'],x=models['Model'], orient =\"v\")\n",
        "plt.ylim(min(models['Objective Value'])* 0.9, max(models['Objective Value'])*1.01)\n",
        "#sns.despine()\n",
        "plt.show()"
      ]
    }
  ],
  "metadata": {
    "colab": {
      "provenance": [],
      "toc_visible": true,
      "include_colab_link": true
    },
    "kernelspec": {
      "display_name": "Python 3",
      "language": "python",
      "name": "python3"
    },
    "language_info": {
      "codemirror_mode": {
        "name": "ipython",
        "version": 3
      },
      "file_extension": ".py",
      "mimetype": "text/x-python",
      "name": "python",
      "nbconvert_exporter": "python",
      "pygments_lexer": "ipython3",
      "version": "3.7.12"
    }
  },
  "nbformat": 4,
  "nbformat_minor": 0
}
