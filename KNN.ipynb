{
  "cells": [
    {
      "cell_type": "markdown",
      "metadata": {
        "id": "Xg5e6YzxveCj"
      },
      "source": [
        "  ## Dataset: Cardiovascular heart disease\n",
        "  ## Dataset URL: https://www.kaggle.com/datasets/sulianova/cardiovascular-disease-dataset\n",
        "  ## Algorithms Used: K Nearest Neighbors (KNN)\n"
      ]
    },
    {
      "cell_type": "markdown",
      "metadata": {
        "id": "9SgEQqImuGPu"
      },
      "source": [
        "# Setup <a class=\"anchor\"  id=\"setup\"></a>\n"
      ]
    },
    {
      "cell_type": "markdown",
      "metadata": {
        "id": "v_HuthuSZ8pi"
      },
      "source": [
        "Importing all the required libraries and functions"
      ]
    },
    {
      "cell_type": "code",
      "execution_count": 1,
      "metadata": {
        "colab": {
          "base_uri": "https://localhost:8080/"
        },
        "id": "W5alGHS6NJee",
        "outputId": "b96b3428-e000-4b58-fd05-a0c6c4a04aae"
      },
      "outputs": [
        {
          "output_type": "stream",
          "name": "stdout",
          "text": [
            "Found existing installation: scikit-learn 1.2.2\n",
            "Uninstalling scikit-learn-1.2.2:\n",
            "  Would remove:\n",
            "    /usr/local/lib/python3.9/dist-packages/scikit_learn-1.2.2.dist-info/*\n",
            "    /usr/local/lib/python3.9/dist-packages/scikit_learn.libs/libgomp-a34b3233.so.1.0.0\n",
            "    /usr/local/lib/python3.9/dist-packages/sklearn/*\n",
            "Proceed (Y/n)? y\n",
            "  Successfully uninstalled scikit-learn-1.2.2\n",
            "Looking in indexes: https://pypi.org/simple, https://us-python.pkg.dev/colab-wheels/public/simple/\n",
            "Collecting scikit-learn\n",
            "  Downloading scikit_learn-1.2.2-cp39-cp39-manylinux_2_17_x86_64.manylinux2014_x86_64.whl (9.6 MB)\n",
            "\u001b[2K     \u001b[90m━━━━━━━━━━━━━━━━━━━━━━━━━━━━━━━━━━━━━━━━\u001b[0m \u001b[32m9.6/9.6 MB\u001b[0m \u001b[31m53.1 MB/s\u001b[0m eta \u001b[36m0:00:00\u001b[0m\n",
            "\u001b[?25hRequirement already satisfied: scipy>=1.3.2 in /usr/local/lib/python3.9/dist-packages (from scikit-learn) (1.10.1)\n",
            "Requirement already satisfied: numpy>=1.17.3 in /usr/local/lib/python3.9/dist-packages (from scikit-learn) (1.22.4)\n",
            "Requirement already satisfied: threadpoolctl>=2.0.0 in /usr/local/lib/python3.9/dist-packages (from scikit-learn) (3.1.0)\n",
            "Requirement already satisfied: joblib>=1.1.1 in /usr/local/lib/python3.9/dist-packages (from scikit-learn) (1.1.1)\n",
            "Installing collected packages: scikit-learn\n",
            "Successfully installed scikit-learn-1.2.2\n",
            "Looking in indexes: https://pypi.org/simple, https://us-python.pkg.dev/colab-wheels/public/simple/\n",
            "Requirement already satisfied: matplotlib in /usr/local/lib/python3.9/dist-packages (3.7.1)\n",
            "Requirement already satisfied: contourpy>=1.0.1 in /usr/local/lib/python3.9/dist-packages (from matplotlib) (1.0.7)\n",
            "Requirement already satisfied: importlib-resources>=3.2.0 in /usr/local/lib/python3.9/dist-packages (from matplotlib) (5.12.0)\n",
            "Requirement already satisfied: fonttools>=4.22.0 in /usr/local/lib/python3.9/dist-packages (from matplotlib) (4.39.0)\n",
            "Requirement already satisfied: pyparsing>=2.3.1 in /usr/local/lib/python3.9/dist-packages (from matplotlib) (3.0.9)\n",
            "Requirement already satisfied: numpy>=1.20 in /usr/local/lib/python3.9/dist-packages (from matplotlib) (1.22.4)\n",
            "Requirement already satisfied: packaging>=20.0 in /usr/local/lib/python3.9/dist-packages (from matplotlib) (23.0)\n",
            "Requirement already satisfied: python-dateutil>=2.7 in /usr/local/lib/python3.9/dist-packages (from matplotlib) (2.8.2)\n",
            "Requirement already satisfied: pillow>=6.2.0 in /usr/local/lib/python3.9/dist-packages (from matplotlib) (8.4.0)\n",
            "Requirement already satisfied: cycler>=0.10 in /usr/local/lib/python3.9/dist-packages (from matplotlib) (0.11.0)\n",
            "Requirement already satisfied: kiwisolver>=1.0.1 in /usr/local/lib/python3.9/dist-packages (from matplotlib) (1.4.4)\n",
            "Requirement already satisfied: zipp>=3.1.0 in /usr/local/lib/python3.9/dist-packages (from importlib-resources>=3.2.0->matplotlib) (3.15.0)\n",
            "Requirement already satisfied: six>=1.5 in /usr/local/lib/python3.9/dist-packages (from python-dateutil>=2.7->matplotlib) (1.15.0)\n"
          ]
        }
      ],
      "source": [
        "!pip uninstall scikit-learn\n",
        "!pip install scikit-learn\n",
        "!pip install matplotlib"
      ]
    },
    {
      "cell_type": "code",
      "execution_count": 2,
      "metadata": {
        "id": "zfnjCfA7qg1z"
      },
      "outputs": [],
      "source": [
        "### Data Handline\n",
        "import pandas as pd\n",
        "import numpy as np\n",
        "\n",
        "### Utility\n",
        "import math\n",
        "import warnings\n",
        "import string\n",
        "\n",
        "### Plotting\n",
        "# Matplotlib\n",
        "import matplotlib.pyplot as plt\n",
        "from matplotlib.legend_handler import HandlerLine2D\n",
        "\n",
        "\n",
        "# Model\n",
        "import sklearn\n",
        "from sklearn.preprocessing import StandardScaler\n",
        "from sklearn.preprocessing import MinMaxScaler\n",
        "import statsmodels.api as sm\n",
        "import statsmodels.formula.api as smf\n",
        "\n",
        "# Scikit-learn\n",
        "from sklearn.linear_model import LogisticRegression \n",
        "from sklearn.model_selection import train_test_split\n",
        "from sklearn.metrics import confusion_matrix, classification_report\n",
        "from sklearn.metrics import accuracy_score\n",
        "from sklearn.metrics import confusion_matrix, ConfusionMatrixDisplay\n",
        "from sklearn.tree import DecisionTreeClassifier\n",
        "from sklearn import metrics\n",
        "from sklearn.ensemble import GradientBoostingClassifier\n",
        "from sklearn.model_selection import GridSearchCV\n",
        "from sklearn.model_selection import cross_validate\n",
        "from sklearn.model_selection import KFold\n",
        "from sklearn.metrics import ConfusionMatrixDisplay \n",
        "\n",
        "\n",
        "#LDA\n",
        "from sklearn.model_selection import RepeatedStratifiedKFold\n",
        "from sklearn.model_selection import cross_val_score\n",
        "from sklearn.discriminant_analysis import LinearDiscriminantAnalysis\n",
        "\n",
        "#QDA\n",
        "from sklearn.discriminant_analysis import QuadraticDiscriminantAnalysis\n",
        "from sklearn.feature_selection import SequentialFeatureSelector\n",
        "\n",
        "#RND Forest\n",
        "from sklearn.ensemble import RandomForestClassifier\n",
        "\n",
        "# K Nearest Neighbors\n",
        "from sklearn.neighbors import KNeighborsClassifier\n",
        "\n",
        "#Support Vector Classifier\n",
        "from sklearn import svm\n",
        "from sklearn.svm import LinearSVC\n",
        "\n",
        "# Seaborn\n",
        "import seaborn as sns\n",
        "\n",
        "warnings.filterwarnings(\"ignore\")"
      ]
    },
    {
      "cell_type": "markdown",
      "metadata": {
        "id": "o-YDyJEtaTag"
      },
      "source": [
        "**Load dataset.**"
      ]
    },
    {
      "cell_type": "code",
      "execution_count": 3,
      "metadata": {
        "colab": {
          "base_uri": "https://localhost:8080/",
          "height": 206
        },
        "id": "O72kFq1LuZgy",
        "outputId": "cf43de1a-4c07-4fb4-a9f6-1bcde2b2fcaa"
      },
      "outputs": [
        {
          "output_type": "execute_result",
          "data": {
            "text/plain": [
              "   id    age  gender  height  weight  ap_hi  ap_lo  cholesterol  gluc  smoke  \\\n",
              "0   0  18393       2     168    62.0    110     80            1     1      0   \n",
              "1   1  20228       1     156    85.0    140     90            3     1      0   \n",
              "2   2  18857       1     165    64.0    130     70            3     1      0   \n",
              "3   3  17623       2     169    82.0    150    100            1     1      0   \n",
              "4   4  17474       1     156    56.0    100     60            1     1      0   \n",
              "\n",
              "   alco  active  cardio  \n",
              "0     0       1       0  \n",
              "1     0       1       1  \n",
              "2     0       0       1  \n",
              "3     0       1       1  \n",
              "4     0       0       0  "
            ],
            "text/html": [
              "\n",
              "  <div id=\"df-1ed1dcc5-f91e-42cd-ad5d-ee66b56a0be6\">\n",
              "    <div class=\"colab-df-container\">\n",
              "      <div>\n",
              "<style scoped>\n",
              "    .dataframe tbody tr th:only-of-type {\n",
              "        vertical-align: middle;\n",
              "    }\n",
              "\n",
              "    .dataframe tbody tr th {\n",
              "        vertical-align: top;\n",
              "    }\n",
              "\n",
              "    .dataframe thead th {\n",
              "        text-align: right;\n",
              "    }\n",
              "</style>\n",
              "<table border=\"1\" class=\"dataframe\">\n",
              "  <thead>\n",
              "    <tr style=\"text-align: right;\">\n",
              "      <th></th>\n",
              "      <th>id</th>\n",
              "      <th>age</th>\n",
              "      <th>gender</th>\n",
              "      <th>height</th>\n",
              "      <th>weight</th>\n",
              "      <th>ap_hi</th>\n",
              "      <th>ap_lo</th>\n",
              "      <th>cholesterol</th>\n",
              "      <th>gluc</th>\n",
              "      <th>smoke</th>\n",
              "      <th>alco</th>\n",
              "      <th>active</th>\n",
              "      <th>cardio</th>\n",
              "    </tr>\n",
              "  </thead>\n",
              "  <tbody>\n",
              "    <tr>\n",
              "      <th>0</th>\n",
              "      <td>0</td>\n",
              "      <td>18393</td>\n",
              "      <td>2</td>\n",
              "      <td>168</td>\n",
              "      <td>62.0</td>\n",
              "      <td>110</td>\n",
              "      <td>80</td>\n",
              "      <td>1</td>\n",
              "      <td>1</td>\n",
              "      <td>0</td>\n",
              "      <td>0</td>\n",
              "      <td>1</td>\n",
              "      <td>0</td>\n",
              "    </tr>\n",
              "    <tr>\n",
              "      <th>1</th>\n",
              "      <td>1</td>\n",
              "      <td>20228</td>\n",
              "      <td>1</td>\n",
              "      <td>156</td>\n",
              "      <td>85.0</td>\n",
              "      <td>140</td>\n",
              "      <td>90</td>\n",
              "      <td>3</td>\n",
              "      <td>1</td>\n",
              "      <td>0</td>\n",
              "      <td>0</td>\n",
              "      <td>1</td>\n",
              "      <td>1</td>\n",
              "    </tr>\n",
              "    <tr>\n",
              "      <th>2</th>\n",
              "      <td>2</td>\n",
              "      <td>18857</td>\n",
              "      <td>1</td>\n",
              "      <td>165</td>\n",
              "      <td>64.0</td>\n",
              "      <td>130</td>\n",
              "      <td>70</td>\n",
              "      <td>3</td>\n",
              "      <td>1</td>\n",
              "      <td>0</td>\n",
              "      <td>0</td>\n",
              "      <td>0</td>\n",
              "      <td>1</td>\n",
              "    </tr>\n",
              "    <tr>\n",
              "      <th>3</th>\n",
              "      <td>3</td>\n",
              "      <td>17623</td>\n",
              "      <td>2</td>\n",
              "      <td>169</td>\n",
              "      <td>82.0</td>\n",
              "      <td>150</td>\n",
              "      <td>100</td>\n",
              "      <td>1</td>\n",
              "      <td>1</td>\n",
              "      <td>0</td>\n",
              "      <td>0</td>\n",
              "      <td>1</td>\n",
              "      <td>1</td>\n",
              "    </tr>\n",
              "    <tr>\n",
              "      <th>4</th>\n",
              "      <td>4</td>\n",
              "      <td>17474</td>\n",
              "      <td>1</td>\n",
              "      <td>156</td>\n",
              "      <td>56.0</td>\n",
              "      <td>100</td>\n",
              "      <td>60</td>\n",
              "      <td>1</td>\n",
              "      <td>1</td>\n",
              "      <td>0</td>\n",
              "      <td>0</td>\n",
              "      <td>0</td>\n",
              "      <td>0</td>\n",
              "    </tr>\n",
              "  </tbody>\n",
              "</table>\n",
              "</div>\n",
              "      <button class=\"colab-df-convert\" onclick=\"convertToInteractive('df-1ed1dcc5-f91e-42cd-ad5d-ee66b56a0be6')\"\n",
              "              title=\"Convert this dataframe to an interactive table.\"\n",
              "              style=\"display:none;\">\n",
              "        \n",
              "  <svg xmlns=\"http://www.w3.org/2000/svg\" height=\"24px\"viewBox=\"0 0 24 24\"\n",
              "       width=\"24px\">\n",
              "    <path d=\"M0 0h24v24H0V0z\" fill=\"none\"/>\n",
              "    <path d=\"M18.56 5.44l.94 2.06.94-2.06 2.06-.94-2.06-.94-.94-2.06-.94 2.06-2.06.94zm-11 1L8.5 8.5l.94-2.06 2.06-.94-2.06-.94L8.5 2.5l-.94 2.06-2.06.94zm10 10l.94 2.06.94-2.06 2.06-.94-2.06-.94-.94-2.06-.94 2.06-2.06.94z\"/><path d=\"M17.41 7.96l-1.37-1.37c-.4-.4-.92-.59-1.43-.59-.52 0-1.04.2-1.43.59L10.3 9.45l-7.72 7.72c-.78.78-.78 2.05 0 2.83L4 21.41c.39.39.9.59 1.41.59.51 0 1.02-.2 1.41-.59l7.78-7.78 2.81-2.81c.8-.78.8-2.07 0-2.86zM5.41 20L4 18.59l7.72-7.72 1.47 1.35L5.41 20z\"/>\n",
              "  </svg>\n",
              "      </button>\n",
              "      \n",
              "  <style>\n",
              "    .colab-df-container {\n",
              "      display:flex;\n",
              "      flex-wrap:wrap;\n",
              "      gap: 12px;\n",
              "    }\n",
              "\n",
              "    .colab-df-convert {\n",
              "      background-color: #E8F0FE;\n",
              "      border: none;\n",
              "      border-radius: 50%;\n",
              "      cursor: pointer;\n",
              "      display: none;\n",
              "      fill: #1967D2;\n",
              "      height: 32px;\n",
              "      padding: 0 0 0 0;\n",
              "      width: 32px;\n",
              "    }\n",
              "\n",
              "    .colab-df-convert:hover {\n",
              "      background-color: #E2EBFA;\n",
              "      box-shadow: 0px 1px 2px rgba(60, 64, 67, 0.3), 0px 1px 3px 1px rgba(60, 64, 67, 0.15);\n",
              "      fill: #174EA6;\n",
              "    }\n",
              "\n",
              "    [theme=dark] .colab-df-convert {\n",
              "      background-color: #3B4455;\n",
              "      fill: #D2E3FC;\n",
              "    }\n",
              "\n",
              "    [theme=dark] .colab-df-convert:hover {\n",
              "      background-color: #434B5C;\n",
              "      box-shadow: 0px 1px 3px 1px rgba(0, 0, 0, 0.15);\n",
              "      filter: drop-shadow(0px 1px 2px rgba(0, 0, 0, 0.3));\n",
              "      fill: #FFFFFF;\n",
              "    }\n",
              "  </style>\n",
              "\n",
              "      <script>\n",
              "        const buttonEl =\n",
              "          document.querySelector('#df-1ed1dcc5-f91e-42cd-ad5d-ee66b56a0be6 button.colab-df-convert');\n",
              "        buttonEl.style.display =\n",
              "          google.colab.kernel.accessAllowed ? 'block' : 'none';\n",
              "\n",
              "        async function convertToInteractive(key) {\n",
              "          const element = document.querySelector('#df-1ed1dcc5-f91e-42cd-ad5d-ee66b56a0be6');\n",
              "          const dataTable =\n",
              "            await google.colab.kernel.invokeFunction('convertToInteractive',\n",
              "                                                     [key], {});\n",
              "          if (!dataTable) return;\n",
              "\n",
              "          const docLinkHtml = 'Like what you see? Visit the ' +\n",
              "            '<a target=\"_blank\" href=https://colab.research.google.com/notebooks/data_table.ipynb>data table notebook</a>'\n",
              "            + ' to learn more about interactive tables.';\n",
              "          element.innerHTML = '';\n",
              "          dataTable['output_type'] = 'display_data';\n",
              "          await google.colab.output.renderOutput(dataTable, element);\n",
              "          const docLink = document.createElement('div');\n",
              "          docLink.innerHTML = docLinkHtml;\n",
              "          element.appendChild(docLink);\n",
              "        }\n",
              "      </script>\n",
              "    </div>\n",
              "  </div>\n",
              "  "
            ]
          },
          "metadata": {},
          "execution_count": 3
        }
      ],
      "source": [
        "dataset = pd.read_csv(\"/content/cardio_train.csv\",delimiter=\";\")\n",
        "\n",
        "dataset.head()"
      ]
    },
    {
      "cell_type": "code",
      "execution_count": 4,
      "metadata": {
        "colab": {
          "base_uri": "https://localhost:8080/"
        },
        "id": "2U0yDBd-vKmB",
        "outputId": "3689fa27-d496-4d9e-eaaf-b1db09e1b08f"
      },
      "outputs": [
        {
          "output_type": "stream",
          "name": "stdout",
          "text": [
            "<class 'pandas.core.frame.DataFrame'>\n",
            "RangeIndex: 70000 entries, 0 to 69999\n",
            "Data columns (total 13 columns):\n",
            " #   Column       Non-Null Count  Dtype  \n",
            "---  ------       --------------  -----  \n",
            " 0   id           70000 non-null  int64  \n",
            " 1   age          70000 non-null  int64  \n",
            " 2   gender       70000 non-null  int64  \n",
            " 3   height       70000 non-null  int64  \n",
            " 4   weight       70000 non-null  float64\n",
            " 5   ap_hi        70000 non-null  int64  \n",
            " 6   ap_lo        70000 non-null  int64  \n",
            " 7   cholesterol  70000 non-null  int64  \n",
            " 8   gluc         70000 non-null  int64  \n",
            " 9   smoke        70000 non-null  int64  \n",
            " 10  alco         70000 non-null  int64  \n",
            " 11  active       70000 non-null  int64  \n",
            " 12  cardio       70000 non-null  int64  \n",
            "dtypes: float64(1), int64(12)\n",
            "memory usage: 6.9 MB\n"
          ]
        }
      ],
      "source": [
        "dataset.info()"
      ]
    },
    {
      "cell_type": "markdown",
      "metadata": {
        "id": "Y6ULzEsrP4xt"
      },
      "source": [
        "# Data Preprocessing"
      ]
    },
    {
      "cell_type": "code",
      "execution_count": 5,
      "metadata": {
        "colab": {
          "base_uri": "https://localhost:8080/"
        },
        "id": "Q6tL48gYRZeD",
        "outputId": "ce554255-73f5-405c-9033-dfe15015e86c"
      },
      "outputs": [
        {
          "output_type": "stream",
          "name": "stdout",
          "text": [
            "Number of entries in the dataframe:  910000\n",
            "Missing values:  0 \n",
            "\n",
            "Dataset contains no Duplicate Values\n"
          ]
        }
      ],
      "source": [
        "number_of_entity = dataset.shape[0]*dataset.shape[1]\n",
        "print('Number of entries in the dataframe: ', number_of_entity)\n",
        "\n",
        "missing_value_count = dataset.isna().sum().sum()\n",
        "print('Missing values: ', missing_value_count, '\\n')\n",
        "\n",
        "df_duplicate = dataset.duplicated().sum()\n",
        "if df_duplicate:\n",
        "    print('Duplicates Rows in Dataset are : {}'.format(df_duplicate))\n",
        "else:\n",
        "    print('Dataset contains no Duplicate Values')"
      ]
    },
    {
      "cell_type": "code",
      "execution_count": 6,
      "metadata": {
        "id": "NtxBcXHSRRAl"
      },
      "outputs": [],
      "source": [
        "#Remove all duplicated rows.\n",
        "dataset.drop_duplicates(inplace=True)\n",
        "\n",
        "#Remove id column because it is clearly not correlated in any way with the target\n",
        "dataset.drop(['id'], axis=1,inplace=True)"
      ]
    },
    {
      "cell_type": "code",
      "execution_count": 7,
      "metadata": {
        "colab": {
          "base_uri": "https://localhost:8080/",
          "height": 364
        },
        "id": "hR3qHo75vRmI",
        "outputId": "8cef6077-4438-4022-a132-5ce8186f1ef4"
      },
      "outputs": [
        {
          "output_type": "execute_result",
          "data": {
            "text/plain": [
              "                age        gender        height        weight         ap_hi  \\\n",
              "count  70000.000000  70000.000000  70000.000000  70000.000000  70000.000000   \n",
              "mean   19468.865814      1.349571    164.359229     74.205690    128.817286   \n",
              "std     2467.251667      0.476838      8.210126     14.395757    154.011419   \n",
              "min    10798.000000      1.000000     55.000000     10.000000   -150.000000   \n",
              "25%    17664.000000      1.000000    159.000000     65.000000    120.000000   \n",
              "50%    19703.000000      1.000000    165.000000     72.000000    120.000000   \n",
              "75%    21327.000000      2.000000    170.000000     82.000000    140.000000   \n",
              "max    23713.000000      2.000000    250.000000    200.000000  16020.000000   \n",
              "\n",
              "              ap_lo   cholesterol          gluc         smoke          alco  \\\n",
              "count  70000.000000  70000.000000  70000.000000  70000.000000  70000.000000   \n",
              "mean      96.630414      1.366871      1.226457      0.088129      0.053771   \n",
              "std      188.472530      0.680250      0.572270      0.283484      0.225568   \n",
              "min      -70.000000      1.000000      1.000000      0.000000      0.000000   \n",
              "25%       80.000000      1.000000      1.000000      0.000000      0.000000   \n",
              "50%       80.000000      1.000000      1.000000      0.000000      0.000000   \n",
              "75%       90.000000      2.000000      1.000000      0.000000      0.000000   \n",
              "max    11000.000000      3.000000      3.000000      1.000000      1.000000   \n",
              "\n",
              "             active        cardio  \n",
              "count  70000.000000  70000.000000  \n",
              "mean       0.803729      0.499700  \n",
              "std        0.397179      0.500003  \n",
              "min        0.000000      0.000000  \n",
              "25%        1.000000      0.000000  \n",
              "50%        1.000000      0.000000  \n",
              "75%        1.000000      1.000000  \n",
              "max        1.000000      1.000000  "
            ],
            "text/html": [
              "\n",
              "  <div id=\"df-ea1e72f5-03e7-4e63-b7a9-edf23db46aa9\">\n",
              "    <div class=\"colab-df-container\">\n",
              "      <div>\n",
              "<style scoped>\n",
              "    .dataframe tbody tr th:only-of-type {\n",
              "        vertical-align: middle;\n",
              "    }\n",
              "\n",
              "    .dataframe tbody tr th {\n",
              "        vertical-align: top;\n",
              "    }\n",
              "\n",
              "    .dataframe thead th {\n",
              "        text-align: right;\n",
              "    }\n",
              "</style>\n",
              "<table border=\"1\" class=\"dataframe\">\n",
              "  <thead>\n",
              "    <tr style=\"text-align: right;\">\n",
              "      <th></th>\n",
              "      <th>age</th>\n",
              "      <th>gender</th>\n",
              "      <th>height</th>\n",
              "      <th>weight</th>\n",
              "      <th>ap_hi</th>\n",
              "      <th>ap_lo</th>\n",
              "      <th>cholesterol</th>\n",
              "      <th>gluc</th>\n",
              "      <th>smoke</th>\n",
              "      <th>alco</th>\n",
              "      <th>active</th>\n",
              "      <th>cardio</th>\n",
              "    </tr>\n",
              "  </thead>\n",
              "  <tbody>\n",
              "    <tr>\n",
              "      <th>count</th>\n",
              "      <td>70000.000000</td>\n",
              "      <td>70000.000000</td>\n",
              "      <td>70000.000000</td>\n",
              "      <td>70000.000000</td>\n",
              "      <td>70000.000000</td>\n",
              "      <td>70000.000000</td>\n",
              "      <td>70000.000000</td>\n",
              "      <td>70000.000000</td>\n",
              "      <td>70000.000000</td>\n",
              "      <td>70000.000000</td>\n",
              "      <td>70000.000000</td>\n",
              "      <td>70000.000000</td>\n",
              "    </tr>\n",
              "    <tr>\n",
              "      <th>mean</th>\n",
              "      <td>19468.865814</td>\n",
              "      <td>1.349571</td>\n",
              "      <td>164.359229</td>\n",
              "      <td>74.205690</td>\n",
              "      <td>128.817286</td>\n",
              "      <td>96.630414</td>\n",
              "      <td>1.366871</td>\n",
              "      <td>1.226457</td>\n",
              "      <td>0.088129</td>\n",
              "      <td>0.053771</td>\n",
              "      <td>0.803729</td>\n",
              "      <td>0.499700</td>\n",
              "    </tr>\n",
              "    <tr>\n",
              "      <th>std</th>\n",
              "      <td>2467.251667</td>\n",
              "      <td>0.476838</td>\n",
              "      <td>8.210126</td>\n",
              "      <td>14.395757</td>\n",
              "      <td>154.011419</td>\n",
              "      <td>188.472530</td>\n",
              "      <td>0.680250</td>\n",
              "      <td>0.572270</td>\n",
              "      <td>0.283484</td>\n",
              "      <td>0.225568</td>\n",
              "      <td>0.397179</td>\n",
              "      <td>0.500003</td>\n",
              "    </tr>\n",
              "    <tr>\n",
              "      <th>min</th>\n",
              "      <td>10798.000000</td>\n",
              "      <td>1.000000</td>\n",
              "      <td>55.000000</td>\n",
              "      <td>10.000000</td>\n",
              "      <td>-150.000000</td>\n",
              "      <td>-70.000000</td>\n",
              "      <td>1.000000</td>\n",
              "      <td>1.000000</td>\n",
              "      <td>0.000000</td>\n",
              "      <td>0.000000</td>\n",
              "      <td>0.000000</td>\n",
              "      <td>0.000000</td>\n",
              "    </tr>\n",
              "    <tr>\n",
              "      <th>25%</th>\n",
              "      <td>17664.000000</td>\n",
              "      <td>1.000000</td>\n",
              "      <td>159.000000</td>\n",
              "      <td>65.000000</td>\n",
              "      <td>120.000000</td>\n",
              "      <td>80.000000</td>\n",
              "      <td>1.000000</td>\n",
              "      <td>1.000000</td>\n",
              "      <td>0.000000</td>\n",
              "      <td>0.000000</td>\n",
              "      <td>1.000000</td>\n",
              "      <td>0.000000</td>\n",
              "    </tr>\n",
              "    <tr>\n",
              "      <th>50%</th>\n",
              "      <td>19703.000000</td>\n",
              "      <td>1.000000</td>\n",
              "      <td>165.000000</td>\n",
              "      <td>72.000000</td>\n",
              "      <td>120.000000</td>\n",
              "      <td>80.000000</td>\n",
              "      <td>1.000000</td>\n",
              "      <td>1.000000</td>\n",
              "      <td>0.000000</td>\n",
              "      <td>0.000000</td>\n",
              "      <td>1.000000</td>\n",
              "      <td>0.000000</td>\n",
              "    </tr>\n",
              "    <tr>\n",
              "      <th>75%</th>\n",
              "      <td>21327.000000</td>\n",
              "      <td>2.000000</td>\n",
              "      <td>170.000000</td>\n",
              "      <td>82.000000</td>\n",
              "      <td>140.000000</td>\n",
              "      <td>90.000000</td>\n",
              "      <td>2.000000</td>\n",
              "      <td>1.000000</td>\n",
              "      <td>0.000000</td>\n",
              "      <td>0.000000</td>\n",
              "      <td>1.000000</td>\n",
              "      <td>1.000000</td>\n",
              "    </tr>\n",
              "    <tr>\n",
              "      <th>max</th>\n",
              "      <td>23713.000000</td>\n",
              "      <td>2.000000</td>\n",
              "      <td>250.000000</td>\n",
              "      <td>200.000000</td>\n",
              "      <td>16020.000000</td>\n",
              "      <td>11000.000000</td>\n",
              "      <td>3.000000</td>\n",
              "      <td>3.000000</td>\n",
              "      <td>1.000000</td>\n",
              "      <td>1.000000</td>\n",
              "      <td>1.000000</td>\n",
              "      <td>1.000000</td>\n",
              "    </tr>\n",
              "  </tbody>\n",
              "</table>\n",
              "</div>\n",
              "      <button class=\"colab-df-convert\" onclick=\"convertToInteractive('df-ea1e72f5-03e7-4e63-b7a9-edf23db46aa9')\"\n",
              "              title=\"Convert this dataframe to an interactive table.\"\n",
              "              style=\"display:none;\">\n",
              "        \n",
              "  <svg xmlns=\"http://www.w3.org/2000/svg\" height=\"24px\"viewBox=\"0 0 24 24\"\n",
              "       width=\"24px\">\n",
              "    <path d=\"M0 0h24v24H0V0z\" fill=\"none\"/>\n",
              "    <path d=\"M18.56 5.44l.94 2.06.94-2.06 2.06-.94-2.06-.94-.94-2.06-.94 2.06-2.06.94zm-11 1L8.5 8.5l.94-2.06 2.06-.94-2.06-.94L8.5 2.5l-.94 2.06-2.06.94zm10 10l.94 2.06.94-2.06 2.06-.94-2.06-.94-.94-2.06-.94 2.06-2.06.94z\"/><path d=\"M17.41 7.96l-1.37-1.37c-.4-.4-.92-.59-1.43-.59-.52 0-1.04.2-1.43.59L10.3 9.45l-7.72 7.72c-.78.78-.78 2.05 0 2.83L4 21.41c.39.39.9.59 1.41.59.51 0 1.02-.2 1.41-.59l7.78-7.78 2.81-2.81c.8-.78.8-2.07 0-2.86zM5.41 20L4 18.59l7.72-7.72 1.47 1.35L5.41 20z\"/>\n",
              "  </svg>\n",
              "      </button>\n",
              "      \n",
              "  <style>\n",
              "    .colab-df-container {\n",
              "      display:flex;\n",
              "      flex-wrap:wrap;\n",
              "      gap: 12px;\n",
              "    }\n",
              "\n",
              "    .colab-df-convert {\n",
              "      background-color: #E8F0FE;\n",
              "      border: none;\n",
              "      border-radius: 50%;\n",
              "      cursor: pointer;\n",
              "      display: none;\n",
              "      fill: #1967D2;\n",
              "      height: 32px;\n",
              "      padding: 0 0 0 0;\n",
              "      width: 32px;\n",
              "    }\n",
              "\n",
              "    .colab-df-convert:hover {\n",
              "      background-color: #E2EBFA;\n",
              "      box-shadow: 0px 1px 2px rgba(60, 64, 67, 0.3), 0px 1px 3px 1px rgba(60, 64, 67, 0.15);\n",
              "      fill: #174EA6;\n",
              "    }\n",
              "\n",
              "    [theme=dark] .colab-df-convert {\n",
              "      background-color: #3B4455;\n",
              "      fill: #D2E3FC;\n",
              "    }\n",
              "\n",
              "    [theme=dark] .colab-df-convert:hover {\n",
              "      background-color: #434B5C;\n",
              "      box-shadow: 0px 1px 3px 1px rgba(0, 0, 0, 0.15);\n",
              "      filter: drop-shadow(0px 1px 2px rgba(0, 0, 0, 0.3));\n",
              "      fill: #FFFFFF;\n",
              "    }\n",
              "  </style>\n",
              "\n",
              "      <script>\n",
              "        const buttonEl =\n",
              "          document.querySelector('#df-ea1e72f5-03e7-4e63-b7a9-edf23db46aa9 button.colab-df-convert');\n",
              "        buttonEl.style.display =\n",
              "          google.colab.kernel.accessAllowed ? 'block' : 'none';\n",
              "\n",
              "        async function convertToInteractive(key) {\n",
              "          const element = document.querySelector('#df-ea1e72f5-03e7-4e63-b7a9-edf23db46aa9');\n",
              "          const dataTable =\n",
              "            await google.colab.kernel.invokeFunction('convertToInteractive',\n",
              "                                                     [key], {});\n",
              "          if (!dataTable) return;\n",
              "\n",
              "          const docLinkHtml = 'Like what you see? Visit the ' +\n",
              "            '<a target=\"_blank\" href=https://colab.research.google.com/notebooks/data_table.ipynb>data table notebook</a>'\n",
              "            + ' to learn more about interactive tables.';\n",
              "          element.innerHTML = '';\n",
              "          dataTable['output_type'] = 'display_data';\n",
              "          await google.colab.output.renderOutput(dataTable, element);\n",
              "          const docLink = document.createElement('div');\n",
              "          docLink.innerHTML = docLinkHtml;\n",
              "          element.appendChild(docLink);\n",
              "        }\n",
              "      </script>\n",
              "    </div>\n",
              "  </div>\n",
              "  "
            ]
          },
          "metadata": {},
          "execution_count": 7
        }
      ],
      "source": [
        "dataset.describe()"
      ]
    },
    {
      "cell_type": "markdown",
      "metadata": {
        "id": "5hUwak6q6PRs"
      },
      "source": [
        "**Observations**\n",
        "- The 'Age' column needs to be recalculated because it contains minimum values that are unrealistic and suggest missing or incorrect data.\n",
        "- The 'Weight' column contains minimum and maximum values that are unrealistic and need to be adjusted.\n",
        "- The Systolic blood pressure \"ap_hi\" and Diastolic blood pressure \"ap_lo\" columns cannot have negative values.\n",
        "- If the values in the ap_hi and ap_lo columns exceed 180 mmHg and 120 mmHg respectively, this indicates a hypertensive crisis, which is a medical emergency, so the maximum values in these columns should be adjusted accordingly.\n",
        "\n",
        "\n",
        "\n"
      ]
    },
    {
      "cell_type": "code",
      "execution_count": 8,
      "metadata": {
        "id": "_0XFf1QcWIvd"
      },
      "outputs": [],
      "source": [
        "#The 'Age' column in the dataset is expressed in days, so we need to convert it to years.\n",
        "dataset['age'] = dataset['age'].apply(lambda x: x/365)  "
      ]
    },
    {
      "cell_type": "code",
      "execution_count": 9,
      "metadata": {
        "colab": {
          "base_uri": "https://localhost:8080/"
        },
        "id": "6BgZ1XphWb55",
        "outputId": "aac93615-ae25-48c0-f2da-83f120a07629"
      },
      "outputs": [
        {
          "output_type": "stream",
          "name": "stdout",
          "text": [
            "Have total 1275 outliers\n",
            "percent missing: 1.8%\n"
          ]
        }
      ],
      "source": [
        "outliers = len(dataset[(dataset[\"ap_hi\"]>=280) | (dataset[\"ap_lo\"]>=220) | (dataset[\"ap_lo\"] < 0) | (dataset[\"ap_hi\"] < 0) | (dataset[\"ap_hi\"]<dataset[\"ap_lo\"])])\n",
        "\n",
        "print(f'Have total {outliers} outliers')\n",
        "print(f'percent missing: {round(outliers/len(dataset)*100,1)}%')"
      ]
    },
    {
      "cell_type": "code",
      "execution_count": 10,
      "metadata": {
        "id": "4ESYJqaFEYgc"
      },
      "outputs": [],
      "source": [
        "#Filtering oSystolic blood pressure and Diastolic blood pressure\n",
        "dataset = dataset[ (dataset['ap_lo'] >= 0) & (dataset['ap_hi'] >= 0) ]  #remove negative values\n",
        "dataset = dataset[ (dataset['ap_lo'] <= 220) & (dataset['ap_hi'] <= 280) ]  #remove fishy data points\n",
        "dataset = dataset[ (dataset['ap_lo'] < dataset['ap_hi']) ]  #remove systolic higher than diastolic\n"
      ]
    },
    {
      "cell_type": "code",
      "execution_count": 11,
      "metadata": {
        "id": "1xv7x-DxG3ls"
      },
      "outputs": [],
      "source": [
        "Q1_hi = dataset['ap_hi'].quantile(0.05) # 5th percentile of the data of the given feature\n",
        "Q3_hi = dataset['ap_hi'].quantile(0.95)  # 95th percentile of the data of the given feature\n",
        "IQR_hi = Q3_hi - Q1_hi\n",
        "lower, upper = Q1_hi - 1.5 * IQR_hi, Q3_hi + 1.5 * IQR_hi\n",
        "dataset = dataset[(dataset['ap_hi'] >= lower) & (dataset['ap_hi'] <= upper)]  \n",
        "\n",
        "Q1_lo = dataset['ap_lo'].quantile(0.05) # 5th percentile of the data of the given feature\n",
        "Q3_lo = dataset['ap_lo'].quantile(0.95)  # 95th percentile of the data of the given feature\n",
        "IQR_lo = Q3_lo - Q1_lo\n",
        "lower, upper = Q1_lo - 1.5 * IQR_lo, Q3_lo + 1.5 * IQR_lo\n",
        "dataset = dataset[(dataset['ap_lo'] >= lower) & (dataset['ap_lo'] <= upper)]  "
      ]
    },
    {
      "cell_type": "code",
      "execution_count": 12,
      "metadata": {
        "colab": {
          "base_uri": "https://localhost:8080/",
          "height": 441
        },
        "id": "t5DgZMOwG2KD",
        "outputId": "81685dca-5767-4d8a-ea42-1bb3d308b36c"
      },
      "outputs": [
        {
          "output_type": "display_data",
          "data": {
            "text/plain": [
              "<Figure size 432x432 with 3 Axes>"
            ],
            "image/png": "[encoded data removed]"
          },
          "metadata": {
            "needs_background": "light"
          }
        }
      ],
      "source": [
        "sns.jointplot(x='ap_hi', y='ap_lo', data=dataset);"
      ]
    },
    {
      "cell_type": "markdown",
      "metadata": {
        "id": "ilJGjzRQMHts"
      },
      "source": [
        "## 1.1 - IQR based filtering - height, weight <a class=\"anchor\"  id=\"iqr\"></a>\n",
        "\n",
        "\n",
        "\n"
      ]
    },
    {
      "cell_type": "code",
      "execution_count": 13,
      "metadata": {
        "colab": {
          "base_uri": "https://localhost:8080/",
          "height": 338
        },
        "id": "yBJpf9nVSS9e",
        "outputId": "5433291d-d51b-41d6-dfab-291a62d6d4ec"
      },
      "outputs": [
        {
          "output_type": "execute_result",
          "data": {
            "text/plain": [
              "<Axes: >"
            ]
          },
          "metadata": {},
          "execution_count": 13
        },
        {
          "output_type": "display_data",
          "data": {
            "text/plain": [
              "<Figure size 1080x360 with 1 Axes>"
            ],
            "image/png": "[encoded data removed]"
          },
          "metadata": {
            "needs_background": "light"
          }
        }
      ],
      "source": [
        "plt.figure(figsize=(15,5))\n",
        "dataset.boxplot(['weight','height'])"
      ]
    },
    {
      "cell_type": "code",
      "execution_count": 14,
      "metadata": {
        "colab": {
          "base_uri": "https://localhost:8080/"
        },
        "id": "kY2UvRZa05Ya",
        "outputId": "2181b3ba-63f7-490d-e33e-58b56cdd2c9c"
      },
      "outputs": [
        {
          "output_type": "execute_result",
          "data": {
            "text/plain": [
              "0"
            ]
          },
          "metadata": {},
          "execution_count": 14
        }
      ],
      "source": [
        "#Filtering out the smallest and tallest human ever known were 54 cm and 251 cm respectively\n",
        "len(dataset[(dataset['height'] > 251) | (dataset['height'] < 54)])"
      ]
    },
    {
      "cell_type": "code",
      "execution_count": 15,
      "metadata": {
        "colab": {
          "base_uri": "https://localhost:8080/"
        },
        "id": "QJNV04gkTb5J",
        "outputId": "6220eace-7740-4796-96a5-4e4c2ba45c25"
      },
      "outputs": [
        {
          "output_type": "stream",
          "name": "stdout",
          "text": [
            "Feature: height-------------\n",
            "Percentiles: 5th=152.0, 95th=178.0, IQR=26.0\n",
            "Identified outliers: 46 \n",
            "\n",
            "Feature: weight-------------\n",
            "Percentiles: 5th=55.0, 95th=100.0, IQR=45.0\n",
            "Identified outliers: 20 \n",
            "\n"
          ]
        }
      ],
      "source": [
        "#Function that detects the outlier given interquartile range\n",
        "def detect_outliers(df,q1,q3):\n",
        "  for col in df.columns:\n",
        "    df_feature = df[col]\n",
        "    Q1 = df_feature.quantile(q1) # 25th percentile of the data of the given feature\n",
        "    Q3 = df_feature.quantile(q3)  # 75th percentile of the data of the given feature\n",
        "    IQR = Q3 - Q1    #IQR is interquartile range. \n",
        "    print(f'Feature: {col}-------------')\n",
        "    print(f'Percentiles: {int(q1*100)}th={Q1}, {int(q3*100)}th={Q3}, IQR={IQR}')\n",
        "    # calculate the outlier lower and upper bound\n",
        "    lower, upper = Q1 - 1.5 * IQR, Q3 + 1.5 * IQR\n",
        "    # identify outliers\n",
        "    outliers = [x for x in df_feature if x < lower or x > upper]\n",
        "    print('Identified outliers: %d \\n' % len(outliers))\n",
        "    # remove outliers \n",
        "    #dataset = df[(df_feature >= lower) & (df_feature <= upper)]  \n",
        "  \n",
        "detect_outliers(dataset[['height', 'weight']],0.05,0.95)"
      ]
    },
    {
      "cell_type": "code",
      "execution_count": 16,
      "metadata": {
        "id": "yqMh0Wpz_cH1"
      },
      "outputs": [],
      "source": [
        "#After the observation we can remove the outliers weight, height\n",
        "dataset_cleaned = dataset \n",
        "for col in ['height','weight']:\n",
        "  Q1 = dataset[col].quantile(0.05) # 5th percentile of the data of the given feature\n",
        "  Q3 = dataset[col].quantile(0.95)  # 95th percentile of the data of the given feature\n",
        "  IQR = Q3 - Q1\n",
        "  lower, upper = Q1 - 1.5 * IQR, Q3 + 1.5 * IQR\n",
        "  dataset_cleaned = dataset_cleaned[(dataset_cleaned[col] >= lower) & (dataset_cleaned[col] <= upper)]  \n"
      ]
    },
    {
      "cell_type": "markdown",
      "metadata": {
        "id": "qG6EJa0RV58j"
      },
      "source": [
        "## 1.2 - BMI - filtering <a class=\"anchor\"  id=\"bmi\"></a>"
      ]
    },
    {
      "cell_type": "markdown",
      "metadata": {
        "id": "Kg8M75r6WvZi"
      },
      "source": [
        "One way to potentially gain better insights from the data is to create a new feature called the Body Mass Index (BMI), which takes into account both height and weight. The BMI provides information about a person's general health status, indicating whether they fall within a normal weight range or not. The formula used to calculate BMI can be applied to the data.\n",
        "\n",
        "\\begin{equation}\n",
        "BMI = \\tfrac{weight}{height^2}\n",
        "\\end{equation}\n",
        "\n",
        "*BMI = kg/m2 where kg is a person's weight in kilograms and m2 is their height in metres squared*"
      ]
    },
    {
      "cell_type": "code",
      "execution_count": 17,
      "metadata": {
        "colab": {
          "base_uri": "https://localhost:8080/",
          "height": 206
        },
        "id": "rPuZwOB3WjEd",
        "outputId": "9739a434-8dba-4b88-d0ea-f0ba92a3f834"
      },
      "outputs": [
        {
          "output_type": "execute_result",
          "data": {
            "text/plain": [
              "         age  gender  height  weight  ap_hi  ap_lo  cholesterol  gluc  smoke  \\\n",
              "0  50.391781       2     168    62.0    110     80            1     1      0   \n",
              "1  55.419178       1     156    85.0    140     90            3     1      0   \n",
              "2  51.663014       1     165    64.0    130     70            3     1      0   \n",
              "3  48.282192       2     169    82.0    150    100            1     1      0   \n",
              "4  47.873973       1     156    56.0    100     60            1     1      0   \n",
              "\n",
              "   alco  active  cardio   BMI  \n",
              "0     0       1       0  22.0  \n",
              "1     0       1       1  34.9  \n",
              "2     0       0       1  23.5  \n",
              "3     0       1       1  28.7  \n",
              "4     0       0       0  23.0  "
            ],
            "text/html": [
              "\n",
              "  <div id=\"df-ff2ab56b-706c-4e33-8c19-018d93079147\">\n",
              "    <div class=\"colab-df-container\">\n",
              "      <div>\n",
              "<style scoped>\n",
              "    .dataframe tbody tr th:only-of-type {\n",
              "        vertical-align: middle;\n",
              "    }\n",
              "\n",
              "    .dataframe tbody tr th {\n",
              "        vertical-align: top;\n",
              "    }\n",
              "\n",
              "    .dataframe thead th {\n",
              "        text-align: right;\n",
              "    }\n",
              "</style>\n",
              "<table border=\"1\" class=\"dataframe\">\n",
              "  <thead>\n",
              "    <tr style=\"text-align: right;\">\n",
              "      <th></th>\n",
              "      <th>age</th>\n",
              "      <th>gender</th>\n",
              "      <th>height</th>\n",
              "      <th>weight</th>\n",
              "      <th>ap_hi</th>\n",
              "      <th>ap_lo</th>\n",
              "      <th>cholesterol</th>\n",
              "      <th>gluc</th>\n",
              "      <th>smoke</th>\n",
              "      <th>alco</th>\n",
              "      <th>active</th>\n",
              "      <th>cardio</th>\n",
              "      <th>BMI</th>\n",
              "    </tr>\n",
              "  </thead>\n",
              "  <tbody>\n",
              "    <tr>\n",
              "      <th>0</th>\n",
              "      <td>50.391781</td>\n",
              "      <td>2</td>\n",
              "      <td>168</td>\n",
              "      <td>62.0</td>\n",
              "      <td>110</td>\n",
              "      <td>80</td>\n",
              "      <td>1</td>\n",
              "      <td>1</td>\n",
              "      <td>0</td>\n",
              "      <td>0</td>\n",
              "      <td>1</td>\n",
              "      <td>0</td>\n",
              "      <td>22.0</td>\n",
              "    </tr>\n",
              "    <tr>\n",
              "      <th>1</th>\n",
              "      <td>55.419178</td>\n",
              "      <td>1</td>\n",
              "      <td>156</td>\n",
              "      <td>85.0</td>\n",
              "      <td>140</td>\n",
              "      <td>90</td>\n",
              "      <td>3</td>\n",
              "      <td>1</td>\n",
              "      <td>0</td>\n",
              "      <td>0</td>\n",
              "      <td>1</td>\n",
              "      <td>1</td>\n",
              "      <td>34.9</td>\n",
              "    </tr>\n",
              "    <tr>\n",
              "      <th>2</th>\n",
              "      <td>51.663014</td>\n",
              "      <td>1</td>\n",
              "      <td>165</td>\n",
              "      <td>64.0</td>\n",
              "      <td>130</td>\n",
              "      <td>70</td>\n",
              "      <td>3</td>\n",
              "      <td>1</td>\n",
              "      <td>0</td>\n",
              "      <td>0</td>\n",
              "      <td>0</td>\n",
              "      <td>1</td>\n",
              "      <td>23.5</td>\n",
              "    </tr>\n",
              "    <tr>\n",
              "      <th>3</th>\n",
              "      <td>48.282192</td>\n",
              "      <td>2</td>\n",
              "      <td>169</td>\n",
              "      <td>82.0</td>\n",
              "      <td>150</td>\n",
              "      <td>100</td>\n",
              "      <td>1</td>\n",
              "      <td>1</td>\n",
              "      <td>0</td>\n",
              "      <td>0</td>\n",
              "      <td>1</td>\n",
              "      <td>1</td>\n",
              "      <td>28.7</td>\n",
              "    </tr>\n",
              "    <tr>\n",
              "      <th>4</th>\n",
              "      <td>47.873973</td>\n",
              "      <td>1</td>\n",
              "      <td>156</td>\n",
              "      <td>56.0</td>\n",
              "      <td>100</td>\n",
              "      <td>60</td>\n",
              "      <td>1</td>\n",
              "      <td>1</td>\n",
              "      <td>0</td>\n",
              "      <td>0</td>\n",
              "      <td>0</td>\n",
              "      <td>0</td>\n",
              "      <td>23.0</td>\n",
              "    </tr>\n",
              "  </tbody>\n",
              "</table>\n",
              "</div>\n",
              "      <button class=\"colab-df-convert\" onclick=\"convertToInteractive('df-ff2ab56b-706c-4e33-8c19-018d93079147')\"\n",
              "              title=\"Convert this dataframe to an interactive table.\"\n",
              "              style=\"display:none;\">\n",
              "        \n",
              "  <svg xmlns=\"http://www.w3.org/2000/svg\" height=\"24px\"viewBox=\"0 0 24 24\"\n",
              "       width=\"24px\">\n",
              "    <path d=\"M0 0h24v24H0V0z\" fill=\"none\"/>\n",
              "    <path d=\"M18.56 5.44l.94 2.06.94-2.06 2.06-.94-2.06-.94-.94-2.06-.94 2.06-2.06.94zm-11 1L8.5 8.5l.94-2.06 2.06-.94-2.06-.94L8.5 2.5l-.94 2.06-2.06.94zm10 10l.94 2.06.94-2.06 2.06-.94-2.06-.94-.94-2.06-.94 2.06-2.06.94z\"/><path d=\"M17.41 7.96l-1.37-1.37c-.4-.4-.92-.59-1.43-.59-.52 0-1.04.2-1.43.59L10.3 9.45l-7.72 7.72c-.78.78-.78 2.05 0 2.83L4 21.41c.39.39.9.59 1.41.59.51 0 1.02-.2 1.41-.59l7.78-7.78 2.81-2.81c.8-.78.8-2.07 0-2.86zM5.41 20L4 18.59l7.72-7.72 1.47 1.35L5.41 20z\"/>\n",
              "  </svg>\n",
              "      </button>\n",
              "      \n",
              "  <style>\n",
              "    .colab-df-container {\n",
              "      display:flex;\n",
              "      flex-wrap:wrap;\n",
              "      gap: 12px;\n",
              "    }\n",
              "\n",
              "    .colab-df-convert {\n",
              "      background-color: #E8F0FE;\n",
              "      border: none;\n",
              "      border-radius: 50%;\n",
              "      cursor: pointer;\n",
              "      display: none;\n",
              "      fill: #1967D2;\n",
              "      height: 32px;\n",
              "      padding: 0 0 0 0;\n",
              "      width: 32px;\n",
              "    }\n",
              "\n",
              "    .colab-df-convert:hover {\n",
              "      background-color: #E2EBFA;\n",
              "      box-shadow: 0px 1px 2px rgba(60, 64, 67, 0.3), 0px 1px 3px 1px rgba(60, 64, 67, 0.15);\n",
              "      fill: #174EA6;\n",
              "    }\n",
              "\n",
              "    [theme=dark] .colab-df-convert {\n",
              "      background-color: #3B4455;\n",
              "      fill: #D2E3FC;\n",
              "    }\n",
              "\n",
              "    [theme=dark] .colab-df-convert:hover {\n",
              "      background-color: #434B5C;\n",
              "      box-shadow: 0px 1px 3px 1px rgba(0, 0, 0, 0.15);\n",
              "      filter: drop-shadow(0px 1px 2px rgba(0, 0, 0, 0.3));\n",
              "      fill: #FFFFFF;\n",
              "    }\n",
              "  </style>\n",
              "\n",
              "      <script>\n",
              "        const buttonEl =\n",
              "          document.querySelector('#df-ff2ab56b-706c-4e33-8c19-018d93079147 button.colab-df-convert');\n",
              "        buttonEl.style.display =\n",
              "          google.colab.kernel.accessAllowed ? 'block' : 'none';\n",
              "\n",
              "        async function convertToInteractive(key) {\n",
              "          const element = document.querySelector('#df-ff2ab56b-706c-4e33-8c19-018d93079147');\n",
              "          const dataTable =\n",
              "            await google.colab.kernel.invokeFunction('convertToInteractive',\n",
              "                                                     [key], {});\n",
              "          if (!dataTable) return;\n",
              "\n",
              "          const docLinkHtml = 'Like what you see? Visit the ' +\n",
              "            '<a target=\"_blank\" href=https://colab.research.google.com/notebooks/data_table.ipynb>data table notebook</a>'\n",
              "            + ' to learn more about interactive tables.';\n",
              "          element.innerHTML = '';\n",
              "          dataTable['output_type'] = 'display_data';\n",
              "          await google.colab.output.renderOutput(dataTable, element);\n",
              "          const docLink = document.createElement('div');\n",
              "          docLink.innerHTML = docLinkHtml;\n",
              "          element.appendChild(docLink);\n",
              "        }\n",
              "      </script>\n",
              "    </div>\n",
              "  </div>\n",
              "  "
            ]
          },
          "metadata": {},
          "execution_count": 17
        }
      ],
      "source": [
        "# calculating the patient BMI (Body Mass Index)  \n",
        "dataset_cleaned['BMI'] = round(dataset_cleaned['weight']/((dataset_cleaned['height']/100)**2),1)\n",
        "dataset_cleaned.head()"
      ]
    },
    {
      "cell_type": "code",
      "execution_count": 18,
      "metadata": {
        "id": "f5IZ5msTrBVp"
      },
      "outputs": [],
      "source": [
        "#The BMI data can be filtered to exclude extreme values that fall outside the healthy range according to the BMI chart.\n",
        "dataset_cleaned = dataset_cleaned[ (dataset_cleaned['BMI'] < 60) & (dataset_cleaned['BMI'] > 10)]"
      ]
    },
    {
      "cell_type": "code",
      "execution_count": 19,
      "metadata": {
        "colab": {
          "base_uri": "https://localhost:8080/"
        },
        "id": "sLZvBS5hU-er",
        "outputId": "1d41500f-01f1-4f1e-95eb-91a2d03ff7ea"
      },
      "outputs": [
        {
          "output_type": "stream",
          "name": "stdout",
          "text": [
            "Number of rows of dataset dataset after data preprocessing: 68584\n",
            "How much percent missing: 2.02%\n"
          ]
        }
      ],
      "source": [
        "#Dataset after cleaning\n",
        "print(f'Number of rows of dataset dataset after data preprocessing: {len(dataset_cleaned)}')\n",
        "print(f'How much percent missing: {round((70000-len(dataset_cleaned))/70000*100,2)}%')"
      ]
    },
    {
      "cell_type": "code",
      "execution_count": 20,
      "metadata": {
        "colab": {
          "base_uri": "https://localhost:8080/",
          "height": 441
        },
        "id": "SpA7a5IFH51d",
        "outputId": "f69a4908-7995-44db-d3f8-e41fe0edb380"
      },
      "outputs": [
        {
          "output_type": "display_data",
          "data": {
            "text/plain": [
              "<Figure size 432x432 with 3 Axes>"
            ],
            "image/png": "[encoded data removed]"
          },
          "metadata": {
            "needs_background": "light"
          }
        }
      ],
      "source": [
        "#For exploring the joint distribution of two numerical features, the Seaborn library's jointplot function can be an effective tool to use.\n",
        "sns.jointplot(x='height', y='weight', data=dataset_cleaned);"
      ]
    },
    {
      "cell_type": "code",
      "execution_count": 21,
      "metadata": {
        "colab": {
          "base_uri": "https://localhost:8080/",
          "height": 422
        },
        "id": "K-p2r7gFOp95",
        "outputId": "ab1dd127-d557-463a-8a12-cd13e694f969"
      },
      "outputs": [
        {
          "output_type": "execute_result",
          "data": {
            "text/plain": [
              "[Text(0, 0, 'Male'), Text(1, 0, 'Female')]"
            ]
          },
          "metadata": {},
          "execution_count": 21
        },
        {
          "output_type": "display_data",
          "data": {
            "text/plain": [
              "<Figure size 504x432 with 1 Axes>"
            ],
            "image/png": "[encoded data removed]"
          },
          "metadata": {
            "needs_background": "light"
          }
        }
      ],
      "source": [
        "#Distribution of datasetvascular heart disease by gender\n",
        "gender = dataset_cleaned['gender'].value_counts()\n",
        "plt.figure(figsize=(7, 6))\n",
        "ax = gender.plot(kind='bar', rot=0, color=\"r\")\n",
        "ax.set_title(\"Propotion of datasetvascular heart disease by gender\", y = 1)\n",
        "ax.set_xlabel('Gender')\n",
        "ax.set_ylabel('Number of People')\n",
        "ax.set_xticklabels(('Male', 'Female'))"
      ]
    },
    {
      "cell_type": "markdown",
      "metadata": {
        "id": "E5qRORBGIpYi"
      },
      "source": [
        "- Based on the bar chart, it is evident that the likelihood of contracting the disease is greater among males compared to females."
      ]
    },
    {
      "cell_type": "markdown",
      "metadata": {
        "id": "ad9c4x5FVdA3"
      },
      "source": [
        "# 2 - Feature Engineering <a class=\"anchor\"  id=\"feature\"></a>"
      ]
    },
    {
      "cell_type": "code",
      "execution_count": 22,
      "metadata": {
        "colab": {
          "base_uri": "https://localhost:8080/",
          "height": 617
        },
        "id": "ukCmlGzaAoVy",
        "outputId": "005c8b3a-00d2-4ad9-c9ff-b29134500239"
      },
      "outputs": [
        {
          "output_type": "display_data",
          "data": {
            "text/plain": [
              "<Figure size 792x648 with 2 Axes>"
            ],
            "image/png": "[encoded data removed]"
          },
          "metadata": {
            "needs_background": "light"
          }
        }
      ],
      "source": [
        "#plotting correlation map\n",
        "plt.rcParams.update({'font.size': 11})\n",
        "fig, ax = plt.subplots(figsize=(11, 9))\n",
        "sns.heatmap(dataset_cleaned.corr(), annot = True, vmin=-1, vmax=1, center= 0, cmap= 'coolwarm', ax=ax, fmt='.1g', linewidths=.5);\n",
        "plt.title('Corelation Between Features', fontsize = 30)\n",
        "plt.show()"
      ]
    },
    {
      "cell_type": "markdown",
      "metadata": {
        "id": "knxmMpFtAm8y"
      },
      "source": [
        "**Observations**\n",
        "*   Age and cholesterol exhibit a noteworthy influence on the target variable, but their correlation is not particularly strong\n",
        "*   Ap_hi displays the strongest correlation with the target variable, making it a crucial feature for our model. Ap_lo exhibits a similar pattern.\n",
        "*   Although the newly created feature \"BMI\" is not highly correlated with the target variable, it does exhibit a high correlation with \"weight\". As such, it may be beneficial to drop one of these features to avoid potential multicollinearity issues.\n",
        "*   Among the features, \"gender\", \"smoking\", and \"height\" display the weakest correlation with the target variable.\n",
        "\n",
        "\n"
      ]
    },
    {
      "cell_type": "markdown",
      "metadata": {
        "id": "f4tiiCu0HGQZ"
      },
      "source": [
        "# 3- ML models <a class=\"anchor\"  id=\"mlmodels\"></a>"
      ]
    },
    {
      "cell_type": "markdown",
      "metadata": {
        "id": "ga3Ks84_HRmz"
      },
      "source": [
        "## 3.1 - Model preparation <a class=\"anchor\"  id=\"modelprep\"></a>\n",
        "\n",
        "\n"
      ]
    },
    {
      "cell_type": "code",
      "execution_count": 23,
      "metadata": {
        "colab": {
          "base_uri": "https://localhost:8080/",
          "height": 206
        },
        "id": "grrGDGFbz2Du",
        "outputId": "8b4e7e2e-e495-48f7-925e-5c198dcf942e"
      },
      "outputs": [
        {
          "output_type": "execute_result",
          "data": {
            "text/plain": [
              "        age    gender    height    weight     ap_hi     ap_lo  cholesterol  \\\n",
              "0 -0.434227  1.366947  0.453582 -0.853029 -0.999477 -0.137142    -0.537143   \n",
              "1  0.309323 -0.731557 -1.063527  0.772526  0.799796  0.923664     2.408948   \n",
              "2 -0.246212 -0.731557  0.074304 -0.711677  0.200039 -1.197948     2.408948   \n",
              "3 -0.746234  1.366947  0.580007  0.560497  1.399554  1.984469    -0.537143   \n",
              "4 -0.806609 -0.731557 -1.063527 -1.277087 -1.599234 -2.258753    -0.537143   \n",
              "\n",
              "   gluc  smoke  alco  active  cardio       BMI  \n",
              "0     1      0     0       1       0 -1.047959  \n",
              "1     1      0     0       1       1  1.437575  \n",
              "2     1      0     0       0       1 -0.758943  \n",
              "3     1      0     0       1       1  0.242977  \n",
              "4     1      0     0       0       0 -0.855282  "
            ],
            "text/html": [
              "\n",
              "  <div id=\"df-496924d5-c91f-4ce8-b0c1-2af58c1c0e52\">\n",
              "    <div class=\"colab-df-container\">\n",
              "      <div>\n",
              "<style scoped>\n",
              "    .dataframe tbody tr th:only-of-type {\n",
              "        vertical-align: middle;\n",
              "    }\n",
              "\n",
              "    .dataframe tbody tr th {\n",
              "        vertical-align: top;\n",
              "    }\n",
              "\n",
              "    .dataframe thead th {\n",
              "        text-align: right;\n",
              "    }\n",
              "</style>\n",
              "<table border=\"1\" class=\"dataframe\">\n",
              "  <thead>\n",
              "    <tr style=\"text-align: right;\">\n",
              "      <th></th>\n",
              "      <th>age</th>\n",
              "      <th>gender</th>\n",
              "      <th>height</th>\n",
              "      <th>weight</th>\n",
              "      <th>ap_hi</th>\n",
              "      <th>ap_lo</th>\n",
              "      <th>cholesterol</th>\n",
              "      <th>gluc</th>\n",
              "      <th>smoke</th>\n",
              "      <th>alco</th>\n",
              "      <th>active</th>\n",
              "      <th>cardio</th>\n",
              "      <th>BMI</th>\n",
              "    </tr>\n",
              "  </thead>\n",
              "  <tbody>\n",
              "    <tr>\n",
              "      <th>0</th>\n",
              "      <td>-0.434227</td>\n",
              "      <td>1.366947</td>\n",
              "      <td>0.453582</td>\n",
              "      <td>-0.853029</td>\n",
              "      <td>-0.999477</td>\n",
              "      <td>-0.137142</td>\n",
              "      <td>-0.537143</td>\n",
              "      <td>1</td>\n",
              "      <td>0</td>\n",
              "      <td>0</td>\n",
              "      <td>1</td>\n",
              "      <td>0</td>\n",
              "      <td>-1.047959</td>\n",
              "    </tr>\n",
              "    <tr>\n",
              "      <th>1</th>\n",
              "      <td>0.309323</td>\n",
              "      <td>-0.731557</td>\n",
              "      <td>-1.063527</td>\n",
              "      <td>0.772526</td>\n",
              "      <td>0.799796</td>\n",
              "      <td>0.923664</td>\n",
              "      <td>2.408948</td>\n",
              "      <td>1</td>\n",
              "      <td>0</td>\n",
              "      <td>0</td>\n",
              "      <td>1</td>\n",
              "      <td>1</td>\n",
              "      <td>1.437575</td>\n",
              "    </tr>\n",
              "    <tr>\n",
              "      <th>2</th>\n",
              "      <td>-0.246212</td>\n",
              "      <td>-0.731557</td>\n",
              "      <td>0.074304</td>\n",
              "      <td>-0.711677</td>\n",
              "      <td>0.200039</td>\n",
              "      <td>-1.197948</td>\n",
              "      <td>2.408948</td>\n",
              "      <td>1</td>\n",
              "      <td>0</td>\n",
              "      <td>0</td>\n",
              "      <td>0</td>\n",
              "      <td>1</td>\n",
              "      <td>-0.758943</td>\n",
              "    </tr>\n",
              "    <tr>\n",
              "      <th>3</th>\n",
              "      <td>-0.746234</td>\n",
              "      <td>1.366947</td>\n",
              "      <td>0.580007</td>\n",
              "      <td>0.560497</td>\n",
              "      <td>1.399554</td>\n",
              "      <td>1.984469</td>\n",
              "      <td>-0.537143</td>\n",
              "      <td>1</td>\n",
              "      <td>0</td>\n",
              "      <td>0</td>\n",
              "      <td>1</td>\n",
              "      <td>1</td>\n",
              "      <td>0.242977</td>\n",
              "    </tr>\n",
              "    <tr>\n",
              "      <th>4</th>\n",
              "      <td>-0.806609</td>\n",
              "      <td>-0.731557</td>\n",
              "      <td>-1.063527</td>\n",
              "      <td>-1.277087</td>\n",
              "      <td>-1.599234</td>\n",
              "      <td>-2.258753</td>\n",
              "      <td>-0.537143</td>\n",
              "      <td>1</td>\n",
              "      <td>0</td>\n",
              "      <td>0</td>\n",
              "      <td>0</td>\n",
              "      <td>0</td>\n",
              "      <td>-0.855282</td>\n",
              "    </tr>\n",
              "  </tbody>\n",
              "</table>\n",
              "</div>\n",
              "      <button class=\"colab-df-convert\" onclick=\"convertToInteractive('df-496924d5-c91f-4ce8-b0c1-2af58c1c0e52')\"\n",
              "              title=\"Convert this dataframe to an interactive table.\"\n",
              "              style=\"display:none;\">\n",
              "        \n",
              "  <svg xmlns=\"http://www.w3.org/2000/svg\" height=\"24px\"viewBox=\"0 0 24 24\"\n",
              "       width=\"24px\">\n",
              "    <path d=\"M0 0h24v24H0V0z\" fill=\"none\"/>\n",
              "    <path d=\"M18.56 5.44l.94 2.06.94-2.06 2.06-.94-2.06-.94-.94-2.06-.94 2.06-2.06.94zm-11 1L8.5 8.5l.94-2.06 2.06-.94-2.06-.94L8.5 2.5l-.94 2.06-2.06.94zm10 10l.94 2.06.94-2.06 2.06-.94-2.06-.94-.94-2.06-.94 2.06-2.06.94z\"/><path d=\"M17.41 7.96l-1.37-1.37c-.4-.4-.92-.59-1.43-.59-.52 0-1.04.2-1.43.59L10.3 9.45l-7.72 7.72c-.78.78-.78 2.05 0 2.83L4 21.41c.39.39.9.59 1.41.59.51 0 1.02-.2 1.41-.59l7.78-7.78 2.81-2.81c.8-.78.8-2.07 0-2.86zM5.41 20L4 18.59l7.72-7.72 1.47 1.35L5.41 20z\"/>\n",
              "  </svg>\n",
              "      </button>\n",
              "      \n",
              "  <style>\n",
              "    .colab-df-container {\n",
              "      display:flex;\n",
              "      flex-wrap:wrap;\n",
              "      gap: 12px;\n",
              "    }\n",
              "\n",
              "    .colab-df-convert {\n",
              "      background-color: #E8F0FE;\n",
              "      border: none;\n",
              "      border-radius: 50%;\n",
              "      cursor: pointer;\n",
              "      display: none;\n",
              "      fill: #1967D2;\n",
              "      height: 32px;\n",
              "      padding: 0 0 0 0;\n",
              "      width: 32px;\n",
              "    }\n",
              "\n",
              "    .colab-df-convert:hover {\n",
              "      background-color: #E2EBFA;\n",
              "      box-shadow: 0px 1px 2px rgba(60, 64, 67, 0.3), 0px 1px 3px 1px rgba(60, 64, 67, 0.15);\n",
              "      fill: #174EA6;\n",
              "    }\n",
              "\n",
              "    [theme=dark] .colab-df-convert {\n",
              "      background-color: #3B4455;\n",
              "      fill: #D2E3FC;\n",
              "    }\n",
              "\n",
              "    [theme=dark] .colab-df-convert:hover {\n",
              "      background-color: #434B5C;\n",
              "      box-shadow: 0px 1px 3px 1px rgba(0, 0, 0, 0.15);\n",
              "      filter: drop-shadow(0px 1px 2px rgba(0, 0, 0, 0.3));\n",
              "      fill: #FFFFFF;\n",
              "    }\n",
              "  </style>\n",
              "\n",
              "      <script>\n",
              "        const buttonEl =\n",
              "          document.querySelector('#df-496924d5-c91f-4ce8-b0c1-2af58c1c0e52 button.colab-df-convert');\n",
              "        buttonEl.style.display =\n",
              "          google.colab.kernel.accessAllowed ? 'block' : 'none';\n",
              "\n",
              "        async function convertToInteractive(key) {\n",
              "          const element = document.querySelector('#df-496924d5-c91f-4ce8-b0c1-2af58c1c0e52');\n",
              "          const dataTable =\n",
              "            await google.colab.kernel.invokeFunction('convertToInteractive',\n",
              "                                                     [key], {});\n",
              "          if (!dataTable) return;\n",
              "\n",
              "          const docLinkHtml = 'Like what you see? Visit the ' +\n",
              "            '<a target=\"_blank\" href=https://colab.research.google.com/notebooks/data_table.ipynb>data table notebook</a>'\n",
              "            + ' to learn more about interactive tables.';\n",
              "          element.innerHTML = '';\n",
              "          dataTable['output_type'] = 'display_data';\n",
              "          await google.colab.output.renderOutput(dataTable, element);\n",
              "          const docLink = document.createElement('div');\n",
              "          docLink.innerHTML = docLinkHtml;\n",
              "          element.appendChild(docLink);\n",
              "        }\n",
              "      </script>\n",
              "    </div>\n",
              "  </div>\n",
              "  "
            ]
          },
          "metadata": {},
          "execution_count": 23
        }
      ],
      "source": [
        "#Standardization\n",
        "dataset_scaled=dataset_cleaned.copy()\n",
        "\n",
        "columns_to_scale = ['age', 'weight', 'ap_hi', 'ap_lo','cholesterol','gender','BMI','height']\n",
        "\n",
        "scaler = StandardScaler()\n",
        "dataset_scaled[columns_to_scale] = scaler.fit_transform(dataset_cleaned[columns_to_scale])\n",
        "\n",
        "dataset_scaled.head()"
      ]
    },
    {
      "cell_type": "markdown",
      "metadata": {
        "id": "xvKNTkk4U7iB"
      },
      "source": [
        "The Minmax Scaler offers a different way of normalizing the features. "
      ]
    },
    {
      "cell_type": "code",
      "execution_count": 24,
      "metadata": {
        "colab": {
          "base_uri": "https://localhost:8080/",
          "height": 206
        },
        "id": "CEBqwhSOU6SB",
        "outputId": "f9666d13-1853-41d9-f07c-73e084a5e2c7"
      },
      "outputs": [
        {
          "output_type": "execute_result",
          "data": {
            "text/plain": [
              "        age  gender    height    weight     ap_hi     ap_lo  cholesterol  \\\n",
              "0  0.588076     1.0  0.585106  0.246377  0.277778  0.454545          0.0   \n",
              "1  0.730159     0.0  0.457447  0.413043  0.444444  0.545455          1.0   \n",
              "2  0.624003     0.0  0.553191  0.260870  0.388889  0.363636          1.0   \n",
              "3  0.528455     1.0  0.595745  0.391304  0.500000  0.636364          0.0   \n",
              "4  0.516918     0.0  0.457447  0.202899  0.222222  0.272727          0.0   \n",
              "\n",
              "   gluc  smoke  alco  active  cardio       BMI  \n",
              "0     1      0     0       1       0  0.231557  \n",
              "1     1      0     0       1       1  0.495902  \n",
              "2     1      0     0       0       1  0.262295  \n",
              "3     1      0     0       1       1  0.368852  \n",
              "4     1      0     0       0       0  0.252049  "
            ],
            "text/html": [
              "\n",
              "  <div id=\"df-e1394544-8e0d-4556-8ad4-1bb22cacf69c\">\n",
              "    <div class=\"colab-df-container\">\n",
              "      <div>\n",
              "<style scoped>\n",
              "    .dataframe tbody tr th:only-of-type {\n",
              "        vertical-align: middle;\n",
              "    }\n",
              "\n",
              "    .dataframe tbody tr th {\n",
              "        vertical-align: top;\n",
              "    }\n",
              "\n",
              "    .dataframe thead th {\n",
              "        text-align: right;\n",
              "    }\n",
              "</style>\n",
              "<table border=\"1\" class=\"dataframe\">\n",
              "  <thead>\n",
              "    <tr style=\"text-align: right;\">\n",
              "      <th></th>\n",
              "      <th>age</th>\n",
              "      <th>gender</th>\n",
              "      <th>height</th>\n",
              "      <th>weight</th>\n",
              "      <th>ap_hi</th>\n",
              "      <th>ap_lo</th>\n",
              "      <th>cholesterol</th>\n",
              "      <th>gluc</th>\n",
              "      <th>smoke</th>\n",
              "      <th>alco</th>\n",
              "      <th>active</th>\n",
              "      <th>cardio</th>\n",
              "      <th>BMI</th>\n",
              "    </tr>\n",
              "  </thead>\n",
              "  <tbody>\n",
              "    <tr>\n",
              "      <th>0</th>\n",
              "      <td>0.588076</td>\n",
              "      <td>1.0</td>\n",
              "      <td>0.585106</td>\n",
              "      <td>0.246377</td>\n",
              "      <td>0.277778</td>\n",
              "      <td>0.454545</td>\n",
              "      <td>0.0</td>\n",
              "      <td>1</td>\n",
              "      <td>0</td>\n",
              "      <td>0</td>\n",
              "      <td>1</td>\n",
              "      <td>0</td>\n",
              "      <td>0.231557</td>\n",
              "    </tr>\n",
              "    <tr>\n",
              "      <th>1</th>\n",
              "      <td>0.730159</td>\n",
              "      <td>0.0</td>\n",
              "      <td>0.457447</td>\n",
              "      <td>0.413043</td>\n",
              "      <td>0.444444</td>\n",
              "      <td>0.545455</td>\n",
              "      <td>1.0</td>\n",
              "      <td>1</td>\n",
              "      <td>0</td>\n",
              "      <td>0</td>\n",
              "      <td>1</td>\n",
              "      <td>1</td>\n",
              "      <td>0.495902</td>\n",
              "    </tr>\n",
              "    <tr>\n",
              "      <th>2</th>\n",
              "      <td>0.624003</td>\n",
              "      <td>0.0</td>\n",
              "      <td>0.553191</td>\n",
              "      <td>0.260870</td>\n",
              "      <td>0.388889</td>\n",
              "      <td>0.363636</td>\n",
              "      <td>1.0</td>\n",
              "      <td>1</td>\n",
              "      <td>0</td>\n",
              "      <td>0</td>\n",
              "      <td>0</td>\n",
              "      <td>1</td>\n",
              "      <td>0.262295</td>\n",
              "    </tr>\n",
              "    <tr>\n",
              "      <th>3</th>\n",
              "      <td>0.528455</td>\n",
              "      <td>1.0</td>\n",
              "      <td>0.595745</td>\n",
              "      <td>0.391304</td>\n",
              "      <td>0.500000</td>\n",
              "      <td>0.636364</td>\n",
              "      <td>0.0</td>\n",
              "      <td>1</td>\n",
              "      <td>0</td>\n",
              "      <td>0</td>\n",
              "      <td>1</td>\n",
              "      <td>1</td>\n",
              "      <td>0.368852</td>\n",
              "    </tr>\n",
              "    <tr>\n",
              "      <th>4</th>\n",
              "      <td>0.516918</td>\n",
              "      <td>0.0</td>\n",
              "      <td>0.457447</td>\n",
              "      <td>0.202899</td>\n",
              "      <td>0.222222</td>\n",
              "      <td>0.272727</td>\n",
              "      <td>0.0</td>\n",
              "      <td>1</td>\n",
              "      <td>0</td>\n",
              "      <td>0</td>\n",
              "      <td>0</td>\n",
              "      <td>0</td>\n",
              "      <td>0.252049</td>\n",
              "    </tr>\n",
              "  </tbody>\n",
              "</table>\n",
              "</div>\n",
              "      <button class=\"colab-df-convert\" onclick=\"convertToInteractive('df-e1394544-8e0d-4556-8ad4-1bb22cacf69c')\"\n",
              "              title=\"Convert this dataframe to an interactive table.\"\n",
              "              style=\"display:none;\">\n",
              "        \n",
              "  <svg xmlns=\"http://www.w3.org/2000/svg\" height=\"24px\"viewBox=\"0 0 24 24\"\n",
              "       width=\"24px\">\n",
              "    <path d=\"M0 0h24v24H0V0z\" fill=\"none\"/>\n",
              "    <path d=\"M18.56 5.44l.94 2.06.94-2.06 2.06-.94-2.06-.94-.94-2.06-.94 2.06-2.06.94zm-11 1L8.5 8.5l.94-2.06 2.06-.94-2.06-.94L8.5 2.5l-.94 2.06-2.06.94zm10 10l.94 2.06.94-2.06 2.06-.94-2.06-.94-.94-2.06-.94 2.06-2.06.94z\"/><path d=\"M17.41 7.96l-1.37-1.37c-.4-.4-.92-.59-1.43-.59-.52 0-1.04.2-1.43.59L10.3 9.45l-7.72 7.72c-.78.78-.78 2.05 0 2.83L4 21.41c.39.39.9.59 1.41.59.51 0 1.02-.2 1.41-.59l7.78-7.78 2.81-2.81c.8-.78.8-2.07 0-2.86zM5.41 20L4 18.59l7.72-7.72 1.47 1.35L5.41 20z\"/>\n",
              "  </svg>\n",
              "      </button>\n",
              "      \n",
              "  <style>\n",
              "    .colab-df-container {\n",
              "      display:flex;\n",
              "      flex-wrap:wrap;\n",
              "      gap: 12px;\n",
              "    }\n",
              "\n",
              "    .colab-df-convert {\n",
              "      background-color: #E8F0FE;\n",
              "      border: none;\n",
              "      border-radius: 50%;\n",
              "      cursor: pointer;\n",
              "      display: none;\n",
              "      fill: #1967D2;\n",
              "      height: 32px;\n",
              "      padding: 0 0 0 0;\n",
              "      width: 32px;\n",
              "    }\n",
              "\n",
              "    .colab-df-convert:hover {\n",
              "      background-color: #E2EBFA;\n",
              "      box-shadow: 0px 1px 2px rgba(60, 64, 67, 0.3), 0px 1px 3px 1px rgba(60, 64, 67, 0.15);\n",
              "      fill: #174EA6;\n",
              "    }\n",
              "\n",
              "    [theme=dark] .colab-df-convert {\n",
              "      background-color: #3B4455;\n",
              "      fill: #D2E3FC;\n",
              "    }\n",
              "\n",
              "    [theme=dark] .colab-df-convert:hover {\n",
              "      background-color: #434B5C;\n",
              "      box-shadow: 0px 1px 3px 1px rgba(0, 0, 0, 0.15);\n",
              "      filter: drop-shadow(0px 1px 2px rgba(0, 0, 0, 0.3));\n",
              "      fill: #FFFFFF;\n",
              "    }\n",
              "  </style>\n",
              "\n",
              "      <script>\n",
              "        const buttonEl =\n",
              "          document.querySelector('#df-e1394544-8e0d-4556-8ad4-1bb22cacf69c button.colab-df-convert');\n",
              "        buttonEl.style.display =\n",
              "          google.colab.kernel.accessAllowed ? 'block' : 'none';\n",
              "\n",
              "        async function convertToInteractive(key) {\n",
              "          const element = document.querySelector('#df-e1394544-8e0d-4556-8ad4-1bb22cacf69c');\n",
              "          const dataTable =\n",
              "            await google.colab.kernel.invokeFunction('convertToInteractive',\n",
              "                                                     [key], {});\n",
              "          if (!dataTable) return;\n",
              "\n",
              "          const docLinkHtml = 'Like what you see? Visit the ' +\n",
              "            '<a target=\"_blank\" href=https://colab.research.google.com/notebooks/data_table.ipynb>data table notebook</a>'\n",
              "            + ' to learn more about interactive tables.';\n",
              "          element.innerHTML = '';\n",
              "          dataTable['output_type'] = 'display_data';\n",
              "          await google.colab.output.renderOutput(dataTable, element);\n",
              "          const docLink = document.createElement('div');\n",
              "          docLink.innerHTML = docLinkHtml;\n",
              "          element.appendChild(docLink);\n",
              "        }\n",
              "      </script>\n",
              "    </div>\n",
              "  </div>\n",
              "  "
            ]
          },
          "metadata": {},
          "execution_count": 24
        }
      ],
      "source": [
        "#Standardization\n",
        "dataset_scaled_mm=dataset_cleaned.copy()\n",
        "\n",
        "columns_to_scale_mm = ['age', 'weight', 'ap_hi', 'ap_lo','cholesterol','gender','BMI','height']\n",
        "\n",
        "mmscaler = MinMaxScaler()\n",
        "dataset_scaled_mm[columns_to_scale_mm] = mmscaler.fit_transform(dataset_cleaned[columns_to_scale_mm])\n",
        "\n",
        "dataset_scaled_mm.head()"
      ]
    },
    {
      "cell_type": "markdown",
      "metadata": {
        "id": "xgNldrX67t7S"
      },
      "source": [
        "\n",
        "\n",
        "---\n",
        "\n",
        "\n",
        "**Train test split**\n",
        "\n",
        "split ratio 80:2"
      ]
    },
    {
      "cell_type": "code",
      "execution_count": 25,
      "metadata": {
        "colab": {
          "base_uri": "https://localhost:8080/"
        },
        "id": "WCPmYz5Jfkzg",
        "outputId": "94438eeb-8647-43a4-8c6c-d9e8a46de9d3"
      },
      "outputs": [
        {
          "output_type": "stream",
          "name": "stdout",
          "text": [
            "X_train shape is  (54867, 12)\n",
            "X_test shape is  (13717, 12)\n",
            "y_train shape is  (54867,)\n",
            "y_test shape is  (13717,)\n"
          ]
        }
      ],
      "source": [
        "#Train-test-split for non-scaled data\n",
        "X = dataset_cleaned.drop(['cardio'], axis=1) #features \n",
        "y = dataset_cleaned['cardio']  #target feature\n",
        "\n",
        "X_train, X_test, y_train, y_test = train_test_split(X, y, test_size=0.2, random_state=42, shuffle = True)\n",
        "\n",
        "\n",
        "#Train-test-split for scaled data\n",
        "X_scaled = dataset_scaled.drop(['cardio'], axis=1) #features \n",
        "y_scaled = dataset_scaled['cardio']  #target feature\n",
        "\n",
        "X_scaled_mm = dataset_scaled_mm.drop(['cardio'], axis=1) #features \n",
        "y_scaled_mm = dataset_scaled_mm['cardio']  #target feature\n",
        "\n",
        "X_train_scaled, X_test_scaled, y_train_scaled, y_test_scaled = train_test_split(X_scaled, y_scaled, test_size=0.2, random_state=42, shuffle = True)\n",
        "X_train_scaled_mm, X_test_scaled_mm, y_train_scaled_mm, y_test_scaled_mm = train_test_split(X_scaled_mm, y_scaled_mm, test_size=0.2, random_state=42, shuffle = True)\n",
        "\n",
        "\n",
        "#Splitted Data\n",
        "print('X_train shape is ' , X_train.shape)\n",
        "print('X_test shape is ' , X_test.shape)\n",
        "print('y_train shape is ' , y_train.shape)\n",
        "print('y_test shape is ' , y_test.shape)"
      ]
    },
    {
      "cell_type": "markdown",
      "metadata": {
        "id": "UVtMlz97JQMj"
      },
      "source": [
        "## 3.2 - K-Nearest Neighbors <a class=\"anchor\"  id=\"knn\"></a>\n",
        "\n",
        "K-nearest neighbors (KNN) is a popular machine learning technique for classification tasks. This method classifies an observation by evaluating the K closest neighbors and selecting the class that appears most frequently among those neighbors.\n",
        "\n"
      ]
    },
    {
      "cell_type": "markdown",
      "metadata": {
        "id": "E-AIUzdtJbeB"
      },
      "source": [
        "### 3.2.1 Basic Model \n",
        "\n",
        "- Calculate some reference values for different values of K\n",
        "- Using unscaled data \n",
        "- Similar weighting of all features \n",
        "  (unscaled data weights features in itself)  \n",
        "- Considering every feature\n",
        "\n",
        "Values for K:\n",
        " 1, 5, 10, 20, 30, 40, 50\n",
        "\n",
        "K-value that results in highest accuracy is used for further optimizing the model."
      ]
    },
    {
      "cell_type": "code",
      "execution_count": 26,
      "metadata": {
        "colab": {
          "base_uri": "https://localhost:8080/"
        },
        "id": "AKIHnBAGJuOQ",
        "outputId": "a3eec643-65fc-4154-aecd-d7fef92a8e11"
      },
      "outputs": [
        {
          "output_type": "stream",
          "name": "stdout",
          "text": [
            "Accuracy for K = 1 nearest Neighbors:  0.6324998177444048\n",
            "Accuracy for K = 5 nearest Neighbors:  0.686155864985055\n",
            "Accuracy for K = 10 nearest Neighbors:  0.7071517095574834\n",
            "Accuracy for K = 20 nearest Neighbors:  0.7149522490340453\n",
            "Accuracy for K = 30 nearest Neighbors:  0.7191076766056718\n",
            "Accuracy for K = 40 nearest Neighbors:  0.7224611795582124\n",
            "Accuracy for K = 50 nearest Neighbors:  0.7234089086534956\n"
          ]
        }
      ],
      "source": [
        "# Creating classifiers for every value of K\n",
        "classifiers = []\n",
        "nb_neighbor = [1, 5, 10, 20, 30, 40, 50]\n",
        "for i in range(len(nb_neighbor)):\n",
        "    classifiers.append(KNeighborsClassifier(nb_neighbor[i]))\n",
        "\n",
        "# Initializing the lists for accuracy, true positive rate and true negative rate\n",
        "# Later used to compare the classifiers for different values of K\n",
        "score_list = []\n",
        "true_positive = []\n",
        "true_negative = []\n",
        "\n",
        "# Fitting the training dataset for every classifier and calculating metrics\n",
        "\n",
        "index = 0\n",
        "for clf in classifiers: \n",
        "    clf.fit(X_train,y_train)\n",
        "\n",
        "    score = clf.score(X_test, y_test)    \n",
        "    y_pred = clf.predict(X_test)\n",
        "    \n",
        "    print(f\"Accuracy for K =\", nb_neighbor[index] ,\"nearest Neighbors: \",  accuracy_score(y_test, y_pred))\n",
        "\n",
        "    \n",
        "    cm = confusion_matrix(y_test, y_pred) # Confusion matrix  \n",
        "\n",
        "    score_list.append(score)\n",
        "    true_positive.append(cm[1][1])\n",
        "    true_negative.append(cm[0][0])\n",
        "    \n",
        "    index = index + 1\n",
        "\n",
        "\n"
      ]
    },
    {
      "cell_type": "code",
      "execution_count": 27,
      "metadata": {
        "colab": {
          "base_uri": "https://localhost:8080/",
          "height": 458
        },
        "id": "hJt6I_hvLJUw",
        "outputId": "9ae4cc5a-4d82-46b7-e216-252316911fc0"
      },
      "outputs": [
        {
          "output_type": "display_data",
          "data": {
            "text/plain": [
              "<Figure size 1080x504 with 1 Axes>"
            ],
            "image/png": "[encoded data removed]"
          },
          "metadata": {
            "needs_background": "light"
          }
        }
      ],
      "source": [
        "# Visualization of the results\n",
        "plt.figure(figsize=(15, 7))\n",
        "ax = ax\n",
        "score_list = np.array(score_list)\n",
        "score_list_plot = score_list * 100\n",
        "true_positive_plot = np.array(true_positive)/sum(y_test) * 100\n",
        "true_negative_plot = np.array(true_negative)/(len(y_test)-sum(y_test)) * 100\n",
        "plt.plot(nb_neighbor, score_list_plot,  'r-')\n",
        "plt.plot(nb_neighbor, true_positive_plot, 'b:')\n",
        "plt.plot(nb_neighbor, true_negative_plot, 'g:')\n",
        "plt.scatter(nb_neighbor, score_list_plot)\n",
        "plt.scatter(nb_neighbor, true_positive_plot)\n",
        "plt.scatter(nb_neighbor, true_negative_plot)\n",
        "for x,y in zip(nb_neighbor,score_list_plot):\n",
        "\n",
        "    label = \"{:.2f}\".format(y)\n",
        "\n",
        "    plt.annotate(str(round(y, 2)), # this is the text\n",
        "                 (x,y), # these are the coordinates to position the label\n",
        "                 textcoords=\"offset points\", # how to position the text\n",
        "                 xytext=(0,10), # distance from text to points (x,y)\n",
        "                 ha='center')\n",
        "\n",
        "plt.ylim(min(score_list_plot)* 0.975, max(score_list_plot)*1.1)\n",
        "plt.xlabel('Number of neighbors')\n",
        "plt.ylabel('Score [%]')\n",
        "plt.title('KNN Classifier')\n",
        "plt.legend(['Accuracy', 'Sensitivity', 'Specificity'])\n",
        "plt.grid(True)\n",
        "plt.show()\n"
      ]
    },
    {
      "cell_type": "markdown",
      "metadata": {
        "id": "RZv3mwnYU-Cm"
      },
      "source": [
        "### 3.2.2 Feature Subset Selection <a class=\"anchor\"  id=\"knn2\"></a>\n",
        "\n",
        "To enhance the performance of our model, we will conduct a feature subset selection process using the top-performing KNN classifier from our initial model. We have already explored both forward and backward stepwise selection methods, and determined that backward stepwise selection yields higher accuracy. As such, we will employ this technique in this section.\n"
      ]
    },
    {
      "cell_type": "code",
      "execution_count": 28,
      "metadata": {
        "colab": {
          "base_uri": "https://localhost:8080/"
        },
        "id": "TWRoRNKjTp5f",
        "outputId": "fb71adca-2a03-476c-8aca-2cec8f1af692"
      },
      "outputs": [
        {
          "output_type": "stream",
          "name": "stdout",
          "text": [
            "The highest accuracy of: 72.34 % is achieved when considering 50 Neighbors\n"
          ]
        }
      ],
      "source": [
        "# Find K with highest accuracy\n",
        "max_score = max(score_list)\n",
        "max_index = np.argmax(score_list)\n",
        "\n",
        "max_nb_neighbor = nb_neighbor[max_index]\n",
        "\n",
        "\n",
        "max_score_temp = max_score\n",
        "opt_temp_classifier = KNeighborsClassifier(max_nb_neighbor)\n",
        "\n",
        "print(f'The highest accuracy of:', round(max_score,4)*100, '% is achieved when considering', max_nb_neighbor, 'Neighbors')"
      ]
    },
    {
      "cell_type": "markdown",
      "metadata": {
        "id": "RBWwXPJ8BmLR"
      },
      "source": [
        "We are using a method called KNN to classify data, which relies on measuring distances between points. To make sure the method works well, we need to scale the data using a specific method called MinMax scaling. We also found that giving more weight to certain features that are more important can make the method work even better."
      ]
    },
    {
      "cell_type": "code",
      "execution_count": 29,
      "metadata": {
        "id": "9OwHZtgb_LGI"
      },
      "outputs": [],
      "source": [
        "# BACKWARD STEPWISE SELECTION\n",
        "all_features = dataset_scaled_mm.columns\n",
        "all_features = all_features.drop(['cardio'])\n",
        "\n",
        "# weighting features based on the correlation with cardio\n",
        "corr_list = dataset_scaled_mm.corrwith(dataset_scaled_mm['cardio'])\n",
        "corr_list.drop(['cardio'], inplace = True)\n",
        "for column in all_features:\n",
        "    X_scaled_mm[column] = X_scaled_mm[column] * np.abs(corr_list[column])\n",
        "\n",
        "label_column = 'cardio'\n",
        "feature_columns = [c for c in dataset_cleaned.columns if c != label_column]\n",
        "\n",
        "clf_KNN_BSS = KNeighborsClassifier(max_nb_neighbor)\n",
        "kfold = KFold(n_splits=5, shuffle=True, random_state=0)\n",
        "\n"
      ]
    },
    {
      "cell_type": "code",
      "execution_count": 30,
      "metadata": {
        "id": "-0OQNOS3-M3j"
      },
      "outputs": [],
      "source": [
        "def get_base_acc(y): # Calculating the base accuracy (using the median)\n",
        "    predictions = [np.median(y)] * len(y)\n",
        "    return accuracy_score(y, predictions)\n",
        "\n",
        "\n",
        "def k_fold_acc(X, y, classifier, kfold): # Performing a k-fold cross validation (k=5)\n",
        "    scores = cross_validate(classifier, X, y, scoring = 'accuracy', cv = kfold)\n",
        "    return np.mean(scores['test_score']) "
      ]
    },
    {
      "cell_type": "code",
      "execution_count": 31,
      "metadata": {
        "id": "1AUKnsOn-Qdl"
      },
      "outputs": [],
      "source": [
        "def backward_stepwise_selection(X, y, classifier, kfold, all_features): # Performing backward stepwise selection\n",
        "    current_acc = k_fold_acc(X, y, classifier, kfold)\n",
        "\n",
        "    current_features = np.arange(len(feature_columns)) \n",
        "    \n",
        "    best_acc = current_acc\n",
        "    best_features = current_features[:]\n",
        "    \n",
        "    # as long as there is at least one feature used\n",
        "    while len(current_features) > 0:\n",
        "\n",
        "        non_selected_feature = None\n",
        "        \n",
        "        # checking whether leaving out a feature improves the accuracy\n",
        "        for feature in current_features:\n",
        "\n",
        "            new_features = np.delete(current_features, np.where(current_features == feature))\n",
        "            \n",
        "            acc = k_fold_acc(X[all_features[new_features]], y, classifier, kfold)\n",
        "            \n",
        "            # non_selected feature leads to highest increase in accuracy\n",
        "            if acc > current_acc:\n",
        "                non_selected_feature = feature\n",
        "                current_acc = acc\n",
        "        \n",
        "        # Deleting non_selected feature, if there is one that improves the accuracy when being left out\n",
        "        if non_selected_feature is not None:\n",
        "\n",
        "            current_features = np.delete(current_features, np.where(current_features == non_selected_feature))\n",
        "        else:\n",
        "            # Otherwise terminate and leave while-loop\n",
        "            break\n",
        "    \n",
        "    # returning the features that are still in the model\n",
        "    if current_acc > get_base_acc(y):\n",
        "\n",
        "        return current_features, current_acc\n",
        "    else:\n",
        "      \n",
        "        return [], get_base_acc(y)\n",
        "    "
      ]
    },
    {
      "cell_type": "code",
      "execution_count": 32,
      "metadata": {
        "id": "CSm6AAKX-5kq"
      },
      "outputs": [],
      "source": [
        "# Calling the backward stepwise selection function\n",
        "features, accuracy = backward_stepwise_selection(X_scaled_mm, y_scaled_mm, clf_KNN_BSS, kfold, all_features)"
      ]
    },
    {
      "cell_type": "code",
      "execution_count": 33,
      "metadata": {
        "colab": {
          "base_uri": "https://localhost:8080/"
        },
        "id": "bMC8KgCsVaFP",
        "outputId": "29a0cd53-838d-4e9f-ec90-032cf1ecd207"
      },
      "outputs": [
        {
          "output_type": "stream",
          "name": "stdout",
          "text": [
            "Selected features:\n",
            "\tage\n",
            "\tgender\n",
            "\theight\n",
            "\tweight\n",
            "\tap_hi\n",
            "\tap_lo\n",
            "\tcholesterol\n",
            "\tgluc\n",
            "\tsmoke\n",
            "\tactive\n",
            "\tBMI\n",
            "Features left out:\n",
            "\talco\n",
            "Accuracy of the selected model: 0.732\n"
          ]
        }
      ],
      "source": [
        "all_features = dataset_cleaned.columns\n",
        "all_features = all_features.drop(['cardio'])\n",
        "print(\"Selected features:\")\n",
        "for idx in sorted(features):\n",
        "    print(f\"\\t{all_features[idx]}\")\n",
        "\n",
        "print(\"Features left out:\")\n",
        "for idx in (set(range(len(feature_columns))) - set(features)):\n",
        "    print(f\"\\t{all_features[idx]}\")\n",
        "    \n",
        "print(f\"Accuracy of the selected model: {accuracy:.3f}\")\n",
        "\n",
        "\n"
      ]
    },
    {
      "cell_type": "markdown",
      "metadata": {
        "id": "22c8d6FB9irt"
      },
      "source": [
        "### 3.2.3 Hyperparameter Tuning <a class=\"anchor\"  id=\"knn3\"></a>\n",
        "We are making some changes to our KNN model to improve its accuracy. We will only consider a subset of values for K that we have tried before to find the best value. Also, we will only use the features that were selected through backward stepwise selection to improve the model.\n"
      ]
    },
    {
      "cell_type": "code",
      "execution_count": 34,
      "metadata": {
        "colab": {
          "base_uri": "https://localhost:8080/",
          "height": 698
        },
        "id": "sT5gH3BKQtSH",
        "outputId": "7816bc0f-4293-4eca-894d-9f370516f315"
      },
      "outputs": [
        {
          "output_type": "stream",
          "name": "stdout",
          "text": [
            "Accuracy for K = 1 nearest Neighbors:  0.6424145221258293\n",
            "Accuracy for K = 10 nearest Neighbors:  0.7140045199387621\n",
            "Accuracy for K = 25 nearest Neighbors:  0.7311365458919589\n",
            "Accuracy for K = 50 nearest Neighbors:  0.7325216884158343\n",
            "Accuracy for K = 100 nearest Neighbors:  0.7349274622730918\n",
            "Accuracy for K = 150 nearest Neighbors:  0.7355106801778815\n",
            "Accuracy for K = 200 nearest Neighbors:  0.7349274622730918\n",
            "Accuracy for K = 250 nearest Neighbors:  0.7351461689873879\n",
            "Accuracy for K = 300 nearest Neighbors:  0.7368229204636583\n",
            "Accuracy for K = 350 nearest Neighbors:  0.736385507035066\n",
            "Accuracy for K = 400 nearest Neighbors:  0.7363126047969673\n",
            "Accuracy for K = 450 nearest Neighbors:  0.7361668003207699\n",
            "Accuracy for K = 500 nearest Neighbors:  0.7374061383684479\n"
          ]
        },
        {
          "output_type": "display_data",
          "data": {
            "text/plain": [
              "<Figure size 1080x504 with 1 Axes>"
            ],
            "image/png": "[encoded data removed]"
          },
          "metadata": {
            "needs_background": "light"
          }
        }
      ],
      "source": [
        "# For each classifier declare the parameters\n",
        "classifiers = []\n",
        "nb_neighbor = [1, 10, 25, 50, 100, 150, 200, 250, 300, 350, 400, 450, 500]\n",
        "for i in range(len(nb_neighbor)):\n",
        "    classifiers.append(KNeighborsClassifier(n_neighbors = nb_neighbor[i]))\n",
        "\n",
        "\n",
        "# Only using the selected features\n",
        "dataset_selected = dataset_cleaned.copy()\n",
        "features_selected = [feature_columns[feature_i] for feature_i in range(len(feature_columns)) if feature_i in features]\n",
        "\n",
        "X_KNN = X_scaled_mm[features_selected]\n",
        "y_KNN = y_scaled_mm\n",
        "\n",
        "X_KNN_train, X_KNN_test, y_KNN_train, y_KNN_test = train_test_split(X_KNN, y_KNN, test_size=0.2, random_state=42, shuffle = True)\n",
        "\n",
        "accuracy_KNN = []\n",
        "true_positive_KNN = []\n",
        "true_negative_KNN = []\n",
        "\n",
        "index = 0\n",
        "for clf in classifiers: \n",
        "    clf.fit(X_KNN_train,y_KNN_train)\n",
        "\n",
        "    score = clf.score(X_KNN_test, y_KNN_test)    \n",
        "    y_KNN_pred = clf.predict(X_KNN_test)\n",
        "    \n",
        "    print(f\"Accuracy for K =\", nb_neighbor[index] ,\"nearest Neighbors: \",  accuracy_score(y_KNN_test, y_KNN_pred))\n",
        "\n",
        "    \n",
        "    cm = confusion_matrix(y_KNN_test, y_KNN_pred) # Confusion matrix  \n",
        "\n",
        "    accuracy_KNN.append(score)\n",
        "    true_positive_KNN.append(cm[1][1])\n",
        "    true_negative_KNN.append(cm[0][0])\n",
        "    \n",
        "    index = index + 1\n",
        "\n",
        "\n",
        "# Again plotting the metrics for every classifier\n",
        "plt.figure(figsize=(15, 7))\n",
        "ax = ax\n",
        "accuracy_KNN = np.array(accuracy_KNN)\n",
        "score_list_plot = accuracy_KNN * 100\n",
        "true_positive_plot = np.array(true_positive_KNN)/sum(y_test) * 100\n",
        "true_negative_plot = np.array(true_negative_KNN)/(len(y_test)-sum(y_test)) * 100\n",
        "plt.plot(nb_neighbor, score_list_plot,  'g')\n",
        "plt.plot(nb_neighbor, true_positive_plot, 'b')\n",
        "plt.plot(nb_neighbor, true_negative_plot, 'r-')\n",
        "plt.scatter(nb_neighbor, score_list_plot)\n",
        "plt.scatter(nb_neighbor, true_positive_plot)\n",
        "plt.scatter(nb_neighbor, true_negative_plot)\n",
        "for x,y in zip(nb_neighbor,score_list_plot):\n",
        "\n",
        "    label = \"{:.2f}\".format(y)\n",
        "\n",
        "    plt.annotate(str(round(y, 2)), # this is the text\n",
        "                 (x,y), # these are the coordinates to position the label\n",
        "                 textcoords=\"offset points\", # how to position the text\n",
        "                 xytext=(0,10), # distance from text to points (x,y)\n",
        "                 ha='center')\n",
        "\n",
        "plt.ylim(min(score_list_plot)* 0.975, max(score_list_plot)*1.1)\n",
        "plt.xlabel('Number of neighbors')\n",
        "plt.ylabel('Score [%]')\n",
        "plt.title('KNN Classifier')\n",
        "plt.legend(['Accuracy', 'True positive rate', 'True negative'])\n",
        "plt.grid(True)\n",
        "plt.show()\n",
        "\n"
      ]
    },
    {
      "cell_type": "code",
      "execution_count": 35,
      "metadata": {
        "colab": {
          "base_uri": "https://localhost:8080/"
        },
        "id": "ARpMDpp5YhP6",
        "outputId": "9451098f-a2c6-46f4-e981-5ff032bc3647"
      },
      "outputs": [
        {
          "output_type": "stream",
          "name": "stdout",
          "text": [
            "Accuracy = 0.7374061383684479\n",
            "True positive rate = 0.6839608656981915\n",
            "\n",
            " Confusion matrix \n",
            " \n",
            "\n",
            "              precision    recall  f1-score   support\n",
            "\n",
            "           0       0.72      0.79      0.75      6971\n",
            "           1       0.76      0.68      0.72      6746\n",
            "\n",
            "    accuracy                           0.74     13717\n",
            "   macro avg       0.74      0.74      0.74     13717\n",
            "weighted avg       0.74      0.74      0.74     13717\n",
            "\n"
          ]
        }
      ],
      "source": [
        "# Final Evaluation of KNN with \"optimal\" Classifier and subset of features\n",
        "max_score = max([accuracy_KNN])\n",
        "max_index = np.argmax(accuracy_KNN)\n",
        "\n",
        "n_neighbor_opt = nb_neighbor[max_index]\n",
        "\n",
        "opt_classifier_KNN = KNeighborsClassifier(n_neighbor_opt)\n",
        "best_model = opt_classifier_KNN.fit(X_KNN_train,y_KNN_train)\n",
        "y_KNN_pred = opt_classifier_KNN.predict(X_KNN_test)\n",
        "\n",
        " \n",
        "cm_KNN = confusion_matrix(y_KNN_test, y_KNN_pred) # Confusion matrix  \n",
        "true_positive_KNN = cm_KNN[1][1]/sum(y_test)\n",
        "accuracy_KNN = accuracy_score(y_KNN_test, y_KNN_pred)\n",
        "print('Accuracy =', accuracy_KNN)  \n",
        "print('True positive rate =', cm_KNN[1][1]/sum(y_test))  \n",
        "\n",
        "print('\\n Confusion matrix \\n \\n')\n",
        "print(classification_report(y_KNN_test, y_KNN_pred))\n",
        "\n",
        "# plot_confusion_matrix(opt_classifier_KNN, X_KNN_test, y_KNN_test)\n",
        "plt.show()\n"
      ]
    },
    {
      "cell_type": "code",
      "execution_count": 36,
      "metadata": {
        "colab": {
          "base_uri": "https://localhost:8080/",
          "height": 81
        },
        "id": "1K0dD8pViHOr",
        "outputId": "6d3422a2-3531-4c33-e977-203769a28243"
      },
      "outputs": [
        {
          "output_type": "execute_result",
          "data": {
            "text/plain": [
              "               Model  Accuracy  Sensitivity  Objective Value\n",
              "0   Nearest Neighbor  0.737406     0.683961         0.908396"
            ],
            "text/html": [
              "\n",
              "  <div id=\"df-4f3de4bb-5f72-4fdc-9e99-45bc6eae52da\">\n",
              "    <div class=\"colab-df-container\">\n",
              "      <div>\n",
              "<style scoped>\n",
              "    .dataframe tbody tr th:only-of-type {\n",
              "        vertical-align: middle;\n",
              "    }\n",
              "\n",
              "    .dataframe tbody tr th {\n",
              "        vertical-align: top;\n",
              "    }\n",
              "\n",
              "    .dataframe thead th {\n",
              "        text-align: right;\n",
              "    }\n",
              "</style>\n",
              "<table border=\"1\" class=\"dataframe\">\n",
              "  <thead>\n",
              "    <tr style=\"text-align: right;\">\n",
              "      <th></th>\n",
              "      <th>Model</th>\n",
              "      <th>Accuracy</th>\n",
              "      <th>Sensitivity</th>\n",
              "      <th>Objective Value</th>\n",
              "    </tr>\n",
              "  </thead>\n",
              "  <tbody>\n",
              "    <tr>\n",
              "      <th>0</th>\n",
              "      <td>Nearest Neighbor</td>\n",
              "      <td>0.737406</td>\n",
              "      <td>0.683961</td>\n",
              "      <td>0.908396</td>\n",
              "    </tr>\n",
              "  </tbody>\n",
              "</table>\n",
              "</div>\n",
              "      <button class=\"colab-df-convert\" onclick=\"convertToInteractive('df-4f3de4bb-5f72-4fdc-9e99-45bc6eae52da')\"\n",
              "              title=\"Convert this dataframe to an interactive table.\"\n",
              "              style=\"display:none;\">\n",
              "        \n",
              "  <svg xmlns=\"http://www.w3.org/2000/svg\" height=\"24px\"viewBox=\"0 0 24 24\"\n",
              "       width=\"24px\">\n",
              "    <path d=\"M0 0h24v24H0V0z\" fill=\"none\"/>\n",
              "    <path d=\"M18.56 5.44l.94 2.06.94-2.06 2.06-.94-2.06-.94-.94-2.06-.94 2.06-2.06.94zm-11 1L8.5 8.5l.94-2.06 2.06-.94-2.06-.94L8.5 2.5l-.94 2.06-2.06.94zm10 10l.94 2.06.94-2.06 2.06-.94-2.06-.94-.94-2.06-.94 2.06-2.06.94z\"/><path d=\"M17.41 7.96l-1.37-1.37c-.4-.4-.92-.59-1.43-.59-.52 0-1.04.2-1.43.59L10.3 9.45l-7.72 7.72c-.78.78-.78 2.05 0 2.83L4 21.41c.39.39.9.59 1.41.59.51 0 1.02-.2 1.41-.59l7.78-7.78 2.81-2.81c.8-.78.8-2.07 0-2.86zM5.41 20L4 18.59l7.72-7.72 1.47 1.35L5.41 20z\"/>\n",
              "  </svg>\n",
              "      </button>\n",
              "      \n",
              "  <style>\n",
              "    .colab-df-container {\n",
              "      display:flex;\n",
              "      flex-wrap:wrap;\n",
              "      gap: 12px;\n",
              "    }\n",
              "\n",
              "    .colab-df-convert {\n",
              "      background-color: #E8F0FE;\n",
              "      border: none;\n",
              "      border-radius: 50%;\n",
              "      cursor: pointer;\n",
              "      display: none;\n",
              "      fill: #1967D2;\n",
              "      height: 32px;\n",
              "      padding: 0 0 0 0;\n",
              "      width: 32px;\n",
              "    }\n",
              "\n",
              "    .colab-df-convert:hover {\n",
              "      background-color: #E2EBFA;\n",
              "      box-shadow: 0px 1px 2px rgba(60, 64, 67, 0.3), 0px 1px 3px 1px rgba(60, 64, 67, 0.15);\n",
              "      fill: #174EA6;\n",
              "    }\n",
              "\n",
              "    [theme=dark] .colab-df-convert {\n",
              "      background-color: #3B4455;\n",
              "      fill: #D2E3FC;\n",
              "    }\n",
              "\n",
              "    [theme=dark] .colab-df-convert:hover {\n",
              "      background-color: #434B5C;\n",
              "      box-shadow: 0px 1px 3px 1px rgba(0, 0, 0, 0.15);\n",
              "      filter: drop-shadow(0px 1px 2px rgba(0, 0, 0, 0.3));\n",
              "      fill: #FFFFFF;\n",
              "    }\n",
              "  </style>\n",
              "\n",
              "      <script>\n",
              "        const buttonEl =\n",
              "          document.querySelector('#df-4f3de4bb-5f72-4fdc-9e99-45bc6eae52da button.colab-df-convert');\n",
              "        buttonEl.style.display =\n",
              "          google.colab.kernel.accessAllowed ? 'block' : 'none';\n",
              "\n",
              "        async function convertToInteractive(key) {\n",
              "          const element = document.querySelector('#df-4f3de4bb-5f72-4fdc-9e99-45bc6eae52da');\n",
              "          const dataTable =\n",
              "            await google.colab.kernel.invokeFunction('convertToInteractive',\n",
              "                                                     [key], {});\n",
              "          if (!dataTable) return;\n",
              "\n",
              "          const docLinkHtml = 'Like what you see? Visit the ' +\n",
              "            '<a target=\"_blank\" href=https://colab.research.google.com/notebooks/data_table.ipynb>data table notebook</a>'\n",
              "            + ' to learn more about interactive tables.';\n",
              "          element.innerHTML = '';\n",
              "          dataTable['output_type'] = 'display_data';\n",
              "          await google.colab.output.renderOutput(dataTable, element);\n",
              "          const docLink = document.createElement('div');\n",
              "          docLink.innerHTML = docLinkHtml;\n",
              "          element.appendChild(docLink);\n",
              "        }\n",
              "      </script>\n",
              "    </div>\n",
              "  </div>\n",
              "  "
            ]
          },
          "metadata": {},
          "execution_count": 36
        }
      ],
      "source": [
        "#collect results\n",
        "tpr_weight = 0.25\n",
        "models = pd.DataFrame({\n",
        "    'Model': [' Nearest Neighbor'],\n",
        "    'Accuracy': [accuracy_KNN],\n",
        "                    \n",
        "    'Sensitivity' : [true_positive_KNN],\n",
        "    'Objective Value' : [accuracy_KNN+true_positive_KNN*tpr_weight] })\n",
        "\n",
        "models"
      ]
    },
    {
      "cell_type": "code",
      "execution_count": 37,
      "metadata": {
        "id": "_mjJ9kr97w8F"
      },
      "outputs": [],
      "source": [
        "#collect results for plotting\n",
        "df_plotting = pd.DataFrame({\n",
        "    'Model': [' Nearest Neighbor', \n",
        "              ' Nearest Neighbor'],\n",
        "    'Values': [accuracy_KNN,\n",
        "             true_positive_KNN],\n",
        "    'Type': ['Accuracy', \n",
        "             'Sensitivity'],\n",
        "    'Color': ['purple','purple']})"
      ]
    },
    {
      "cell_type": "code",
      "execution_count": 38,
      "metadata": {
        "colab": {
          "base_uri": "https://localhost:8080/",
          "height": 606
        },
        "id": "ZHI88LOKxJv6",
        "outputId": "fc315193-43ea-4e6d-ee85-1825e16bc625"
      },
      "outputs": [
        {
          "output_type": "display_data",
          "data": {
            "text/plain": [
              "<Figure size 720x720 with 1 Axes>"
            ],
            "image/png": "[encoded data removed]"
          },
          "metadata": {
            "needs_background": "light"
          }
        }
      ],
      "source": [
        "#plot result comparison\n",
        "plt.figure(figsize=(10,10))\n",
        "sns.barplot(y=df_plotting['Values'],x=df_plotting['Type'], hue=df_plotting['Model'], orient =\"v\", palette=df_plotting['Color'])\n",
        "plt.ylim(min(df_plotting['Values'])* 0.99, max(df_plotting['Values'])*1.01)\n",
        "#plt.gcf().set_size_inches(50,10)\n",
        "plt.show()"
      ]
    },
    {
      "cell_type": "code",
      "execution_count": 39,
      "metadata": {
        "colab": {
          "base_uri": "https://localhost:8080/",
          "height": 334
        },
        "id": "EKuiSdkygg0z",
        "outputId": "296fdab0-d32b-4900-f0a3-c6ab53e26d5c"
      },
      "outputs": [
        {
          "output_type": "display_data",
          "data": {
            "text/plain": [
              "<Figure size 360x360 with 1 Axes>"
            ],
            "image/png": "[encoded data removed]"
          },
          "metadata": {
            "needs_background": "light"
          }
        }
      ],
      "source": [
        "#plot result comparison\n",
        "plt.figure(figsize=(5,5))\n",
        "sns.barplot(y=models['Objective Value'],x=models['Model'], orient =\"v\", palette=df_plotting['Color'])\n",
        "#sns.barplot(y=models['Sensitivity'],x=models['Model'], orient =\"v\")\n",
        "plt.ylim(min(models['Objective Value'])* 0.9, max(models['Objective Value'])*1.01)\n",
        "#sns.despine()\n",
        "plt.show()"
      ]
    }
  ],
  "metadata": {
    "colab": {
      "provenance": [],
      "toc_visible": true
    },
    "kernelspec": {
      "display_name": "Python 3",
      "language": "python",
      "name": "python3"
    },
    "language_info": {
      "codemirror_mode": {
        "name": "ipython",
        "version": 3
      },
      "file_extension": ".py",
      "mimetype": "text/x-python",
      "name": "python",
      "nbconvert_exporter": "python",
      "pygments_lexer": "ipython3",
      "version": "3.7.12"
    }
  },
  "nbformat": 4,
  "nbformat_minor": 0
}